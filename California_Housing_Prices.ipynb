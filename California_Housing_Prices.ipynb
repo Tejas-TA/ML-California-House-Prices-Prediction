{
  "nbformat": 4,
  "nbformat_minor": 0,
  "metadata": {
    "kernelspec": {
      "display_name": "Python 3",
      "language": "python",
      "name": "python3"
    },
    "language_info": {
      "codemirror_mode": {
        "name": "ipython",
        "version": 3
      },
      "file_extension": ".py",
      "mimetype": "text/x-python",
      "name": "python",
      "nbconvert_exporter": "python",
      "pygments_lexer": "ipython3",
      "version": "3.7.8"
    },
    "colab": {
      "name": "California Housing Prices.ipynb",
      "provenance": []
    },
    "accelerator": "TPU"
  },
  "cells": [
    {
      "cell_type": "markdown",
      "metadata": {
        "id": "-1tbevuZExOf"
      },
      "source": [
        "\n",
        "\n",
        "> ## **California Housing Prices Prediction - Machine Learning**\n",
        "\n"
      ]
    },
    {
      "cell_type": "markdown",
      "metadata": {
        "id": "3zT5YKE6ExOg"
      },
      "source": [
        "### Exploratory Data Analysis (EDA)"
      ]
    },
    {
      "cell_type": "code",
      "metadata": {
        "colab": {
          "base_uri": "https://localhost:8080/"
        },
        "id": "llJRbIncGN9f",
        "outputId": "34f33638-6977-470b-b515-9c4de8c79de8"
      },
      "source": [
        "from google.colab import drive\n",
        "drive.mount('/content/drive')"
      ],
      "execution_count": 1,
      "outputs": [
        {
          "output_type": "stream",
          "text": [
            "Mounted at /content/drive\n"
          ],
          "name": "stdout"
        }
      ]
    },
    {
      "cell_type": "code",
      "metadata": {
        "id": "amLePjDeExOh"
      },
      "source": [
        "# Using pandas for Data Analysis and Data Manipulation\n",
        "import pandas as pd\n",
        "df = pd.read_csv(\"/content/drive/MyDrive/housing.csv\")"
      ],
      "execution_count": 2,
      "outputs": []
    },
    {
      "cell_type": "code",
      "metadata": {
        "colab": {
          "base_uri": "https://localhost:8080/",
          "height": 360
        },
        "id": "pJK1-fLnExOi",
        "outputId": "eae3374e-3b60-42a1-c1c1-cd8025f1bd14"
      },
      "source": [
        "#Examining first 10 values of all features\n",
        "df.head(10)"
      ],
      "execution_count": 3,
      "outputs": [
        {
          "output_type": "execute_result",
          "data": {
            "text/html": [
              "<div>\n",
              "<style scoped>\n",
              "    .dataframe tbody tr th:only-of-type {\n",
              "        vertical-align: middle;\n",
              "    }\n",
              "\n",
              "    .dataframe tbody tr th {\n",
              "        vertical-align: top;\n",
              "    }\n",
              "\n",
              "    .dataframe thead th {\n",
              "        text-align: right;\n",
              "    }\n",
              "</style>\n",
              "<table border=\"1\" class=\"dataframe\">\n",
              "  <thead>\n",
              "    <tr style=\"text-align: right;\">\n",
              "      <th></th>\n",
              "      <th>longitude</th>\n",
              "      <th>latitude</th>\n",
              "      <th>housing_median_age</th>\n",
              "      <th>total_rooms</th>\n",
              "      <th>total_bedrooms</th>\n",
              "      <th>population</th>\n",
              "      <th>households</th>\n",
              "      <th>median_income</th>\n",
              "      <th>ocean_proximity</th>\n",
              "      <th>median_house_value</th>\n",
              "    </tr>\n",
              "  </thead>\n",
              "  <tbody>\n",
              "    <tr>\n",
              "      <th>0</th>\n",
              "      <td>-122.23</td>\n",
              "      <td>37.88</td>\n",
              "      <td>41</td>\n",
              "      <td>880</td>\n",
              "      <td>129.0</td>\n",
              "      <td>322</td>\n",
              "      <td>126</td>\n",
              "      <td>8.3252</td>\n",
              "      <td>NEAR BAY</td>\n",
              "      <td>452600</td>\n",
              "    </tr>\n",
              "    <tr>\n",
              "      <th>1</th>\n",
              "      <td>-122.22</td>\n",
              "      <td>37.86</td>\n",
              "      <td>21</td>\n",
              "      <td>7099</td>\n",
              "      <td>1106.0</td>\n",
              "      <td>2401</td>\n",
              "      <td>1138</td>\n",
              "      <td>8.3014</td>\n",
              "      <td>NEAR BAY</td>\n",
              "      <td>358500</td>\n",
              "    </tr>\n",
              "    <tr>\n",
              "      <th>2</th>\n",
              "      <td>-122.24</td>\n",
              "      <td>37.85</td>\n",
              "      <td>52</td>\n",
              "      <td>1467</td>\n",
              "      <td>190.0</td>\n",
              "      <td>496</td>\n",
              "      <td>177</td>\n",
              "      <td>7.2574</td>\n",
              "      <td>NEAR BAY</td>\n",
              "      <td>352100</td>\n",
              "    </tr>\n",
              "    <tr>\n",
              "      <th>3</th>\n",
              "      <td>-122.25</td>\n",
              "      <td>37.85</td>\n",
              "      <td>52</td>\n",
              "      <td>1274</td>\n",
              "      <td>235.0</td>\n",
              "      <td>558</td>\n",
              "      <td>219</td>\n",
              "      <td>5.6431</td>\n",
              "      <td>NEAR BAY</td>\n",
              "      <td>341300</td>\n",
              "    </tr>\n",
              "    <tr>\n",
              "      <th>4</th>\n",
              "      <td>-122.25</td>\n",
              "      <td>37.85</td>\n",
              "      <td>52</td>\n",
              "      <td>1627</td>\n",
              "      <td>280.0</td>\n",
              "      <td>565</td>\n",
              "      <td>259</td>\n",
              "      <td>3.8462</td>\n",
              "      <td>NEAR BAY</td>\n",
              "      <td>342200</td>\n",
              "    </tr>\n",
              "    <tr>\n",
              "      <th>5</th>\n",
              "      <td>-122.25</td>\n",
              "      <td>37.85</td>\n",
              "      <td>52</td>\n",
              "      <td>919</td>\n",
              "      <td>213.0</td>\n",
              "      <td>413</td>\n",
              "      <td>193</td>\n",
              "      <td>4.0368</td>\n",
              "      <td>NEAR BAY</td>\n",
              "      <td>269700</td>\n",
              "    </tr>\n",
              "    <tr>\n",
              "      <th>6</th>\n",
              "      <td>-122.25</td>\n",
              "      <td>37.84</td>\n",
              "      <td>52</td>\n",
              "      <td>2535</td>\n",
              "      <td>489.0</td>\n",
              "      <td>1094</td>\n",
              "      <td>514</td>\n",
              "      <td>3.6591</td>\n",
              "      <td>NEAR BAY</td>\n",
              "      <td>299200</td>\n",
              "    </tr>\n",
              "    <tr>\n",
              "      <th>7</th>\n",
              "      <td>-122.25</td>\n",
              "      <td>37.84</td>\n",
              "      <td>52</td>\n",
              "      <td>3104</td>\n",
              "      <td>687.0</td>\n",
              "      <td>1157</td>\n",
              "      <td>647</td>\n",
              "      <td>3.1200</td>\n",
              "      <td>NEAR BAY</td>\n",
              "      <td>241400</td>\n",
              "    </tr>\n",
              "    <tr>\n",
              "      <th>8</th>\n",
              "      <td>-122.26</td>\n",
              "      <td>37.84</td>\n",
              "      <td>42</td>\n",
              "      <td>2555</td>\n",
              "      <td>665.0</td>\n",
              "      <td>1206</td>\n",
              "      <td>595</td>\n",
              "      <td>2.0804</td>\n",
              "      <td>NEAR BAY</td>\n",
              "      <td>226700</td>\n",
              "    </tr>\n",
              "    <tr>\n",
              "      <th>9</th>\n",
              "      <td>-122.25</td>\n",
              "      <td>37.84</td>\n",
              "      <td>52</td>\n",
              "      <td>3549</td>\n",
              "      <td>707.0</td>\n",
              "      <td>1551</td>\n",
              "      <td>714</td>\n",
              "      <td>3.6912</td>\n",
              "      <td>NEAR BAY</td>\n",
              "      <td>261100</td>\n",
              "    </tr>\n",
              "  </tbody>\n",
              "</table>\n",
              "</div>"
            ],
            "text/plain": [
              "   longitude  latitude  ...  ocean_proximity  median_house_value\n",
              "0    -122.23     37.88  ...         NEAR BAY              452600\n",
              "1    -122.22     37.86  ...         NEAR BAY              358500\n",
              "2    -122.24     37.85  ...         NEAR BAY              352100\n",
              "3    -122.25     37.85  ...         NEAR BAY              341300\n",
              "4    -122.25     37.85  ...         NEAR BAY              342200\n",
              "5    -122.25     37.85  ...         NEAR BAY              269700\n",
              "6    -122.25     37.84  ...         NEAR BAY              299200\n",
              "7    -122.25     37.84  ...         NEAR BAY              241400\n",
              "8    -122.26     37.84  ...         NEAR BAY              226700\n",
              "9    -122.25     37.84  ...         NEAR BAY              261100\n",
              "\n",
              "[10 rows x 10 columns]"
            ]
          },
          "metadata": {
            "tags": []
          },
          "execution_count": 3
        }
      ]
    },
    {
      "cell_type": "code",
      "metadata": {
        "colab": {
          "base_uri": "https://localhost:8080/",
          "height": 380
        },
        "id": "qFl_kCqeExOj",
        "outputId": "0d277ca7-6283-4090-9f08-dd37e18b6e21"
      },
      "source": [
        "#Examining last 10 values of all features\n",
        "df.tail(10)"
      ],
      "execution_count": 4,
      "outputs": [
        {
          "output_type": "execute_result",
          "data": {
            "text/html": [
              "<div>\n",
              "<style scoped>\n",
              "    .dataframe tbody tr th:only-of-type {\n",
              "        vertical-align: middle;\n",
              "    }\n",
              "\n",
              "    .dataframe tbody tr th {\n",
              "        vertical-align: top;\n",
              "    }\n",
              "\n",
              "    .dataframe thead th {\n",
              "        text-align: right;\n",
              "    }\n",
              "</style>\n",
              "<table border=\"1\" class=\"dataframe\">\n",
              "  <thead>\n",
              "    <tr style=\"text-align: right;\">\n",
              "      <th></th>\n",
              "      <th>longitude</th>\n",
              "      <th>latitude</th>\n",
              "      <th>housing_median_age</th>\n",
              "      <th>total_rooms</th>\n",
              "      <th>total_bedrooms</th>\n",
              "      <th>population</th>\n",
              "      <th>households</th>\n",
              "      <th>median_income</th>\n",
              "      <th>ocean_proximity</th>\n",
              "      <th>median_house_value</th>\n",
              "    </tr>\n",
              "  </thead>\n",
              "  <tbody>\n",
              "    <tr>\n",
              "      <th>20630</th>\n",
              "      <td>-121.32</td>\n",
              "      <td>39.29</td>\n",
              "      <td>11</td>\n",
              "      <td>2640</td>\n",
              "      <td>505.0</td>\n",
              "      <td>1257</td>\n",
              "      <td>445</td>\n",
              "      <td>3.5673</td>\n",
              "      <td>INLAND</td>\n",
              "      <td>112000</td>\n",
              "    </tr>\n",
              "    <tr>\n",
              "      <th>20631</th>\n",
              "      <td>-121.40</td>\n",
              "      <td>39.33</td>\n",
              "      <td>15</td>\n",
              "      <td>2655</td>\n",
              "      <td>493.0</td>\n",
              "      <td>1200</td>\n",
              "      <td>432</td>\n",
              "      <td>3.5179</td>\n",
              "      <td>INLAND</td>\n",
              "      <td>107200</td>\n",
              "    </tr>\n",
              "    <tr>\n",
              "      <th>20632</th>\n",
              "      <td>-121.45</td>\n",
              "      <td>39.26</td>\n",
              "      <td>15</td>\n",
              "      <td>2319</td>\n",
              "      <td>416.0</td>\n",
              "      <td>1047</td>\n",
              "      <td>385</td>\n",
              "      <td>3.1250</td>\n",
              "      <td>INLAND</td>\n",
              "      <td>115600</td>\n",
              "    </tr>\n",
              "    <tr>\n",
              "      <th>20633</th>\n",
              "      <td>-121.53</td>\n",
              "      <td>39.19</td>\n",
              "      <td>27</td>\n",
              "      <td>2080</td>\n",
              "      <td>412.0</td>\n",
              "      <td>1082</td>\n",
              "      <td>382</td>\n",
              "      <td>2.5495</td>\n",
              "      <td>INLAND</td>\n",
              "      <td>98300</td>\n",
              "    </tr>\n",
              "    <tr>\n",
              "      <th>20634</th>\n",
              "      <td>-121.56</td>\n",
              "      <td>39.27</td>\n",
              "      <td>28</td>\n",
              "      <td>2332</td>\n",
              "      <td>395.0</td>\n",
              "      <td>1041</td>\n",
              "      <td>344</td>\n",
              "      <td>3.7125</td>\n",
              "      <td>INLAND</td>\n",
              "      <td>116800</td>\n",
              "    </tr>\n",
              "    <tr>\n",
              "      <th>20635</th>\n",
              "      <td>-121.09</td>\n",
              "      <td>39.48</td>\n",
              "      <td>25</td>\n",
              "      <td>1665</td>\n",
              "      <td>374.0</td>\n",
              "      <td>845</td>\n",
              "      <td>330</td>\n",
              "      <td>1.5603</td>\n",
              "      <td>INLAND</td>\n",
              "      <td>78100</td>\n",
              "    </tr>\n",
              "    <tr>\n",
              "      <th>20636</th>\n",
              "      <td>-121.21</td>\n",
              "      <td>39.49</td>\n",
              "      <td>18</td>\n",
              "      <td>697</td>\n",
              "      <td>150.0</td>\n",
              "      <td>356</td>\n",
              "      <td>114</td>\n",
              "      <td>2.5568</td>\n",
              "      <td>INLAND</td>\n",
              "      <td>77100</td>\n",
              "    </tr>\n",
              "    <tr>\n",
              "      <th>20637</th>\n",
              "      <td>-121.22</td>\n",
              "      <td>39.43</td>\n",
              "      <td>17</td>\n",
              "      <td>2254</td>\n",
              "      <td>485.0</td>\n",
              "      <td>1007</td>\n",
              "      <td>433</td>\n",
              "      <td>1.7000</td>\n",
              "      <td>INLAND</td>\n",
              "      <td>92300</td>\n",
              "    </tr>\n",
              "    <tr>\n",
              "      <th>20638</th>\n",
              "      <td>-121.32</td>\n",
              "      <td>39.43</td>\n",
              "      <td>18</td>\n",
              "      <td>1860</td>\n",
              "      <td>409.0</td>\n",
              "      <td>741</td>\n",
              "      <td>349</td>\n",
              "      <td>1.8672</td>\n",
              "      <td>INLAND</td>\n",
              "      <td>84700</td>\n",
              "    </tr>\n",
              "    <tr>\n",
              "      <th>20639</th>\n",
              "      <td>-121.24</td>\n",
              "      <td>39.37</td>\n",
              "      <td>16</td>\n",
              "      <td>2785</td>\n",
              "      <td>616.0</td>\n",
              "      <td>1387</td>\n",
              "      <td>530</td>\n",
              "      <td>2.3886</td>\n",
              "      <td>INLAND</td>\n",
              "      <td>89400</td>\n",
              "    </tr>\n",
              "  </tbody>\n",
              "</table>\n",
              "</div>"
            ],
            "text/plain": [
              "       longitude  latitude  ...  ocean_proximity  median_house_value\n",
              "20630    -121.32     39.29  ...           INLAND              112000\n",
              "20631    -121.40     39.33  ...           INLAND              107200\n",
              "20632    -121.45     39.26  ...           INLAND              115600\n",
              "20633    -121.53     39.19  ...           INLAND               98300\n",
              "20634    -121.56     39.27  ...           INLAND              116800\n",
              "20635    -121.09     39.48  ...           INLAND               78100\n",
              "20636    -121.21     39.49  ...           INLAND               77100\n",
              "20637    -121.22     39.43  ...           INLAND               92300\n",
              "20638    -121.32     39.43  ...           INLAND               84700\n",
              "20639    -121.24     39.37  ...           INLAND               89400\n",
              "\n",
              "[10 rows x 10 columns]"
            ]
          },
          "metadata": {
            "tags": []
          },
          "execution_count": 4
        }
      ]
    },
    {
      "cell_type": "code",
      "metadata": {
        "colab": {
          "base_uri": "https://localhost:8080/"
        },
        "id": "E-Ordf51ExOj",
        "outputId": "d36b4e73-fa44-40bd-a171-fa610f1133a0"
      },
      "source": [
        "#Checking number of rows and columns (m*n)\n",
        "df.shape"
      ],
      "execution_count": 5,
      "outputs": [
        {
          "output_type": "execute_result",
          "data": {
            "text/plain": [
              "(20640, 10)"
            ]
          },
          "metadata": {
            "tags": []
          },
          "execution_count": 5
        }
      ]
    },
    {
      "cell_type": "code",
      "metadata": {
        "colab": {
          "base_uri": "https://localhost:8080/"
        },
        "id": "MBeNQArKExOk",
        "outputId": "8ccab9ba-1c34-4971-970f-107bf16a158c"
      },
      "source": [
        "#Feature names listed\n",
        "df.columns"
      ],
      "execution_count": 6,
      "outputs": [
        {
          "output_type": "execute_result",
          "data": {
            "text/plain": [
              "Index(['longitude', 'latitude', 'housing_median_age', 'total_rooms',\n",
              "       'total_bedrooms', 'population', 'households', 'median_income',\n",
              "       'ocean_proximity', 'median_house_value'],\n",
              "      dtype='object')"
            ]
          },
          "metadata": {
            "tags": []
          },
          "execution_count": 6
        }
      ]
    },
    {
      "cell_type": "code",
      "metadata": {
        "colab": {
          "base_uri": "https://localhost:8080/",
          "height": 298
        },
        "id": "7K-uFo1TExOk",
        "outputId": "896e839c-2215-48a0-8da0-440c01f9ccd3"
      },
      "source": [
        "#25%, 75%, standard deviaiton etc are displayed for all features\n",
        "df.describe()"
      ],
      "execution_count": 7,
      "outputs": [
        {
          "output_type": "execute_result",
          "data": {
            "text/html": [
              "<div>\n",
              "<style scoped>\n",
              "    .dataframe tbody tr th:only-of-type {\n",
              "        vertical-align: middle;\n",
              "    }\n",
              "\n",
              "    .dataframe tbody tr th {\n",
              "        vertical-align: top;\n",
              "    }\n",
              "\n",
              "    .dataframe thead th {\n",
              "        text-align: right;\n",
              "    }\n",
              "</style>\n",
              "<table border=\"1\" class=\"dataframe\">\n",
              "  <thead>\n",
              "    <tr style=\"text-align: right;\">\n",
              "      <th></th>\n",
              "      <th>longitude</th>\n",
              "      <th>latitude</th>\n",
              "      <th>housing_median_age</th>\n",
              "      <th>total_rooms</th>\n",
              "      <th>total_bedrooms</th>\n",
              "      <th>population</th>\n",
              "      <th>households</th>\n",
              "      <th>median_income</th>\n",
              "      <th>median_house_value</th>\n",
              "    </tr>\n",
              "  </thead>\n",
              "  <tbody>\n",
              "    <tr>\n",
              "      <th>count</th>\n",
              "      <td>20640.000000</td>\n",
              "      <td>20640.000000</td>\n",
              "      <td>20640.000000</td>\n",
              "      <td>20640.000000</td>\n",
              "      <td>20433.000000</td>\n",
              "      <td>20640.000000</td>\n",
              "      <td>20640.000000</td>\n",
              "      <td>20640.000000</td>\n",
              "      <td>20640.000000</td>\n",
              "    </tr>\n",
              "    <tr>\n",
              "      <th>mean</th>\n",
              "      <td>-119.569704</td>\n",
              "      <td>35.631861</td>\n",
              "      <td>28.639486</td>\n",
              "      <td>2635.763081</td>\n",
              "      <td>537.870553</td>\n",
              "      <td>1425.476744</td>\n",
              "      <td>499.539680</td>\n",
              "      <td>3.870671</td>\n",
              "      <td>206855.816909</td>\n",
              "    </tr>\n",
              "    <tr>\n",
              "      <th>std</th>\n",
              "      <td>2.003532</td>\n",
              "      <td>2.135952</td>\n",
              "      <td>12.585558</td>\n",
              "      <td>2181.615252</td>\n",
              "      <td>421.385070</td>\n",
              "      <td>1132.462122</td>\n",
              "      <td>382.329753</td>\n",
              "      <td>1.899822</td>\n",
              "      <td>115395.615874</td>\n",
              "    </tr>\n",
              "    <tr>\n",
              "      <th>min</th>\n",
              "      <td>-124.350000</td>\n",
              "      <td>32.540000</td>\n",
              "      <td>1.000000</td>\n",
              "      <td>2.000000</td>\n",
              "      <td>1.000000</td>\n",
              "      <td>3.000000</td>\n",
              "      <td>1.000000</td>\n",
              "      <td>0.499900</td>\n",
              "      <td>14999.000000</td>\n",
              "    </tr>\n",
              "    <tr>\n",
              "      <th>25%</th>\n",
              "      <td>-121.800000</td>\n",
              "      <td>33.930000</td>\n",
              "      <td>18.000000</td>\n",
              "      <td>1447.750000</td>\n",
              "      <td>296.000000</td>\n",
              "      <td>787.000000</td>\n",
              "      <td>280.000000</td>\n",
              "      <td>2.563400</td>\n",
              "      <td>119600.000000</td>\n",
              "    </tr>\n",
              "    <tr>\n",
              "      <th>50%</th>\n",
              "      <td>-118.490000</td>\n",
              "      <td>34.260000</td>\n",
              "      <td>29.000000</td>\n",
              "      <td>2127.000000</td>\n",
              "      <td>435.000000</td>\n",
              "      <td>1166.000000</td>\n",
              "      <td>409.000000</td>\n",
              "      <td>3.534800</td>\n",
              "      <td>179700.000000</td>\n",
              "    </tr>\n",
              "    <tr>\n",
              "      <th>75%</th>\n",
              "      <td>-118.010000</td>\n",
              "      <td>37.710000</td>\n",
              "      <td>37.000000</td>\n",
              "      <td>3148.000000</td>\n",
              "      <td>647.000000</td>\n",
              "      <td>1725.000000</td>\n",
              "      <td>605.000000</td>\n",
              "      <td>4.743250</td>\n",
              "      <td>264725.000000</td>\n",
              "    </tr>\n",
              "    <tr>\n",
              "      <th>max</th>\n",
              "      <td>-114.310000</td>\n",
              "      <td>41.950000</td>\n",
              "      <td>52.000000</td>\n",
              "      <td>39320.000000</td>\n",
              "      <td>6445.000000</td>\n",
              "      <td>35682.000000</td>\n",
              "      <td>6082.000000</td>\n",
              "      <td>15.000100</td>\n",
              "      <td>500001.000000</td>\n",
              "    </tr>\n",
              "  </tbody>\n",
              "</table>\n",
              "</div>"
            ],
            "text/plain": [
              "          longitude      latitude  ...  median_income  median_house_value\n",
              "count  20640.000000  20640.000000  ...   20640.000000        20640.000000\n",
              "mean    -119.569704     35.631861  ...       3.870671       206855.816909\n",
              "std        2.003532      2.135952  ...       1.899822       115395.615874\n",
              "min     -124.350000     32.540000  ...       0.499900        14999.000000\n",
              "25%     -121.800000     33.930000  ...       2.563400       119600.000000\n",
              "50%     -118.490000     34.260000  ...       3.534800       179700.000000\n",
              "75%     -118.010000     37.710000  ...       4.743250       264725.000000\n",
              "max     -114.310000     41.950000  ...      15.000100       500001.000000\n",
              "\n",
              "[8 rows x 9 columns]"
            ]
          },
          "metadata": {
            "tags": []
          },
          "execution_count": 7
        }
      ]
    },
    {
      "cell_type": "code",
      "metadata": {
        "colab": {
          "base_uri": "https://localhost:8080/"
        },
        "id": "3eXJpD7aExOl",
        "outputId": "33cd5d39-83cc-4613-a1e4-1d7f2c66ef5a"
      },
      "source": [
        "#To check non-null count\n",
        "df.info()"
      ],
      "execution_count": 8,
      "outputs": [
        {
          "output_type": "stream",
          "text": [
            "<class 'pandas.core.frame.DataFrame'>\n",
            "RangeIndex: 20640 entries, 0 to 20639\n",
            "Data columns (total 10 columns):\n",
            " #   Column              Non-Null Count  Dtype  \n",
            "---  ------              --------------  -----  \n",
            " 0   longitude           20640 non-null  float64\n",
            " 1   latitude            20640 non-null  float64\n",
            " 2   housing_median_age  20640 non-null  int64  \n",
            " 3   total_rooms         20640 non-null  int64  \n",
            " 4   total_bedrooms      20433 non-null  float64\n",
            " 5   population          20640 non-null  int64  \n",
            " 6   households          20640 non-null  int64  \n",
            " 7   median_income       20640 non-null  float64\n",
            " 8   ocean_proximity     20640 non-null  object \n",
            " 9   median_house_value  20640 non-null  int64  \n",
            "dtypes: float64(4), int64(5), object(1)\n",
            "memory usage: 1.6+ MB\n"
          ],
          "name": "stdout"
        }
      ]
    },
    {
      "cell_type": "code",
      "metadata": {
        "id": "FP1tMu_JExOl"
      },
      "source": [
        "#Using matplotlib and seaborn for visualization\n",
        "import matplotlib.pyplot as plt\n",
        "import seaborn as sns"
      ],
      "execution_count": 9,
      "outputs": []
    },
    {
      "cell_type": "code",
      "metadata": {
        "colab": {
          "base_uri": "https://localhost:8080/",
          "height": 377
        },
        "id": "8B3v2f9yExOl",
        "outputId": "1003e21b-5a7a-47e2-8be9-e661a751b69c"
      },
      "source": [
        "#Visualizing missing data\n",
        "sns.heatmap(df.isnull(),cmap='Greens',cbar=True,yticklabels=False)\n",
        "plt.title('Missing Data in Total Bedrooms')\n",
        "plt.show()"
      ],
      "execution_count": 10,
      "outputs": [
        {
          "output_type": "display_data",
          "data": {
            "image/png": "[encoded data removed]",
            "text/plain": [
              "<Figure size 432x288 with 2 Axes>"
            ]
          },
          "metadata": {
            "tags": [],
            "needs_background": "light"
          }
        }
      ]
    },
    {
      "cell_type": "code",
      "metadata": {
        "colab": {
          "base_uri": "https://localhost:8080/"
        },
        "id": "fCwVc7fTExOm",
        "outputId": "9b199725-3308-4589-acbf-05a05cbc24f8"
      },
      "source": [
        "#Checking as to which feature has missing values using boolean commands\n",
        "df.isnull().any()"
      ],
      "execution_count": 11,
      "outputs": [
        {
          "output_type": "execute_result",
          "data": {
            "text/plain": [
              "longitude             False\n",
              "latitude              False\n",
              "housing_median_age    False\n",
              "total_rooms           False\n",
              "total_bedrooms         True\n",
              "population            False\n",
              "households            False\n",
              "median_income         False\n",
              "ocean_proximity       False\n",
              "median_house_value    False\n",
              "dtype: bool"
            ]
          },
          "metadata": {
            "tags": []
          },
          "execution_count": 11
        }
      ]
    },
    {
      "cell_type": "code",
      "metadata": {
        "colab": {
          "base_uri": "https://localhost:8080/"
        },
        "id": "JtwS2r9KExOm",
        "outputId": "f9cad3e6-06bf-4d60-c265-ad2e3a92bf00"
      },
      "source": [
        "#So, total_bedrooms has missing values\n",
        "#Counting how many rows do not have bedrooms \n",
        "df.isnull().sum()"
      ],
      "execution_count": 12,
      "outputs": [
        {
          "output_type": "execute_result",
          "data": {
            "text/plain": [
              "longitude               0\n",
              "latitude                0\n",
              "housing_median_age      0\n",
              "total_rooms             0\n",
              "total_bedrooms        207\n",
              "population              0\n",
              "households              0\n",
              "median_income           0\n",
              "ocean_proximity         0\n",
              "median_house_value      0\n",
              "dtype: int64"
            ]
          },
          "metadata": {
            "tags": []
          },
          "execution_count": 12
        }
      ]
    },
    {
      "cell_type": "markdown",
      "metadata": {
        "id": "NF7P1GplExOm"
      },
      "source": [
        "<b>We have 207 missing values for 'total_bedrooms' which will be handled during the next phase"
      ]
    },
    {
      "cell_type": "markdown",
      "metadata": {
        "id": "5t_si0jdExOn"
      },
      "source": [
        "### Data Cleaning, Visualization, Feature Engineering and Selection"
      ]
    },
    {
      "cell_type": "code",
      "metadata": {
        "colab": {
          "base_uri": "https://localhost:8080/"
        },
        "id": "gfOOYK3yExOn",
        "outputId": "b5892f9f-438c-405b-ed2c-aaa7bd92304f"
      },
      "source": [
        "#Another version of df.head() but without feature names\n",
        "df.values"
      ],
      "execution_count": 13,
      "outputs": [
        {
          "output_type": "execute_result",
          "data": {
            "text/plain": [
              "array([[-122.23, 37.88, 41, ..., 8.3252, 'NEAR BAY', 452600],\n",
              "       [-122.22, 37.86, 21, ..., 8.3014, 'NEAR BAY', 358500],\n",
              "       [-122.24, 37.85, 52, ..., 7.2574, 'NEAR BAY', 352100],\n",
              "       ...,\n",
              "       [-121.22, 39.43, 17, ..., 1.7, 'INLAND', 92300],\n",
              "       [-121.32, 39.43, 18, ..., 1.8672, 'INLAND', 84700],\n",
              "       [-121.24, 39.37, 16, ..., 2.3886, 'INLAND', 89400]], dtype=object)"
            ]
          },
          "metadata": {
            "tags": []
          },
          "execution_count": 13
        }
      ]
    },
    {
      "cell_type": "code",
      "metadata": {
        "colab": {
          "base_uri": "https://localhost:8080/",
          "height": 380
        },
        "id": "jNs7txYYExOn",
        "outputId": "20fa4fb1-201d-4cda-d862-ed9b00cc86ff"
      },
      "source": [
        "# Shuffling all rows(frac=1)\n",
        "df = df.sample(frac=1)\n",
        "df.head(10)"
      ],
      "execution_count": 14,
      "outputs": [
        {
          "output_type": "execute_result",
          "data": {
            "text/html": [
              "<div>\n",
              "<style scoped>\n",
              "    .dataframe tbody tr th:only-of-type {\n",
              "        vertical-align: middle;\n",
              "    }\n",
              "\n",
              "    .dataframe tbody tr th {\n",
              "        vertical-align: top;\n",
              "    }\n",
              "\n",
              "    .dataframe thead th {\n",
              "        text-align: right;\n",
              "    }\n",
              "</style>\n",
              "<table border=\"1\" class=\"dataframe\">\n",
              "  <thead>\n",
              "    <tr style=\"text-align: right;\">\n",
              "      <th></th>\n",
              "      <th>longitude</th>\n",
              "      <th>latitude</th>\n",
              "      <th>housing_median_age</th>\n",
              "      <th>total_rooms</th>\n",
              "      <th>total_bedrooms</th>\n",
              "      <th>population</th>\n",
              "      <th>households</th>\n",
              "      <th>median_income</th>\n",
              "      <th>ocean_proximity</th>\n",
              "      <th>median_house_value</th>\n",
              "    </tr>\n",
              "  </thead>\n",
              "  <tbody>\n",
              "    <tr>\n",
              "      <th>14458</th>\n",
              "      <td>-117.27</td>\n",
              "      <td>32.82</td>\n",
              "      <td>42</td>\n",
              "      <td>2820</td>\n",
              "      <td>488.0</td>\n",
              "      <td>1175</td>\n",
              "      <td>500</td>\n",
              "      <td>4.5083</td>\n",
              "      <td>NEAR OCEAN</td>\n",
              "      <td>405200</td>\n",
              "    </tr>\n",
              "    <tr>\n",
              "      <th>9596</th>\n",
              "      <td>-120.45</td>\n",
              "      <td>37.31</td>\n",
              "      <td>20</td>\n",
              "      <td>4379</td>\n",
              "      <td>753.0</td>\n",
              "      <td>2055</td>\n",
              "      <td>716</td>\n",
              "      <td>3.7652</td>\n",
              "      <td>INLAND</td>\n",
              "      <td>133500</td>\n",
              "    </tr>\n",
              "    <tr>\n",
              "      <th>15900</th>\n",
              "      <td>-122.41</td>\n",
              "      <td>37.74</td>\n",
              "      <td>38</td>\n",
              "      <td>1754</td>\n",
              "      <td>382.0</td>\n",
              "      <td>928</td>\n",
              "      <td>354</td>\n",
              "      <td>4.1417</td>\n",
              "      <td>NEAR BAY</td>\n",
              "      <td>270800</td>\n",
              "    </tr>\n",
              "    <tr>\n",
              "      <th>3158</th>\n",
              "      <td>-118.95</td>\n",
              "      <td>35.26</td>\n",
              "      <td>24</td>\n",
              "      <td>1341</td>\n",
              "      <td>214.0</td>\n",
              "      <td>667</td>\n",
              "      <td>184</td>\n",
              "      <td>4.0000</td>\n",
              "      <td>INLAND</td>\n",
              "      <td>94500</td>\n",
              "    </tr>\n",
              "    <tr>\n",
              "      <th>8534</th>\n",
              "      <td>-118.36</td>\n",
              "      <td>33.90</td>\n",
              "      <td>41</td>\n",
              "      <td>1355</td>\n",
              "      <td>349.0</td>\n",
              "      <td>655</td>\n",
              "      <td>329</td>\n",
              "      <td>2.9551</td>\n",
              "      <td>&lt;1H OCEAN</td>\n",
              "      <td>205000</td>\n",
              "    </tr>\n",
              "    <tr>\n",
              "      <th>6265</th>\n",
              "      <td>-117.94</td>\n",
              "      <td>34.05</td>\n",
              "      <td>34</td>\n",
              "      <td>1729</td>\n",
              "      <td>324.0</td>\n",
              "      <td>1341</td>\n",
              "      <td>324</td>\n",
              "      <td>3.7708</td>\n",
              "      <td>&lt;1H OCEAN</td>\n",
              "      <td>163500</td>\n",
              "    </tr>\n",
              "    <tr>\n",
              "      <th>12543</th>\n",
              "      <td>-121.50</td>\n",
              "      <td>38.54</td>\n",
              "      <td>52</td>\n",
              "      <td>1145</td>\n",
              "      <td>133.0</td>\n",
              "      <td>334</td>\n",
              "      <td>138</td>\n",
              "      <td>8.3380</td>\n",
              "      <td>INLAND</td>\n",
              "      <td>405800</td>\n",
              "    </tr>\n",
              "    <tr>\n",
              "      <th>10594</th>\n",
              "      <td>-117.79</td>\n",
              "      <td>33.69</td>\n",
              "      <td>16</td>\n",
              "      <td>1532</td>\n",
              "      <td>240.0</td>\n",
              "      <td>679</td>\n",
              "      <td>248</td>\n",
              "      <td>5.7115</td>\n",
              "      <td>&lt;1H OCEAN</td>\n",
              "      <td>313900</td>\n",
              "    </tr>\n",
              "    <tr>\n",
              "      <th>13305</th>\n",
              "      <td>-117.62</td>\n",
              "      <td>34.09</td>\n",
              "      <td>26</td>\n",
              "      <td>3271</td>\n",
              "      <td>595.0</td>\n",
              "      <td>2259</td>\n",
              "      <td>566</td>\n",
              "      <td>4.0139</td>\n",
              "      <td>INLAND</td>\n",
              "      <td>132000</td>\n",
              "    </tr>\n",
              "    <tr>\n",
              "      <th>7783</th>\n",
              "      <td>-118.06</td>\n",
              "      <td>33.91</td>\n",
              "      <td>36</td>\n",
              "      <td>1360</td>\n",
              "      <td>271.0</td>\n",
              "      <td>909</td>\n",
              "      <td>275</td>\n",
              "      <td>4.6731</td>\n",
              "      <td>&lt;1H OCEAN</td>\n",
              "      <td>173300</td>\n",
              "    </tr>\n",
              "  </tbody>\n",
              "</table>\n",
              "</div>"
            ],
            "text/plain": [
              "       longitude  latitude  ...  ocean_proximity  median_house_value\n",
              "14458    -117.27     32.82  ...       NEAR OCEAN              405200\n",
              "9596     -120.45     37.31  ...           INLAND              133500\n",
              "15900    -122.41     37.74  ...         NEAR BAY              270800\n",
              "3158     -118.95     35.26  ...           INLAND               94500\n",
              "8534     -118.36     33.90  ...        <1H OCEAN              205000\n",
              "6265     -117.94     34.05  ...        <1H OCEAN              163500\n",
              "12543    -121.50     38.54  ...           INLAND              405800\n",
              "10594    -117.79     33.69  ...        <1H OCEAN              313900\n",
              "13305    -117.62     34.09  ...           INLAND              132000\n",
              "7783     -118.06     33.91  ...        <1H OCEAN              173300\n",
              "\n",
              "[10 rows x 10 columns]"
            ]
          },
          "metadata": {
            "tags": []
          },
          "execution_count": 14
        }
      ]
    },
    {
      "cell_type": "code",
      "metadata": {
        "colab": {
          "base_uri": "https://localhost:8080/"
        },
        "id": "GfpX9TZuExOo",
        "outputId": "98ffc198-2ee8-4f7c-e176-0d64f06bdd9b"
      },
      "source": [
        "#Categorical Data, so, will enumerate and replace all data with unique values for each type of data\n",
        "df['ocean_proximity'].unique()"
      ],
      "execution_count": 15,
      "outputs": [
        {
          "output_type": "execute_result",
          "data": {
            "text/plain": [
              "array(['NEAR OCEAN', 'INLAND', 'NEAR BAY', '<1H OCEAN', 'ISLAND'],\n",
              "      dtype=object)"
            ]
          },
          "metadata": {
            "tags": []
          },
          "execution_count": 15
        }
      ]
    },
    {
      "cell_type": "code",
      "metadata": {
        "colab": {
          "base_uri": "https://localhost:8080/",
          "height": 406
        },
        "id": "DsKVDPyPExOo",
        "outputId": "2153b500-a89d-4899-c368-1cd12d2ec2b9"
      },
      "source": [
        "plt.figure(figsize=(10,6))\n",
        "sns.countplot(data=df,x='ocean_proximity')\n",
        "plt.plot()"
      ],
      "execution_count": 16,
      "outputs": [
        {
          "output_type": "execute_result",
          "data": {
            "text/plain": [
              "[]"
            ]
          },
          "metadata": {
            "tags": []
          },
          "execution_count": 16
        },
        {
          "output_type": "display_data",
          "data": {
            "image/png": "[encoded data removed]",
            "text/plain": [
              "<Figure size 720x432 with 1 Axes>"
            ]
          },
          "metadata": {
            "tags": [],
            "needs_background": "light"
          }
        }
      ]
    },
    {
      "cell_type": "code",
      "metadata": {
        "id": "aD8LMyc8ExOo"
      },
      "source": [
        "# Replace ocean proximity with values to help our model\n",
        "ocean_proximity = {a:b for b,a in enumerate(df['ocean_proximity'].unique())}\n",
        "df.replace(ocean_proximity, inplace=True)"
      ],
      "execution_count": 17,
      "outputs": []
    },
    {
      "cell_type": "code",
      "metadata": {
        "colab": {
          "base_uri": "https://localhost:8080/"
        },
        "id": "vg0MMirMExOp",
        "outputId": "6ffa21be-1976-4ea1-d3d4-46ae9e1d3ad6"
      },
      "source": [
        "df.ocean_proximity.unique()"
      ],
      "execution_count": 18,
      "outputs": [
        {
          "output_type": "execute_result",
          "data": {
            "text/plain": [
              "array([0, 1, 2, 3, 4])"
            ]
          },
          "metadata": {
            "tags": []
          },
          "execution_count": 18
        }
      ]
    },
    {
      "cell_type": "code",
      "metadata": {
        "id": "Gb4CRLX-ExOp"
      },
      "source": [
        "# The feature 'total_bedrooms' has NaN values so I will replace them with the mean of the feature\n",
        "df = df.apply(lambda x: x.fillna(x.mean()))"
      ],
      "execution_count": 19,
      "outputs": []
    },
    {
      "cell_type": "code",
      "metadata": {
        "id": "z0wq1oESExOp"
      },
      "source": [
        "#Run this cell to check if mean values are populated into the csv. \n",
        "#Note that data frame has been shuffled\n",
        "#new=df.to_csv(\"total_bedrooms\".csv\")"
      ],
      "execution_count": 20,
      "outputs": []
    },
    {
      "cell_type": "code",
      "metadata": {
        "colab": {
          "base_uri": "https://localhost:8080/"
        },
        "id": "nnTarZs3ExOp",
        "outputId": "6faf35b4-4db8-4b84-fb05-7777632b09f7"
      },
      "source": [
        "#Verifying Data is balanced\n",
        "df.isnull().any()"
      ],
      "execution_count": 21,
      "outputs": [
        {
          "output_type": "execute_result",
          "data": {
            "text/plain": [
              "longitude             False\n",
              "latitude              False\n",
              "housing_median_age    False\n",
              "total_rooms           False\n",
              "total_bedrooms        False\n",
              "population            False\n",
              "households            False\n",
              "median_income         False\n",
              "ocean_proximity       False\n",
              "median_house_value    False\n",
              "dtype: bool"
            ]
          },
          "metadata": {
            "tags": []
          },
          "execution_count": 21
        }
      ]
    },
    {
      "cell_type": "code",
      "metadata": {
        "colab": {
          "base_uri": "https://localhost:8080/",
          "height": 0
        },
        "id": "kuH-26VdExOq",
        "outputId": "83d7c963-7545-4bbe-b59c-0f7a3523dd7c"
      },
      "source": [
        "import matplotlib.pyplot as plt\n",
        "df.hist(bins=50,figsize=(20,15))\n",
        "plt.show()"
      ],
      "execution_count": 22,
      "outputs": [
        {
          "output_type": "display_data",
          "data": {
            "image/png": "[encoded data removed]",
            "text/plain": [
              "<Figure size 1440x1080 with 12 Axes>"
            ]
          },
          "metadata": {
            "tags": [],
            "needs_background": "light"
          }
        }
      ]
    },
    {
      "cell_type": "code",
      "metadata": {
        "colab": {
          "base_uri": "https://localhost:8080/",
          "height": 0
        },
        "id": "xp03ZUq0ExOq",
        "outputId": "b7fc5629-c7db-4e9d-dd85-ba62a4c5a6ed"
      },
      "source": [
        "#Analyzing the median income range\n",
        "df[\"median_income\"].hist(bins=40)"
      ],
      "execution_count": 23,
      "outputs": [
        {
          "output_type": "execute_result",
          "data": {
            "text/plain": [
              "<matplotlib.axes._subplots.AxesSubplot at 0x7f4a5481e510>"
            ]
          },
          "metadata": {
            "tags": []
          },
          "execution_count": 23
        },
        {
          "output_type": "display_data",
          "data": {
            "image/png": "[encoded data removed]",
            "text/plain": [
              "<Figure size 432x288 with 1 Axes>"
            ]
          },
          "metadata": {
            "tags": [],
            "needs_background": "light"
          }
        }
      ]
    },
    {
      "cell_type": "code",
      "metadata": {
        "colab": {
          "base_uri": "https://localhost:8080/",
          "height": 0
        },
        "id": "Mpw0SYQnExOq",
        "outputId": "ce3c0107-141b-4b02-c27a-e0c17ff74057"
      },
      "source": [
        "# Calculating correlation\n",
        "corr_matrix=df.corr()\n",
        "corr_matrix"
      ],
      "execution_count": 24,
      "outputs": [
        {
          "output_type": "execute_result",
          "data": {
            "text/html": [
              "<div>\n",
              "<style scoped>\n",
              "    .dataframe tbody tr th:only-of-type {\n",
              "        vertical-align: middle;\n",
              "    }\n",
              "\n",
              "    .dataframe tbody tr th {\n",
              "        vertical-align: top;\n",
              "    }\n",
              "\n",
              "    .dataframe thead th {\n",
              "        text-align: right;\n",
              "    }\n",
              "</style>\n",
              "<table border=\"1\" class=\"dataframe\">\n",
              "  <thead>\n",
              "    <tr style=\"text-align: right;\">\n",
              "      <th></th>\n",
              "      <th>longitude</th>\n",
              "      <th>latitude</th>\n",
              "      <th>housing_median_age</th>\n",
              "      <th>total_rooms</th>\n",
              "      <th>total_bedrooms</th>\n",
              "      <th>population</th>\n",
              "      <th>households</th>\n",
              "      <th>median_income</th>\n",
              "      <th>ocean_proximity</th>\n",
              "      <th>median_house_value</th>\n",
              "    </tr>\n",
              "  </thead>\n",
              "  <tbody>\n",
              "    <tr>\n",
              "      <th>longitude</th>\n",
              "      <td>1.000000</td>\n",
              "      <td>-0.924664</td>\n",
              "      <td>-0.108197</td>\n",
              "      <td>0.044568</td>\n",
              "      <td>0.069260</td>\n",
              "      <td>0.099773</td>\n",
              "      <td>0.055310</td>\n",
              "      <td>-0.015176</td>\n",
              "      <td>0.138310</td>\n",
              "      <td>-0.045967</td>\n",
              "    </tr>\n",
              "    <tr>\n",
              "      <th>latitude</th>\n",
              "      <td>-0.924664</td>\n",
              "      <td>1.000000</td>\n",
              "      <td>0.011173</td>\n",
              "      <td>-0.036100</td>\n",
              "      <td>-0.066658</td>\n",
              "      <td>-0.108785</td>\n",
              "      <td>-0.071035</td>\n",
              "      <td>-0.079809</td>\n",
              "      <td>-0.248005</td>\n",
              "      <td>-0.144160</td>\n",
              "    </tr>\n",
              "    <tr>\n",
              "      <th>housing_median_age</th>\n",
              "      <td>-0.108197</td>\n",
              "      <td>0.011173</td>\n",
              "      <td>1.000000</td>\n",
              "      <td>-0.361262</td>\n",
              "      <td>-0.318998</td>\n",
              "      <td>-0.296244</td>\n",
              "      <td>-0.302916</td>\n",
              "      <td>-0.119034</td>\n",
              "      <td>0.105795</td>\n",
              "      <td>0.105623</td>\n",
              "    </tr>\n",
              "    <tr>\n",
              "      <th>total_rooms</th>\n",
              "      <td>0.044568</td>\n",
              "      <td>-0.036100</td>\n",
              "      <td>-0.361262</td>\n",
              "      <td>1.000000</td>\n",
              "      <td>0.927253</td>\n",
              "      <td>0.857126</td>\n",
              "      <td>0.918484</td>\n",
              "      <td>0.198050</td>\n",
              "      <td>-0.006704</td>\n",
              "      <td>0.134153</td>\n",
              "    </tr>\n",
              "    <tr>\n",
              "      <th>total_bedrooms</th>\n",
              "      <td>0.069260</td>\n",
              "      <td>-0.066658</td>\n",
              "      <td>-0.318998</td>\n",
              "      <td>0.927253</td>\n",
              "      <td>1.000000</td>\n",
              "      <td>0.873910</td>\n",
              "      <td>0.974725</td>\n",
              "      <td>-0.007682</td>\n",
              "      <td>0.010211</td>\n",
              "      <td>0.049454</td>\n",
              "    </tr>\n",
              "    <tr>\n",
              "      <th>population</th>\n",
              "      <td>0.099773</td>\n",
              "      <td>-0.108785</td>\n",
              "      <td>-0.296244</td>\n",
              "      <td>0.857126</td>\n",
              "      <td>0.873910</td>\n",
              "      <td>1.000000</td>\n",
              "      <td>0.907222</td>\n",
              "      <td>0.004834</td>\n",
              "      <td>0.055833</td>\n",
              "      <td>-0.024650</td>\n",
              "    </tr>\n",
              "    <tr>\n",
              "      <th>households</th>\n",
              "      <td>0.055310</td>\n",
              "      <td>-0.071035</td>\n",
              "      <td>-0.302916</td>\n",
              "      <td>0.918484</td>\n",
              "      <td>0.974725</td>\n",
              "      <td>0.907222</td>\n",
              "      <td>1.000000</td>\n",
              "      <td>0.013033</td>\n",
              "      <td>0.033858</td>\n",
              "      <td>0.065843</td>\n",
              "    </tr>\n",
              "    <tr>\n",
              "      <th>median_income</th>\n",
              "      <td>-0.015176</td>\n",
              "      <td>-0.079809</td>\n",
              "      <td>-0.119034</td>\n",
              "      <td>0.198050</td>\n",
              "      <td>-0.007682</td>\n",
              "      <td>0.004834</td>\n",
              "      <td>0.013033</td>\n",
              "      <td>1.000000</td>\n",
              "      <td>0.156712</td>\n",
              "      <td>0.688075</td>\n",
              "    </tr>\n",
              "    <tr>\n",
              "      <th>ocean_proximity</th>\n",
              "      <td>0.138310</td>\n",
              "      <td>-0.248005</td>\n",
              "      <td>0.105795</td>\n",
              "      <td>-0.006704</td>\n",
              "      <td>0.010211</td>\n",
              "      <td>0.055833</td>\n",
              "      <td>0.033858</td>\n",
              "      <td>0.156712</td>\n",
              "      <td>1.000000</td>\n",
              "      <td>0.230708</td>\n",
              "    </tr>\n",
              "    <tr>\n",
              "      <th>median_house_value</th>\n",
              "      <td>-0.045967</td>\n",
              "      <td>-0.144160</td>\n",
              "      <td>0.105623</td>\n",
              "      <td>0.134153</td>\n",
              "      <td>0.049454</td>\n",
              "      <td>-0.024650</td>\n",
              "      <td>0.065843</td>\n",
              "      <td>0.688075</td>\n",
              "      <td>0.230708</td>\n",
              "      <td>1.000000</td>\n",
              "    </tr>\n",
              "  </tbody>\n",
              "</table>\n",
              "</div>"
            ],
            "text/plain": [
              "                    longitude  latitude  ...  ocean_proximity  median_house_value\n",
              "longitude            1.000000 -0.924664  ...         0.138310           -0.045967\n",
              "latitude            -0.924664  1.000000  ...        -0.248005           -0.144160\n",
              "housing_median_age  -0.108197  0.011173  ...         0.105795            0.105623\n",
              "total_rooms          0.044568 -0.036100  ...        -0.006704            0.134153\n",
              "total_bedrooms       0.069260 -0.066658  ...         0.010211            0.049454\n",
              "population           0.099773 -0.108785  ...         0.055833           -0.024650\n",
              "households           0.055310 -0.071035  ...         0.033858            0.065843\n",
              "median_income       -0.015176 -0.079809  ...         0.156712            0.688075\n",
              "ocean_proximity      0.138310 -0.248005  ...         1.000000            0.230708\n",
              "median_house_value  -0.045967 -0.144160  ...         0.230708            1.000000\n",
              "\n",
              "[10 rows x 10 columns]"
            ]
          },
          "metadata": {
            "tags": []
          },
          "execution_count": 24
        }
      ]
    },
    {
      "cell_type": "code",
      "metadata": {
        "colab": {
          "base_uri": "https://localhost:8080/",
          "height": 0
        },
        "id": "hse3k3XpExOr",
        "outputId": "ac2a6739-6a67-4233-e0e5-eebd69438835"
      },
      "source": [
        "plt.figure(figsize=(10,6))\n",
        "sns.displot(df['median_house_value'],color='magenta')\n",
        "plt.show()"
      ],
      "execution_count": 25,
      "outputs": [
        {
          "output_type": "display_data",
          "data": {
            "text/plain": [
              "<Figure size 720x432 with 0 Axes>"
            ]
          },
          "metadata": {
            "tags": []
          }
        },
        {
          "output_type": "display_data",
          "data": {
            "image/png": "[encoded data removed]",
            "text/plain": [
              "<Figure size 360x360 with 1 Axes>"
            ]
          },
          "metadata": {
            "tags": [],
            "needs_background": "light"
          }
        }
      ]
    },
    {
      "cell_type": "markdown",
      "metadata": {
        "id": "zOp248HtExOr"
      },
      "source": [
        "As we see from above data, house values > 500000 are outliers, so we remove them"
      ]
    },
    {
      "cell_type": "code",
      "metadata": {
        "colab": {
          "base_uri": "https://localhost:8080/"
        },
        "id": "Cx-B3iNRExOr",
        "outputId": "c45b7984-3f2e-4d65-f39e-0a91f1b3d0d2"
      },
      "source": [
        "df[df['median_house_value']>450000]['median_house_value'].value_counts().head()"
      ],
      "execution_count": 26,
      "outputs": [
        {
          "output_type": "execute_result",
          "data": {
            "text/plain": [
              "500001    965\n",
              "500000     27\n",
              "475000      8\n",
              "483300      6\n",
              "466700      4\n",
              "Name: median_house_value, dtype: int64"
            ]
          },
          "metadata": {
            "tags": []
          },
          "execution_count": 26
        }
      ]
    },
    {
      "cell_type": "code",
      "metadata": {
        "id": "4fPPcQk1ExOs"
      },
      "source": [
        "df=df.loc[df['median_house_value']<500001,:]"
      ],
      "execution_count": 27,
      "outputs": []
    },
    {
      "cell_type": "code",
      "metadata": {
        "id": "0d-PSHQvExOs"
      },
      "source": [
        "df=df[df['population']<25000]"
      ],
      "execution_count": 28,
      "outputs": []
    },
    {
      "cell_type": "code",
      "metadata": {
        "colab": {
          "base_uri": "https://localhost:8080/",
          "height": 0
        },
        "id": "gSbHjmnsExOs",
        "outputId": "9bdfdf39-045f-47d9-d960-75fa04b8c995"
      },
      "source": [
        "plt.figure(figsize=(14,8))\n",
        "sns.displot(df['median_house_value'],color='magenta')\n",
        "plt.show()"
      ],
      "execution_count": 29,
      "outputs": [
        {
          "output_type": "display_data",
          "data": {
            "text/plain": [
              "<Figure size 1008x576 with 0 Axes>"
            ]
          },
          "metadata": {
            "tags": []
          }
        },
        {
          "output_type": "display_data",
          "data": {
            "image/png": "[encoded data removed]",
            "text/plain": [
              "<Figure size 360x360 with 1 Axes>"
            ]
          },
          "metadata": {
            "tags": [],
            "needs_background": "light"
          }
        }
      ]
    },
    {
      "cell_type": "markdown",
      "metadata": {
        "id": "3VCWVzqyExOs"
      },
      "source": [
        "<b>The outliers of median house value >500000 are removed"
      ]
    },
    {
      "cell_type": "code",
      "metadata": {
        "colab": {
          "base_uri": "https://localhost:8080/",
          "height": 0
        },
        "id": "dgqxxZ4qExOs",
        "outputId": "fabb86c2-8c09-4fe6-a1a0-04d69d6d2baa"
      },
      "source": [
        "plt.figure(figsize=(11,7))\n",
        "sns.heatmap(cbar=False,annot=True,data=df.corr()*100,cmap='coolwarm')\n",
        "plt.title('% Corelation Matrix')\n",
        "plt.show()"
      ],
      "execution_count": 30,
      "outputs": [
        {
          "output_type": "display_data",
          "data": {
            "image/png": "[encoded data removed]",
            "text/plain": [
              "<Figure size 792x504 with 1 Axes>"
            ]
          },
          "metadata": {
            "tags": [],
            "needs_background": "light"
          }
        }
      ]
    },
    {
      "cell_type": "code",
      "metadata": {
        "colab": {
          "base_uri": "https://localhost:8080/",
          "height": 0
        },
        "id": "wUa6QPXpExOt",
        "outputId": "751c778e-eed0-4db4-c6d7-f60edcbf3477"
      },
      "source": [
        "plt.figure(figsize=(10,6))\n",
        "sns.stripplot(data=df,x='ocean_proximity',y='median_house_value',jitter=0.3)"
      ],
      "execution_count": 31,
      "outputs": [
        {
          "output_type": "execute_result",
          "data": {
            "text/plain": [
              "<matplotlib.axes._subplots.AxesSubplot at 0x7f4a4ac7eed0>"
            ]
          },
          "metadata": {
            "tags": []
          },
          "execution_count": 31
        },
        {
          "output_type": "display_data",
          "data": {
            "image/png": "[encoded data removed]",
            "text/plain": [
              "<Figure size 720x432 with 1 Axes>"
            ]
          },
          "metadata": {
            "tags": [],
            "needs_background": "light"
          }
        }
      ]
    },
    {
      "cell_type": "code",
      "metadata": {
        "colab": {
          "base_uri": "https://localhost:8080/",
          "height": 0
        },
        "id": "Cxb8vKjkExOt",
        "outputId": "e41d42ed-fe52-428d-97fc-97d357d6c95a"
      },
      "source": [
        "plt.figure(figsize=(10,6))\n",
        "sns.boxplot(data=df,x='ocean_proximity',y='median_house_value',palette='viridis')\n",
        "plt.plot()"
      ],
      "execution_count": 32,
      "outputs": [
        {
          "output_type": "execute_result",
          "data": {
            "text/plain": [
              "[]"
            ]
          },
          "metadata": {
            "tags": []
          },
          "execution_count": 32
        },
        {
          "output_type": "display_data",
          "data": {
            "image/png": "[encoded data removed]",
            "text/plain": [
              "<Figure size 720x432 with 1 Axes>"
            ]
          },
          "metadata": {
            "tags": [],
            "needs_background": "light"
          }
        }
      ]
    },
    {
      "cell_type": "markdown",
      "metadata": {
        "id": "3VFTmi27ExOt"
      },
      "source": [
        "### Modelling and Evaluation"
      ]
    },
    {
      "cell_type": "code",
      "metadata": {
        "id": "mFjksRXiExOu"
      },
      "source": [
        "X = df.drop('median_house_value',axis=1)\n",
        "y = df['median_house_value']"
      ],
      "execution_count": 33,
      "outputs": []
    },
    {
      "cell_type": "code",
      "metadata": {
        "colab": {
          "base_uri": "https://localhost:8080/",
          "height": 360
        },
        "id": "vC6GSXzpExOu",
        "outputId": "d80b941e-2a25-43ab-941d-63c1944a9cec"
      },
      "source": [
        "X.head(10)"
      ],
      "execution_count": 34,
      "outputs": [
        {
          "output_type": "execute_result",
          "data": {
            "text/html": [
              "<div>\n",
              "<style scoped>\n",
              "    .dataframe tbody tr th:only-of-type {\n",
              "        vertical-align: middle;\n",
              "    }\n",
              "\n",
              "    .dataframe tbody tr th {\n",
              "        vertical-align: top;\n",
              "    }\n",
              "\n",
              "    .dataframe thead th {\n",
              "        text-align: right;\n",
              "    }\n",
              "</style>\n",
              "<table border=\"1\" class=\"dataframe\">\n",
              "  <thead>\n",
              "    <tr style=\"text-align: right;\">\n",
              "      <th></th>\n",
              "      <th>longitude</th>\n",
              "      <th>latitude</th>\n",
              "      <th>housing_median_age</th>\n",
              "      <th>total_rooms</th>\n",
              "      <th>total_bedrooms</th>\n",
              "      <th>population</th>\n",
              "      <th>households</th>\n",
              "      <th>median_income</th>\n",
              "      <th>ocean_proximity</th>\n",
              "    </tr>\n",
              "  </thead>\n",
              "  <tbody>\n",
              "    <tr>\n",
              "      <th>14458</th>\n",
              "      <td>-117.27</td>\n",
              "      <td>32.82</td>\n",
              "      <td>42</td>\n",
              "      <td>2820</td>\n",
              "      <td>488.0</td>\n",
              "      <td>1175</td>\n",
              "      <td>500</td>\n",
              "      <td>4.5083</td>\n",
              "      <td>0</td>\n",
              "    </tr>\n",
              "    <tr>\n",
              "      <th>9596</th>\n",
              "      <td>-120.45</td>\n",
              "      <td>37.31</td>\n",
              "      <td>20</td>\n",
              "      <td>4379</td>\n",
              "      <td>753.0</td>\n",
              "      <td>2055</td>\n",
              "      <td>716</td>\n",
              "      <td>3.7652</td>\n",
              "      <td>1</td>\n",
              "    </tr>\n",
              "    <tr>\n",
              "      <th>15900</th>\n",
              "      <td>-122.41</td>\n",
              "      <td>37.74</td>\n",
              "      <td>38</td>\n",
              "      <td>1754</td>\n",
              "      <td>382.0</td>\n",
              "      <td>928</td>\n",
              "      <td>354</td>\n",
              "      <td>4.1417</td>\n",
              "      <td>2</td>\n",
              "    </tr>\n",
              "    <tr>\n",
              "      <th>3158</th>\n",
              "      <td>-118.95</td>\n",
              "      <td>35.26</td>\n",
              "      <td>24</td>\n",
              "      <td>1341</td>\n",
              "      <td>214.0</td>\n",
              "      <td>667</td>\n",
              "      <td>184</td>\n",
              "      <td>4.0000</td>\n",
              "      <td>1</td>\n",
              "    </tr>\n",
              "    <tr>\n",
              "      <th>8534</th>\n",
              "      <td>-118.36</td>\n",
              "      <td>33.90</td>\n",
              "      <td>41</td>\n",
              "      <td>1355</td>\n",
              "      <td>349.0</td>\n",
              "      <td>655</td>\n",
              "      <td>329</td>\n",
              "      <td>2.9551</td>\n",
              "      <td>3</td>\n",
              "    </tr>\n",
              "    <tr>\n",
              "      <th>6265</th>\n",
              "      <td>-117.94</td>\n",
              "      <td>34.05</td>\n",
              "      <td>34</td>\n",
              "      <td>1729</td>\n",
              "      <td>324.0</td>\n",
              "      <td>1341</td>\n",
              "      <td>324</td>\n",
              "      <td>3.7708</td>\n",
              "      <td>3</td>\n",
              "    </tr>\n",
              "    <tr>\n",
              "      <th>12543</th>\n",
              "      <td>-121.50</td>\n",
              "      <td>38.54</td>\n",
              "      <td>52</td>\n",
              "      <td>1145</td>\n",
              "      <td>133.0</td>\n",
              "      <td>334</td>\n",
              "      <td>138</td>\n",
              "      <td>8.3380</td>\n",
              "      <td>1</td>\n",
              "    </tr>\n",
              "    <tr>\n",
              "      <th>10594</th>\n",
              "      <td>-117.79</td>\n",
              "      <td>33.69</td>\n",
              "      <td>16</td>\n",
              "      <td>1532</td>\n",
              "      <td>240.0</td>\n",
              "      <td>679</td>\n",
              "      <td>248</td>\n",
              "      <td>5.7115</td>\n",
              "      <td>3</td>\n",
              "    </tr>\n",
              "    <tr>\n",
              "      <th>13305</th>\n",
              "      <td>-117.62</td>\n",
              "      <td>34.09</td>\n",
              "      <td>26</td>\n",
              "      <td>3271</td>\n",
              "      <td>595.0</td>\n",
              "      <td>2259</td>\n",
              "      <td>566</td>\n",
              "      <td>4.0139</td>\n",
              "      <td>1</td>\n",
              "    </tr>\n",
              "    <tr>\n",
              "      <th>7783</th>\n",
              "      <td>-118.06</td>\n",
              "      <td>33.91</td>\n",
              "      <td>36</td>\n",
              "      <td>1360</td>\n",
              "      <td>271.0</td>\n",
              "      <td>909</td>\n",
              "      <td>275</td>\n",
              "      <td>4.6731</td>\n",
              "      <td>3</td>\n",
              "    </tr>\n",
              "  </tbody>\n",
              "</table>\n",
              "</div>"
            ],
            "text/plain": [
              "       longitude  latitude  ...  median_income  ocean_proximity\n",
              "14458    -117.27     32.82  ...         4.5083                0\n",
              "9596     -120.45     37.31  ...         3.7652                1\n",
              "15900    -122.41     37.74  ...         4.1417                2\n",
              "3158     -118.95     35.26  ...         4.0000                1\n",
              "8534     -118.36     33.90  ...         2.9551                3\n",
              "6265     -117.94     34.05  ...         3.7708                3\n",
              "12543    -121.50     38.54  ...         8.3380                1\n",
              "10594    -117.79     33.69  ...         5.7115                3\n",
              "13305    -117.62     34.09  ...         4.0139                1\n",
              "7783     -118.06     33.91  ...         4.6731                3\n",
              "\n",
              "[10 rows x 9 columns]"
            ]
          },
          "metadata": {
            "tags": []
          },
          "execution_count": 34
        }
      ]
    },
    {
      "cell_type": "code",
      "metadata": {
        "colab": {
          "base_uri": "https://localhost:8080/"
        },
        "id": "TYjLBOh6ExOu",
        "outputId": "8dc325f6-bbba-4d8b-9a88-add38d8cc921"
      },
      "source": [
        "X.shape"
      ],
      "execution_count": 35,
      "outputs": [
        {
          "output_type": "execute_result",
          "data": {
            "text/plain": [
              "(19673, 9)"
            ]
          },
          "metadata": {
            "tags": []
          },
          "execution_count": 35
        }
      ]
    },
    {
      "cell_type": "code",
      "metadata": {
        "colab": {
          "base_uri": "https://localhost:8080/"
        },
        "id": "yJ_fsUfVExOu",
        "outputId": "fd05c487-2696-4e96-f77f-ff31b36d6592"
      },
      "source": [
        "y.head(10)"
      ],
      "execution_count": 36,
      "outputs": [
        {
          "output_type": "execute_result",
          "data": {
            "text/plain": [
              "14458    405200\n",
              "9596     133500\n",
              "15900    270800\n",
              "3158      94500\n",
              "8534     205000\n",
              "6265     163500\n",
              "12543    405800\n",
              "10594    313900\n",
              "13305    132000\n",
              "7783     173300\n",
              "Name: median_house_value, dtype: int64"
            ]
          },
          "metadata": {
            "tags": []
          },
          "execution_count": 36
        }
      ]
    },
    {
      "cell_type": "code",
      "metadata": {
        "colab": {
          "base_uri": "https://localhost:8080/"
        },
        "id": "VJC38nPJExOv",
        "outputId": "6b7d4f53-1c7a-421c-9d07-40abc42eb01c"
      },
      "source": [
        "y.shape"
      ],
      "execution_count": 37,
      "outputs": [
        {
          "output_type": "execute_result",
          "data": {
            "text/plain": [
              "(19673,)"
            ]
          },
          "metadata": {
            "tags": []
          },
          "execution_count": 37
        }
      ]
    },
    {
      "cell_type": "code",
      "metadata": {
        "id": "BliMF6sHExOv"
      },
      "source": [
        "from sklearn.model_selection import train_test_split\n",
        "X_train, X_test, y_train, y_test = train_test_split(X, y, train_size=0.6)"
      ],
      "execution_count": 38,
      "outputs": []
    },
    {
      "cell_type": "code",
      "metadata": {
        "colab": {
          "base_uri": "https://localhost:8080/"
        },
        "id": "hSuqu-C6ExOv",
        "outputId": "26048884-8e6f-4e9f-8c4f-16537932789b"
      },
      "source": [
        "print(\"X_train shape is \",X_train.shape)\n",
        "print(\"X_test shape is \",X_test.shape)\n",
        "print(\"y_train shape is \",y_train.shape)\n",
        "print(\"y_test shape is \",y_test.shape)"
      ],
      "execution_count": 39,
      "outputs": [
        {
          "output_type": "stream",
          "text": [
            "X_train shape is  (11803, 9)\n",
            "X_test shape is  (7870, 9)\n",
            "y_train shape is  (11803,)\n",
            "y_test shape is  (7870,)\n"
          ],
          "name": "stdout"
        }
      ]
    },
    {
      "cell_type": "markdown",
      "metadata": {
        "id": "fcqcpuBnExOv"
      },
      "source": [
        "### 1. Random Forest Regressor"
      ]
    },
    {
      "cell_type": "code",
      "metadata": {
        "id": "5ADy6uPpExOw"
      },
      "source": [
        "#Using this class to make my print statement look bold\n",
        "class color:\n",
        "    BOLD = '\\033[1m'"
      ],
      "execution_count": 40,
      "outputs": []
    },
    {
      "cell_type": "code",
      "metadata": {
        "colab": {
          "base_uri": "https://localhost:8080/"
        },
        "id": "Twn2fc2pExOw",
        "outputId": "36c68c2d-4adb-4d6f-bdd1-59c16ecba0d6"
      },
      "source": [
        "from sklearn.ensemble import RandomForestRegressor\n",
        "from sklearn import metrics\n",
        "from sklearn.metrics import r2_score\n",
        "from sklearn.metrics import accuracy_score\n",
        "from sklearn.metrics import mean_squared_error\n",
        "import numpy as np\n",
        "\n",
        "rf = RandomForestRegressor(random_state=0)\n",
        "rf.fit(X_train, y_train)\n",
        "\n",
        "y_pred = rf.predict(X_test)\n",
        "\n",
        "accuracies = {}\n",
        "\n",
        "accuracy = rf.score(X_test, y_test)\n",
        "accuracy_rounded = round(accuracy*100,2)\n",
        "accuracies['Random Forest'] = accuracy_rounded\n",
        "\n",
        "r2 = metrics.r2_score(y_test, y_pred)\n",
        "Adj_r2 = 1-(1-r2)*(9-1)/(9-1-1)\n",
        "\n",
        "print(color.BOLD + '\\nR2 score is ',r2)\n",
        "\n",
        "print(color.BOLD + '\\nAdjusted R2 score is ',Adj_r2)\n",
        "\n",
        "print(color.BOLD + '\\nMean Absolute Error is',round(metrics.mean_absolute_error(y_test,rf.predict(X_test)),2))\n",
        "\n",
        "print(color.BOLD + '\\nMean Squared Error is',round(metrics.mean_squared_error(y_test,rf.predict(X_test)),2))\n",
        "\n",
        "print(color.BOLD + '\\nRoot Mean Squared Error is',round(np.sqrt(mean_squared_error(y_test,rf.predict(X_test))),2))\n",
        "\n",
        "print(color.BOLD + \"\\nAccuracy of Random Forest Regressor is \", accuracy_rounded,'%')"
      ],
      "execution_count": 41,
      "outputs": [
        {
          "output_type": "stream",
          "text": [
            "\u001b[1m\n",
            "R2 score is  0.7837947896960871\n",
            "\u001b[1m\n",
            "Adjusted R2 score is  0.7529083310812423\n",
            "\u001b[1m\n",
            "Mean Absolute Error is 30755.39\n",
            "\u001b[1m\n",
            "Mean Squared Error is 2044243774.62\n",
            "\u001b[1m\n",
            "Root Mean Squared Error is 45213.31\n",
            "\u001b[1m\n",
            "Accuracy of Random Forest Regressor is  78.38 %\n"
          ],
          "name": "stdout"
        }
      ]
    },
    {
      "cell_type": "markdown",
      "metadata": {
        "id": "xsKntNzWExOw"
      },
      "source": [
        "### 2. Decision Tree Regressor"
      ]
    },
    {
      "cell_type": "code",
      "metadata": {
        "id": "N6aIrD7LExOx",
        "colab": {
          "base_uri": "https://localhost:8080/"
        },
        "outputId": "bae2ee23-8eb5-4b28-8435-915475c752e0"
      },
      "source": [
        "from sklearn.tree import DecisionTreeRegressor\n",
        "\n",
        "dt = DecisionTreeRegressor(random_state=42)\n",
        "dt.fit(X_train,y_train)\n",
        "\n",
        "y_pred = dt.predict(X_test)\n",
        "\n",
        "accuracy = dt.score(X_test, y_test)\n",
        "accuracy_rounded = round(accuracy*100,2)\n",
        "accuracies['Decision Tree'] = accuracy_rounded\n",
        "\n",
        "r2 = metrics.r2_score(y_test, y_pred)\n",
        "Adj_r2 = 1-(1-r2)*(9-1)/(9-1-1)\n",
        "\n",
        "print(color.BOLD + '\\nR2 score is ',r2)\n",
        "\n",
        "print(color.BOLD + '\\nAdjusted R2 score is ',Adj_r2)\n",
        "\n",
        "print(color.BOLD + '\\nMean Absolute Error is',round(metrics.mean_absolute_error(y_test,dt.predict(X_test)),2))\n",
        "\n",
        "print(color.BOLD + '\\nMean Squared Error is',round(metrics.mean_squared_error(y_test,dt.predict(X_test)),2))\n",
        "\n",
        "print(color.BOLD + '\\nRoot Mean Squared Error is',round(np.sqrt(metrics.mean_squared_error(y_test,dt.predict(X_test))),2))\n",
        "\n",
        "print(color.BOLD + \"\\nAccuracy of Decision Tree Regressor is \", accuracy_rounded,'%')"
      ],
      "execution_count": 42,
      "outputs": [
        {
          "output_type": "stream",
          "text": [
            "\u001b[1m\n",
            "R2 score is  0.5537065281004334\n",
            "\u001b[1m\n",
            "Adjusted R2 score is  0.48995031782906673\n",
            "\u001b[1m\n",
            "Mean Absolute Error is 43264.88\n",
            "\u001b[1m\n",
            "Mean Squared Error is 4219753308.92\n",
            "\u001b[1m\n",
            "Root Mean Squared Error is 64959.63\n",
            "\u001b[1m\n",
            "Accuracy of Decision Tree Regressor is  55.37 %\n"
          ],
          "name": "stdout"
        }
      ]
    },
    {
      "cell_type": "markdown",
      "metadata": {
        "id": "WWXA1UPaExOx"
      },
      "source": [
        "### 3. AdaBoost Regressor"
      ]
    },
    {
      "cell_type": "code",
      "metadata": {
        "id": "uIgHs3GzExOx",
        "colab": {
          "base_uri": "https://localhost:8080/"
        },
        "outputId": "9c9b4fb6-a8d5-4a4d-d21d-425027f52592"
      },
      "source": [
        "from sklearn.ensemble import AdaBoostRegressor\n",
        "\n",
        "ada = AdaBoostRegressor(random_state=0)\n",
        "\n",
        "ada.fit(X_train,y_train)\n",
        "\n",
        "y_pred = ada.predict(X_test)\n",
        "\n",
        "accuracy = ada.score(X_test, y_test)\n",
        "accuracy_rounded = round(accuracy*100,2)\n",
        "accuracies['AdaBoost'] = accuracy_rounded\n",
        "\n",
        "r2 = metrics.r2_score(y_test, y_pred)\n",
        "Adj_r2 = 1-(1-r2)*(9-1)/(9-1-1)\n",
        "\n",
        "print(color.BOLD + '\\nR2 score is ',r2)\n",
        "\n",
        "print(color.BOLD + '\\nAdjusted R2 score is ',Adj_r2)\n",
        "\n",
        "print(color.BOLD + '\\nMean Absolute Error is',round(metrics.mean_absolute_error(y_test,ada.predict(X_test)),2))\n",
        "\n",
        "print(color.BOLD + '\\nMean Squared Error is',round(metrics.mean_squared_error(y_test,ada.predict(X_test)),2))\n",
        "\n",
        "print(color.BOLD + '\\nRoot Mean Squared Error is',round(np.sqrt(mean_squared_error(y_test,ada.predict(X_test))),2))\n",
        "\n",
        "print(color.BOLD + \"\\nAccuracy of AdaBoost Regressor is \", accuracy_rounded,'%')"
      ],
      "execution_count": 43,
      "outputs": [
        {
          "output_type": "stream",
          "text": [
            "\u001b[1m\n",
            "R2 score is  0.20110647540746884\n",
            "\u001b[1m\n",
            "Adjusted R2 score is  0.0869788290371073\n",
            "\u001b[1m\n",
            "Mean Absolute Error is 75922.71\n",
            "\u001b[1m\n",
            "Mean Squared Error is 7553625150.57\n",
            "\u001b[1m\n",
            "Root Mean Squared Error is 86911.59\n",
            "\u001b[1m\n",
            "Accuracy of AdaBoost Regressor is  20.11 %\n"
          ],
          "name": "stdout"
        }
      ]
    },
    {
      "cell_type": "markdown",
      "metadata": {
        "id": "crwxCa3eExOy"
      },
      "source": [
        "### 4. XGBoost Regressor"
      ]
    },
    {
      "cell_type": "code",
      "metadata": {
        "colab": {
          "base_uri": "https://localhost:8080/"
        },
        "id": "7-7TsCiaExOy",
        "outputId": "0c230b6b-7e1c-4370-da29-ef153425bb2b"
      },
      "source": [
        "from xgboost import XGBRegressor\n",
        "from sklearn.metrics import accuracy_score\n",
        "\n",
        "xg = XGBRegressor()\n",
        "xg.fit(X_train,y_train)\n",
        "\n",
        "y_pred = xg.predict(X_test)\n",
        "\n",
        "accuracy = xg.score(X_test, y_test)\n",
        "accuracy_rounded = round(accuracy*100,2)\n",
        "accuracies['XGBoost'] = accuracy_rounded\n",
        "\n",
        "r2 = metrics.r2_score(y_test, y_pred)\n",
        "Adj_r2 = 1-(1-r2)*(9-1)/(9-1-1)\n",
        "\n",
        "print(color.BOLD + '\\nR2 score is ',r2)\n",
        "\n",
        "print(color.BOLD + '\\nAdjusted R2 score is ',Adj_r2)\n",
        "\n",
        "print(color.BOLD + '\\nMean Absolute Error is',round(metrics.mean_absolute_error(y_test,xg.predict(X_test)),2))\n",
        "\n",
        "print(color.BOLD + '\\nMean Squared Error is',round(metrics.mean_squared_error(y_test,xg.predict(X_test)),2))\n",
        "\n",
        "print(color.BOLD + '\\nRoot Mean Squared Error is',round(np.sqrt(mean_squared_error(y_test,xg.predict(X_test))),2))\n",
        "\n",
        "print(color.BOLD + \"\\nAccuracy of XGBoost Regressor is \", accuracy_rounded,'%')"
      ],
      "execution_count": 44,
      "outputs": [
        {
          "output_type": "stream",
          "text": [
            "[11:04:12] WARNING: /workspace/src/objective/regression_obj.cu:152: reg:linear is now deprecated in favor of reg:squarederror.\n",
            "\u001b[1m\n",
            "R2 score is  0.738357306767532\n",
            "\u001b[1m\n",
            "Adjusted R2 score is  0.7009797791628937\n",
            "\u001b[1m\n",
            "Mean Absolute Error is 35743.59\n",
            "\u001b[1m\n",
            "Mean Squared Error is 2473860116.8\n",
            "\u001b[1m\n",
            "Root Mean Squared Error is 49737.91\n",
            "\u001b[1m\n",
            "Accuracy of XGBoost Regressor is  73.84 %\n"
          ],
          "name": "stdout"
        }
      ]
    },
    {
      "cell_type": "markdown",
      "metadata": {
        "id": "VM2qHHYBExOz"
      },
      "source": [
        "### 5. Gradient Boost Regressor"
      ]
    },
    {
      "cell_type": "code",
      "metadata": {
        "id": "4HtUdLgFExOz",
        "colab": {
          "base_uri": "https://localhost:8080/"
        },
        "outputId": "190cf87a-892f-41a8-e68d-c57b569d0501"
      },
      "source": [
        "from sklearn.ensemble import GradientBoostingRegressor\n",
        "\n",
        "gboost = GradientBoostingRegressor(random_state=42)\n",
        "\n",
        "gboost.fit(X_train,y_train)\n",
        "\n",
        "y_pred = gboost.predict(X_test)\n",
        "\n",
        "accuracy = gboost.score(X_test, y_test)\n",
        "accuracy_rounded = round(accuracy*100,2)\n",
        "accuracies['Gradient Boost'] = accuracy_rounded\n",
        "\n",
        "r2 = metrics.r2_score(y_test, y_pred)\n",
        "Adj_r2 = 1-(1-r2)*(9-1)/(9-1-1)\n",
        "\n",
        "print(color.BOLD + '\\nR2 score is ',r2)\n",
        "\n",
        "print(color.BOLD + '\\nAdjusted R2 score is ',Adj_r2)\n",
        "\n",
        "print(color.BOLD + '\\nMean Absolute Error is',round(metrics.mean_absolute_error(y_test,gboost.predict(X_test)),2))\n",
        "\n",
        "print(color.BOLD + '\\nMean Squared Error is',round(metrics.mean_squared_error(y_test,gboost.predict(X_test)),2))\n",
        "\n",
        "print(color.BOLD + '\\nRoot Mean Squared Error is',round(np.sqrt(mean_squared_error(y_test,gboost.predict(X_test))),2))\n",
        "\n",
        "print(color.BOLD + \"\\nAccuracy of Gradient Boost Regressor is \", accuracy_rounded,'%')"
      ],
      "execution_count": 45,
      "outputs": [
        {
          "output_type": "stream",
          "text": [
            "\u001b[1m\n",
            "R2 score is  0.7366400100662693\n",
            "\u001b[1m\n",
            "Adjusted R2 score is  0.6990171543614507\n",
            "\u001b[1m\n",
            "Mean Absolute Error is 35906.32\n",
            "\u001b[1m\n",
            "Mean Squared Error is 2490097343.86\n",
            "\u001b[1m\n",
            "Root Mean Squared Error is 49900.88\n",
            "\u001b[1m\n",
            "Accuracy of Gradient Boost Regressor is  73.66 %\n"
          ],
          "name": "stdout"
        }
      ]
    },
    {
      "cell_type": "markdown",
      "metadata": {
        "id": "0BLssVV1ExO0"
      },
      "source": [
        "### 6. Ridge Regression"
      ]
    },
    {
      "cell_type": "code",
      "metadata": {
        "id": "YMHNvzb2ExO0",
        "colab": {
          "base_uri": "https://localhost:8080/"
        },
        "outputId": "9d92e93a-aff3-40a1-b7d5-0d6d4774ac2a"
      },
      "source": [
        "from sklearn.linear_model import Ridge\n",
        "\n",
        "rid = Ridge(alpha=0.1)\n",
        "\n",
        "rid.fit(X_train,y_train)\n",
        "\n",
        "y_pred = rid.predict(X_test)\n",
        "\n",
        "accuracy = rid.score(X_test, y_test)\n",
        "accuracy_rounded = round(accuracy*100,2)\n",
        "accuracies['Ridge Regression'] = accuracy_rounded\n",
        "\n",
        "r2 = metrics.r2_score(y_test, y_pred)\n",
        "Adj_r2 = 1-(1-r2)*(9-1)/(9-1-1)\n",
        "\n",
        "print(color.BOLD + '\\nR2 score is ',r2)\n",
        "\n",
        "print(color.BOLD + '\\nAdjusted R2 score is ',Adj_r2)\n",
        "\n",
        "print(color.BOLD + '\\nMean Absolute Error is',round(metrics.mean_absolute_error(y_test,rid.predict(X_test)),2))\n",
        "\n",
        "print(color.BOLD + '\\nMean Squared Error is',round(metrics.mean_squared_error(y_test,rid.predict(X_test)),2))\n",
        "\n",
        "print(color.BOLD + '\\nRoot Mean Squared Error is',round(np.sqrt(mean_squared_error(y_test,rid.predict(X_test))),2))\n",
        "\n",
        "print(color.BOLD + \"\\nAccuracy of Ridge Regression is \", accuracy_rounded,'%')"
      ],
      "execution_count": 46,
      "outputs": [
        {
          "output_type": "stream",
          "text": [
            "\u001b[1m\n",
            "R2 score is  0.6124896281870307\n",
            "\u001b[1m\n",
            "Adjusted R2 score is  0.5571310036423207\n",
            "\u001b[1m\n",
            "Mean Absolute Error is 45375.67\n",
            "\u001b[1m\n",
            "Mean Squared Error is 3663952705.24\n",
            "\u001b[1m\n",
            "Root Mean Squared Error is 60530.59\n",
            "\u001b[1m\n",
            "Accuracy of Ridge Regression is  61.25 %\n"
          ],
          "name": "stdout"
        }
      ]
    },
    {
      "cell_type": "markdown",
      "metadata": {
        "id": "Oc89QA2kExO1"
      },
      "source": [
        "### 7. Lasso Regression"
      ]
    },
    {
      "cell_type": "code",
      "metadata": {
        "id": "VHZR3S32ExO1",
        "colab": {
          "base_uri": "https://localhost:8080/"
        },
        "outputId": "0aa2bff9-772b-4957-8ca1-6be7a2fa6406"
      },
      "source": [
        "from sklearn import linear_model\n",
        "\n",
        "lasso = linear_model.Lasso(alpha=0.3)\n",
        "\n",
        "lasso.fit(X_train,y_train)\n",
        "\n",
        "y_pred = lasso.predict(X_test)\n",
        "\n",
        "accuracy = lasso.score(X_test, y_test)\n",
        "accuracy_rounded = round(accuracy*100,2)\n",
        "accuracies['Lasso Regression'] = accuracy_rounded\n",
        "\n",
        "r2 = metrics.r2_score(y_test, y_pred)\n",
        "Adj_r2 = 1-(1-r2)*(9-1)/(9-1-1)\n",
        "\n",
        "print(color.BOLD + '\\nR2 score is ',r2)\n",
        "\n",
        "print(color.BOLD + '\\nAdjusted R2 score is ',Adj_r2)\n",
        "\n",
        "print(color.BOLD + '\\nMean Absolute Error is',round(metrics.mean_absolute_error(y_test,lasso.predict(X_test)),2))\n",
        "\n",
        "print(color.BOLD + '\\nMean Squared Error is',round(metrics.mean_squared_error(y_test,lasso.predict(X_test)),2))\n",
        "\n",
        "print(color.BOLD + '\\nRoot Mean Squared Error is',round(np.sqrt(mean_squared_error(y_test,lasso.predict(X_test))),2))\n",
        "\n",
        "print(color.BOLD + \"\\nAccuracy of Lasso Regression is \", accuracy_rounded,'%')"
      ],
      "execution_count": 47,
      "outputs": [
        {
          "output_type": "stream",
          "text": [
            "\u001b[1m\n",
            "R2 score is  0.6124895997798621\n",
            "\u001b[1m\n",
            "Adjusted R2 score is  0.5571309711769852\n",
            "\u001b[1m\n",
            "Mean Absolute Error is 45375.68\n",
            "\u001b[1m\n",
            "Mean Squared Error is 3663952973.84\n",
            "\u001b[1m\n",
            "Root Mean Squared Error is 60530.6\n",
            "\u001b[1m\n",
            "Accuracy of Lasso Regression is  61.25 %\n"
          ],
          "name": "stdout"
        }
      ]
    },
    {
      "cell_type": "markdown",
      "metadata": {
        "id": "MohqDtvSExO2"
      },
      "source": [
        "### 8. ElasticNet Regression"
      ]
    },
    {
      "cell_type": "code",
      "metadata": {
        "id": "w94Y8-kTExO2",
        "colab": {
          "base_uri": "https://localhost:8080/"
        },
        "outputId": "07c6b224-24ec-421d-c214-e4e4c5f9e364"
      },
      "source": [
        "from sklearn.linear_model import ElasticNet\n",
        "\n",
        "ela = ElasticNet(random_state=0)\n",
        "\n",
        "ela.fit(X_train,y_train)\n",
        "\n",
        "y_pred = ela.predict(X_test)\n",
        "\n",
        "accuracy = ela.score(X_test, y_test)\n",
        "accuracy_rounded = round(accuracy*100,2)\n",
        "accuracies['Elastic Net Regression'] = accuracy_rounded\n",
        "\n",
        "r2 = metrics.r2_score(y_test, y_pred)\n",
        "Adj_r2 = 1-(1-r2)*(9-1)/(9-1-1)\n",
        "\n",
        "print(color.BOLD + '\\nR2 score is ',r2)\n",
        "\n",
        "print(color.BOLD + '\\nAdjusted R2 score is ',Adj_r2)\n",
        "\n",
        "print(color.BOLD + '\\nMean Absolute Error is',round(metrics.mean_absolute_error(y_test,ela.predict(X_test)),2))\n",
        "\n",
        "print(color.BOLD + '\\nMean Squared Error is',round(metrics.mean_squared_error(y_test,ela.predict(X_test)),2))\n",
        "\n",
        "print(color.BOLD + '\\nRoot Mean Squared Error is',round(np.sqrt(mean_squared_error(y_test,ela.predict(X_test))),2))\n",
        "\n",
        "print(color.BOLD + \"\\nAccuracy of Elastic net Regression is \", accuracy_rounded,'%')"
      ],
      "execution_count": 48,
      "outputs": [
        {
          "output_type": "stream",
          "text": [
            "\u001b[1m\n",
            "R2 score is  0.5628022935714793\n",
            "\u001b[1m\n",
            "Adjusted R2 score is  0.5003454783674048\n",
            "\u001b[1m\n",
            "Mean Absolute Error is 48826.61\n",
            "\u001b[1m\n",
            "Mean Squared Error is 4133751857.27\n",
            "\u001b[1m\n",
            "Root Mean Squared Error is 64294.26\n",
            "\u001b[1m\n",
            "Accuracy of Elastic net Regression is  56.28 %\n"
          ],
          "name": "stdout"
        }
      ]
    },
    {
      "cell_type": "markdown",
      "metadata": {
        "id": "-55vOHQ0ExO2"
      },
      "source": [
        "### 9. CatBoost"
      ]
    },
    {
      "cell_type": "code",
      "metadata": {
        "colab": {
          "base_uri": "https://localhost:8080/"
        },
        "id": "lWRZ6r-KF3Hp",
        "outputId": "c4aaf0e5-cf7d-41bb-f909-dca2bf2d01ba"
      },
      "source": [
        "!pip install catboost"
      ],
      "execution_count": 49,
      "outputs": [
        {
          "output_type": "stream",
          "text": [
            "Collecting catboost\n",
            "\u001b[?25l  Downloading https://files.pythonhosted.org/packages/47/80/8e9c57ec32dfed6ba2922bc5c96462cbf8596ce1a6f5de532ad1e43e53fe/catboost-0.25.1-cp37-none-manylinux1_x86_64.whl (67.3MB)\n",
            "\u001b[K     |████████████████████████████████| 67.3MB 74kB/s \n",
            "\u001b[?25hRequirement already satisfied: plotly in /usr/local/lib/python3.7/dist-packages (from catboost) (4.4.1)\n",
            "Requirement already satisfied: numpy>=1.16.0 in /usr/local/lib/python3.7/dist-packages (from catboost) (1.19.5)\n",
            "Requirement already satisfied: scipy in /usr/local/lib/python3.7/dist-packages (from catboost) (1.4.1)\n",
            "Requirement already satisfied: matplotlib in /usr/local/lib/python3.7/dist-packages (from catboost) (3.2.2)\n",
            "Requirement already satisfied: pandas>=0.24.0 in /usr/local/lib/python3.7/dist-packages (from catboost) (1.1.5)\n",
            "Requirement already satisfied: graphviz in /usr/local/lib/python3.7/dist-packages (from catboost) (0.10.1)\n",
            "Requirement already satisfied: six in /usr/local/lib/python3.7/dist-packages (from catboost) (1.15.0)\n",
            "Requirement already satisfied: retrying>=1.3.3 in /usr/local/lib/python3.7/dist-packages (from plotly->catboost) (1.3.3)\n",
            "Requirement already satisfied: pyparsing!=2.0.4,!=2.1.2,!=2.1.6,>=2.0.1 in /usr/local/lib/python3.7/dist-packages (from matplotlib->catboost) (2.4.7)\n",
            "Requirement already satisfied: python-dateutil>=2.1 in /usr/local/lib/python3.7/dist-packages (from matplotlib->catboost) (2.8.1)\n",
            "Requirement already satisfied: cycler>=0.10 in /usr/local/lib/python3.7/dist-packages (from matplotlib->catboost) (0.10.0)\n",
            "Requirement already satisfied: kiwisolver>=1.0.1 in /usr/local/lib/python3.7/dist-packages (from matplotlib->catboost) (1.3.1)\n",
            "Requirement already satisfied: pytz>=2017.2 in /usr/local/lib/python3.7/dist-packages (from pandas>=0.24.0->catboost) (2018.9)\n",
            "Installing collected packages: catboost\n",
            "Successfully installed catboost-0.25.1\n"
          ],
          "name": "stdout"
        }
      ]
    },
    {
      "cell_type": "code",
      "metadata": {
        "scrolled": true,
        "id": "BLAKNVDmExO3",
        "colab": {
          "base_uri": "https://localhost:8080/"
        },
        "outputId": "67045bcb-e092-42e1-c4c5-d2fbe1b331c2"
      },
      "source": [
        "from catboost import CatBoostRegressor\n",
        "\n",
        "cat = CatBoostRegressor()\n",
        "\n",
        "cat.fit(X_train,y_train)\n",
        "\n",
        "y_pred = cat.predict(X_test)\n",
        "\n",
        "accuracy = cat.score(X_test, y_test)\n",
        "accuracy_rounded = round(accuracy*100,2)\n",
        "accuracies['CatBoost'] = accuracy_rounded\n",
        "\n",
        "r2 = metrics.r2_score(y_test, y_pred)\n",
        "Adj_r2 = 1-(1-r2)*(9-1)/(9-1-1)\n",
        "\n",
        "print(color.BOLD + '\\nR2 score is ',r2)\n",
        "\n",
        "print(color.BOLD + '\\nAdjusted R2 score is ',Adj_r2)\n",
        "\n",
        "print(color.BOLD + '\\nMean Absolute Error is',round(metrics.mean_absolute_error(y_test,cat.predict(X_test)),2))\n",
        "\n",
        "print(color.BOLD + '\\nMean Squared Error is',round(metrics.mean_squared_error(y_test,cat.predict(X_test)),2))\n",
        "\n",
        "print(color.BOLD + '\\nRoot Mean Squared Error is',round(np.sqrt(mean_squared_error(y_test,cat.predict(X_test))),2))\n",
        "\n",
        "print(color.BOLD + \"\\nAccuracy of CatBoost is \", accuracy_rounded,'%')"
      ],
      "execution_count": 50,
      "outputs": [
        {
          "output_type": "stream",
          "text": [
            "Learning rate set to 0.060564\n",
            "0:\tlearn: 95034.1139863\ttotal: 52ms\tremaining: 52s\n",
            "1:\tlearn: 92196.1383964\ttotal: 56.4ms\tremaining: 28.1s\n",
            "2:\tlearn: 89482.3600539\ttotal: 60.9ms\tremaining: 20.3s\n",
            "3:\tlearn: 87099.9565484\ttotal: 65.1ms\tremaining: 16.2s\n",
            "4:\tlearn: 84877.7962550\ttotal: 69.4ms\tremaining: 13.8s\n",
            "5:\tlearn: 82878.3941942\ttotal: 73.7ms\tremaining: 12.2s\n",
            "6:\tlearn: 81248.3772965\ttotal: 78.1ms\tremaining: 11.1s\n",
            "7:\tlearn: 79457.0643191\ttotal: 82.5ms\tremaining: 10.2s\n",
            "8:\tlearn: 77860.5088052\ttotal: 86.8ms\tremaining: 9.56s\n",
            "9:\tlearn: 76431.9249367\ttotal: 91.3ms\tremaining: 9.04s\n",
            "10:\tlearn: 75099.2194767\ttotal: 95.7ms\tremaining: 8.6s\n",
            "11:\tlearn: 73792.9965473\ttotal: 100ms\tremaining: 8.23s\n",
            "12:\tlearn: 72722.9697250\ttotal: 104ms\tremaining: 7.92s\n",
            "13:\tlearn: 71684.6188514\ttotal: 109ms\tremaining: 7.64s\n",
            "14:\tlearn: 70677.1135417\ttotal: 113ms\tremaining: 7.42s\n",
            "15:\tlearn: 69786.4983844\ttotal: 117ms\tremaining: 7.21s\n",
            "16:\tlearn: 69011.9095628\ttotal: 122ms\tremaining: 7.03s\n",
            "17:\tlearn: 68201.9112591\ttotal: 126ms\tremaining: 6.87s\n",
            "18:\tlearn: 67549.5516690\ttotal: 130ms\tremaining: 6.73s\n",
            "19:\tlearn: 66796.9417456\ttotal: 134ms\tremaining: 6.59s\n",
            "20:\tlearn: 66192.6496419\ttotal: 139ms\tremaining: 6.46s\n",
            "21:\tlearn: 65628.4476213\ttotal: 143ms\tremaining: 6.36s\n",
            "22:\tlearn: 65155.5594950\ttotal: 147ms\tremaining: 6.26s\n",
            "23:\tlearn: 64571.7421039\ttotal: 152ms\tremaining: 6.17s\n",
            "24:\tlearn: 64162.6792671\ttotal: 156ms\tremaining: 6.09s\n",
            "25:\tlearn: 63646.9846615\ttotal: 161ms\tremaining: 6.01s\n",
            "26:\tlearn: 63274.4663057\ttotal: 165ms\tremaining: 5.93s\n",
            "27:\tlearn: 62901.5177407\ttotal: 169ms\tremaining: 5.87s\n",
            "28:\tlearn: 62521.1705675\ttotal: 173ms\tremaining: 5.8s\n",
            "29:\tlearn: 62162.6660087\ttotal: 178ms\tremaining: 5.75s\n",
            "30:\tlearn: 61865.2686984\ttotal: 182ms\tremaining: 5.69s\n",
            "31:\tlearn: 61521.9496320\ttotal: 186ms\tremaining: 5.63s\n",
            "32:\tlearn: 61254.1286107\ttotal: 190ms\tremaining: 5.58s\n",
            "33:\tlearn: 60959.6720796\ttotal: 197ms\tremaining: 5.6s\n",
            "34:\tlearn: 60704.9613169\ttotal: 201ms\tremaining: 5.55s\n",
            "35:\tlearn: 60270.1654103\ttotal: 206ms\tremaining: 5.5s\n",
            "36:\tlearn: 60063.7739835\ttotal: 210ms\tremaining: 5.46s\n",
            "37:\tlearn: 59811.1483830\ttotal: 214ms\tremaining: 5.42s\n",
            "38:\tlearn: 59551.8227416\ttotal: 218ms\tremaining: 5.38s\n",
            "39:\tlearn: 59273.0156926\ttotal: 222ms\tremaining: 5.34s\n",
            "40:\tlearn: 58886.6566936\ttotal: 227ms\tremaining: 5.31s\n",
            "41:\tlearn: 58627.9856592\ttotal: 231ms\tremaining: 5.27s\n",
            "42:\tlearn: 58428.3205536\ttotal: 235ms\tremaining: 5.24s\n",
            "43:\tlearn: 58263.4373955\ttotal: 244ms\tremaining: 5.29s\n",
            "44:\tlearn: 58087.9398581\ttotal: 248ms\tremaining: 5.26s\n",
            "45:\tlearn: 57895.5293821\ttotal: 252ms\tremaining: 5.22s\n",
            "46:\tlearn: 57614.5914470\ttotal: 256ms\tremaining: 5.19s\n",
            "47:\tlearn: 57417.2438241\ttotal: 260ms\tremaining: 5.15s\n",
            "48:\tlearn: 57189.3613375\ttotal: 264ms\tremaining: 5.13s\n",
            "49:\tlearn: 57009.9899993\ttotal: 268ms\tremaining: 5.1s\n",
            "50:\tlearn: 56834.5762136\ttotal: 272ms\tremaining: 5.07s\n",
            "51:\tlearn: 56563.2898017\ttotal: 277ms\tremaining: 5.05s\n",
            "52:\tlearn: 56407.3932986\ttotal: 281ms\tremaining: 5.03s\n",
            "53:\tlearn: 56286.3436663\ttotal: 285ms\tremaining: 5s\n",
            "54:\tlearn: 56063.0887950\ttotal: 290ms\tremaining: 4.97s\n",
            "55:\tlearn: 55796.4451437\ttotal: 294ms\tremaining: 4.95s\n",
            "56:\tlearn: 55580.5019242\ttotal: 298ms\tremaining: 4.92s\n",
            "57:\tlearn: 55416.4812782\ttotal: 302ms\tremaining: 4.9s\n",
            "58:\tlearn: 55254.1063756\ttotal: 306ms\tremaining: 4.88s\n",
            "59:\tlearn: 55091.7935065\ttotal: 310ms\tremaining: 4.86s\n",
            "60:\tlearn: 54982.7998444\ttotal: 314ms\tremaining: 4.84s\n",
            "61:\tlearn: 54846.8754717\ttotal: 320ms\tremaining: 4.85s\n",
            "62:\tlearn: 54655.8390800\ttotal: 325ms\tremaining: 4.83s\n",
            "63:\tlearn: 54553.4957138\ttotal: 329ms\tremaining: 4.81s\n",
            "64:\tlearn: 54426.7855664\ttotal: 334ms\tremaining: 4.81s\n",
            "65:\tlearn: 54298.4896583\ttotal: 339ms\tremaining: 4.79s\n",
            "66:\tlearn: 54210.5229345\ttotal: 343ms\tremaining: 4.77s\n",
            "67:\tlearn: 54069.4288134\ttotal: 347ms\tremaining: 4.75s\n",
            "68:\tlearn: 53980.9306141\ttotal: 351ms\tremaining: 4.74s\n",
            "69:\tlearn: 53870.4911666\ttotal: 355ms\tremaining: 4.72s\n",
            "70:\tlearn: 53774.3351293\ttotal: 359ms\tremaining: 4.7s\n",
            "71:\tlearn: 53660.4436435\ttotal: 364ms\tremaining: 4.69s\n",
            "72:\tlearn: 53533.5304613\ttotal: 368ms\tremaining: 4.67s\n",
            "73:\tlearn: 53426.3078162\ttotal: 372ms\tremaining: 4.66s\n",
            "74:\tlearn: 53306.5951456\ttotal: 377ms\tremaining: 4.65s\n",
            "75:\tlearn: 53211.4294671\ttotal: 381ms\tremaining: 4.63s\n",
            "76:\tlearn: 53146.9750174\ttotal: 389ms\tremaining: 4.66s\n",
            "77:\tlearn: 52977.7449974\ttotal: 393ms\tremaining: 4.65s\n",
            "78:\tlearn: 52864.0703810\ttotal: 397ms\tremaining: 4.63s\n",
            "79:\tlearn: 52777.4106725\ttotal: 401ms\tremaining: 4.61s\n",
            "80:\tlearn: 52703.6219817\ttotal: 405ms\tremaining: 4.59s\n",
            "81:\tlearn: 52627.9301246\ttotal: 409ms\tremaining: 4.58s\n",
            "82:\tlearn: 52546.7923019\ttotal: 413ms\tremaining: 4.56s\n",
            "83:\tlearn: 52447.3840706\ttotal: 417ms\tremaining: 4.54s\n",
            "84:\tlearn: 52361.3092870\ttotal: 421ms\tremaining: 4.53s\n",
            "85:\tlearn: 52275.4975981\ttotal: 425ms\tremaining: 4.52s\n",
            "86:\tlearn: 52205.7029703\ttotal: 429ms\tremaining: 4.5s\n",
            "87:\tlearn: 52118.6825517\ttotal: 433ms\tremaining: 4.49s\n",
            "88:\tlearn: 52083.7399379\ttotal: 437ms\tremaining: 4.48s\n",
            "89:\tlearn: 51968.6953693\ttotal: 441ms\tremaining: 4.46s\n",
            "90:\tlearn: 51897.4514492\ttotal: 446ms\tremaining: 4.45s\n",
            "91:\tlearn: 51829.2947906\ttotal: 450ms\tremaining: 4.44s\n",
            "92:\tlearn: 51775.3028031\ttotal: 454ms\tremaining: 4.43s\n",
            "93:\tlearn: 51641.5532614\ttotal: 458ms\tremaining: 4.42s\n",
            "94:\tlearn: 51574.9457836\ttotal: 462ms\tremaining: 4.4s\n",
            "95:\tlearn: 51509.8130452\ttotal: 466ms\tremaining: 4.39s\n",
            "96:\tlearn: 51457.9934269\ttotal: 471ms\tremaining: 4.38s\n",
            "97:\tlearn: 51390.8218281\ttotal: 475ms\tremaining: 4.37s\n",
            "98:\tlearn: 51346.5350987\ttotal: 479ms\tremaining: 4.36s\n",
            "99:\tlearn: 51293.6264276\ttotal: 483ms\tremaining: 4.35s\n",
            "100:\tlearn: 51105.3568342\ttotal: 487ms\tremaining: 4.34s\n",
            "101:\tlearn: 50985.0592502\ttotal: 491ms\tremaining: 4.33s\n",
            "102:\tlearn: 50939.3068696\ttotal: 495ms\tremaining: 4.31s\n",
            "103:\tlearn: 50821.2739664\ttotal: 499ms\tremaining: 4.3s\n",
            "104:\tlearn: 50735.6362755\ttotal: 503ms\tremaining: 4.29s\n",
            "105:\tlearn: 50687.3751312\ttotal: 508ms\tremaining: 4.28s\n",
            "106:\tlearn: 50620.9638877\ttotal: 512ms\tremaining: 4.27s\n",
            "107:\tlearn: 50560.9849461\ttotal: 516ms\tremaining: 4.26s\n",
            "108:\tlearn: 50496.9443943\ttotal: 520ms\tremaining: 4.25s\n",
            "109:\tlearn: 50407.0101472\ttotal: 527ms\tremaining: 4.26s\n",
            "110:\tlearn: 50358.0642408\ttotal: 531ms\tremaining: 4.25s\n",
            "111:\tlearn: 50311.3474092\ttotal: 535ms\tremaining: 4.24s\n",
            "112:\tlearn: 50246.7754357\ttotal: 541ms\tremaining: 4.25s\n",
            "113:\tlearn: 50138.5549157\ttotal: 545ms\tremaining: 4.24s\n",
            "114:\tlearn: 50053.0129707\ttotal: 549ms\tremaining: 4.23s\n",
            "115:\tlearn: 50007.0905879\ttotal: 554ms\tremaining: 4.22s\n",
            "116:\tlearn: 49865.6320216\ttotal: 558ms\tremaining: 4.21s\n",
            "117:\tlearn: 49824.4422533\ttotal: 562ms\tremaining: 4.2s\n",
            "118:\tlearn: 49767.0164238\ttotal: 566ms\tremaining: 4.19s\n",
            "119:\tlearn: 49622.2752733\ttotal: 570ms\tremaining: 4.18s\n",
            "120:\tlearn: 49586.5676367\ttotal: 578ms\tremaining: 4.2s\n",
            "121:\tlearn: 49531.1891161\ttotal: 583ms\tremaining: 4.19s\n",
            "122:\tlearn: 49419.3438101\ttotal: 587ms\tremaining: 4.19s\n",
            "123:\tlearn: 49358.5667847\ttotal: 591ms\tremaining: 4.18s\n",
            "124:\tlearn: 49319.6439539\ttotal: 596ms\tremaining: 4.17s\n",
            "125:\tlearn: 49279.1053192\ttotal: 600ms\tremaining: 4.16s\n",
            "126:\tlearn: 49233.1298868\ttotal: 604ms\tremaining: 4.15s\n",
            "127:\tlearn: 49179.5463556\ttotal: 610ms\tremaining: 4.16s\n",
            "128:\tlearn: 49142.4617387\ttotal: 615ms\tremaining: 4.16s\n",
            "129:\tlearn: 49118.3023510\ttotal: 623ms\tremaining: 4.17s\n",
            "130:\tlearn: 49038.1434965\ttotal: 628ms\tremaining: 4.17s\n",
            "131:\tlearn: 48933.7114101\ttotal: 632ms\tremaining: 4.16s\n",
            "132:\tlearn: 48845.7162494\ttotal: 637ms\tremaining: 4.15s\n",
            "133:\tlearn: 48750.2009706\ttotal: 641ms\tremaining: 4.14s\n",
            "134:\tlearn: 48690.1903945\ttotal: 645ms\tremaining: 4.13s\n",
            "135:\tlearn: 48640.9917439\ttotal: 649ms\tremaining: 4.13s\n",
            "136:\tlearn: 48597.1403882\ttotal: 654ms\tremaining: 4.12s\n",
            "137:\tlearn: 48528.7981618\ttotal: 658ms\tremaining: 4.11s\n",
            "138:\tlearn: 48399.4530545\ttotal: 662ms\tremaining: 4.1s\n",
            "139:\tlearn: 48366.7263230\ttotal: 666ms\tremaining: 4.09s\n",
            "140:\tlearn: 48329.2146984\ttotal: 673ms\tremaining: 4.1s\n",
            "141:\tlearn: 48211.2670380\ttotal: 678ms\tremaining: 4.09s\n",
            "142:\tlearn: 48147.3031242\ttotal: 682ms\tremaining: 4.08s\n",
            "143:\tlearn: 48112.6441101\ttotal: 687ms\tremaining: 4.08s\n",
            "144:\tlearn: 48072.9674785\ttotal: 692ms\tremaining: 4.08s\n",
            "145:\tlearn: 47994.0998789\ttotal: 696ms\tremaining: 4.07s\n",
            "146:\tlearn: 47947.6443464\ttotal: 700ms\tremaining: 4.06s\n",
            "147:\tlearn: 47885.8653429\ttotal: 704ms\tremaining: 4.05s\n",
            "148:\tlearn: 47841.4618918\ttotal: 708ms\tremaining: 4.04s\n",
            "149:\tlearn: 47803.5588230\ttotal: 713ms\tremaining: 4.04s\n",
            "150:\tlearn: 47765.8709337\ttotal: 717ms\tremaining: 4.03s\n",
            "151:\tlearn: 47712.3276019\ttotal: 721ms\tremaining: 4.02s\n",
            "152:\tlearn: 47624.4750817\ttotal: 725ms\tremaining: 4.01s\n",
            "153:\tlearn: 47572.7813852\ttotal: 729ms\tremaining: 4.01s\n",
            "154:\tlearn: 47535.2730671\ttotal: 734ms\tremaining: 4s\n",
            "155:\tlearn: 47500.5559668\ttotal: 738ms\tremaining: 3.99s\n",
            "156:\tlearn: 47454.7281110\ttotal: 742ms\tremaining: 3.98s\n",
            "157:\tlearn: 47387.8074636\ttotal: 747ms\tremaining: 3.98s\n",
            "158:\tlearn: 47327.1092169\ttotal: 751ms\tremaining: 3.97s\n",
            "159:\tlearn: 47292.7321959\ttotal: 755ms\tremaining: 3.96s\n",
            "160:\tlearn: 47236.0790385\ttotal: 759ms\tremaining: 3.95s\n",
            "161:\tlearn: 47197.4924577\ttotal: 763ms\tremaining: 3.95s\n",
            "162:\tlearn: 47150.2133830\ttotal: 767ms\tremaining: 3.94s\n",
            "163:\tlearn: 47083.9126645\ttotal: 776ms\tremaining: 3.95s\n",
            "164:\tlearn: 47002.1775741\ttotal: 780ms\tremaining: 3.95s\n",
            "165:\tlearn: 46929.9933235\ttotal: 785ms\tremaining: 3.94s\n",
            "166:\tlearn: 46885.1544774\ttotal: 789ms\tremaining: 3.93s\n",
            "167:\tlearn: 46841.8281566\ttotal: 793ms\tremaining: 3.93s\n",
            "168:\tlearn: 46804.3055343\ttotal: 797ms\tremaining: 3.92s\n",
            "169:\tlearn: 46740.0378515\ttotal: 801ms\tremaining: 3.91s\n",
            "170:\tlearn: 46711.2414479\ttotal: 806ms\tremaining: 3.9s\n",
            "171:\tlearn: 46675.8343567\ttotal: 813ms\tremaining: 3.91s\n",
            "172:\tlearn: 46642.0864455\ttotal: 817ms\tremaining: 3.9s\n",
            "173:\tlearn: 46581.7046441\ttotal: 821ms\tremaining: 3.9s\n",
            "174:\tlearn: 46542.6994281\ttotal: 825ms\tremaining: 3.89s\n",
            "175:\tlearn: 46491.1984109\ttotal: 829ms\tremaining: 3.88s\n",
            "176:\tlearn: 46441.7690360\ttotal: 833ms\tremaining: 3.87s\n",
            "177:\tlearn: 46389.7484367\ttotal: 837ms\tremaining: 3.87s\n",
            "178:\tlearn: 46333.0981518\ttotal: 842ms\tremaining: 3.86s\n",
            "179:\tlearn: 46270.8742997\ttotal: 846ms\tremaining: 3.85s\n",
            "180:\tlearn: 46234.7731014\ttotal: 850ms\tremaining: 3.85s\n",
            "181:\tlearn: 46162.1776208\ttotal: 854ms\tremaining: 3.84s\n",
            "182:\tlearn: 46110.5040304\ttotal: 859ms\tremaining: 3.83s\n",
            "183:\tlearn: 46040.0069137\ttotal: 863ms\tremaining: 3.83s\n",
            "184:\tlearn: 45986.8866785\ttotal: 867ms\tremaining: 3.82s\n",
            "185:\tlearn: 45922.0476548\ttotal: 871ms\tremaining: 3.81s\n",
            "186:\tlearn: 45885.3275054\ttotal: 876ms\tremaining: 3.81s\n",
            "187:\tlearn: 45832.6628090\ttotal: 880ms\tremaining: 3.8s\n",
            "188:\tlearn: 45798.7640040\ttotal: 886ms\tremaining: 3.8s\n",
            "189:\tlearn: 45761.5912392\ttotal: 890ms\tremaining: 3.8s\n",
            "190:\tlearn: 45712.7408481\ttotal: 895ms\tremaining: 3.79s\n",
            "191:\tlearn: 45662.6364989\ttotal: 901ms\tremaining: 3.79s\n",
            "192:\tlearn: 45628.4909318\ttotal: 906ms\tremaining: 3.79s\n",
            "193:\tlearn: 45576.3102653\ttotal: 910ms\tremaining: 3.78s\n",
            "194:\tlearn: 45537.9207035\ttotal: 914ms\tremaining: 3.77s\n",
            "195:\tlearn: 45511.0503871\ttotal: 918ms\tremaining: 3.77s\n",
            "196:\tlearn: 45454.6169825\ttotal: 923ms\tremaining: 3.76s\n",
            "197:\tlearn: 45422.1252064\ttotal: 927ms\tremaining: 3.75s\n",
            "198:\tlearn: 45402.1804443\ttotal: 931ms\tremaining: 3.75s\n",
            "199:\tlearn: 45341.0087452\ttotal: 935ms\tremaining: 3.74s\n",
            "200:\tlearn: 45296.1728494\ttotal: 939ms\tremaining: 3.73s\n",
            "201:\tlearn: 45248.8346526\ttotal: 944ms\tremaining: 3.73s\n",
            "202:\tlearn: 45213.1521960\ttotal: 948ms\tremaining: 3.72s\n",
            "203:\tlearn: 45142.8699695\ttotal: 952ms\tremaining: 3.71s\n",
            "204:\tlearn: 45119.7090546\ttotal: 956ms\tremaining: 3.71s\n",
            "205:\tlearn: 45089.2092073\ttotal: 960ms\tremaining: 3.7s\n",
            "206:\tlearn: 45033.5306729\ttotal: 965ms\tremaining: 3.69s\n",
            "207:\tlearn: 44998.9624476\ttotal: 973ms\tremaining: 3.71s\n",
            "208:\tlearn: 44963.2794298\ttotal: 977ms\tremaining: 3.7s\n",
            "209:\tlearn: 44883.0470393\ttotal: 982ms\tremaining: 3.69s\n",
            "210:\tlearn: 44837.1027486\ttotal: 986ms\tremaining: 3.69s\n",
            "211:\tlearn: 44797.0085741\ttotal: 990ms\tremaining: 3.68s\n",
            "212:\tlearn: 44773.5150432\ttotal: 994ms\tremaining: 3.67s\n",
            "213:\tlearn: 44702.2966800\ttotal: 998ms\tremaining: 3.67s\n",
            "214:\tlearn: 44673.0729424\ttotal: 1s\tremaining: 3.66s\n",
            "215:\tlearn: 44633.8215900\ttotal: 1.01s\tremaining: 3.65s\n",
            "216:\tlearn: 44586.9177633\ttotal: 1.01s\tremaining: 3.65s\n",
            "217:\tlearn: 44527.8275601\ttotal: 1.01s\tremaining: 3.64s\n",
            "218:\tlearn: 44474.7236500\ttotal: 1.02s\tremaining: 3.63s\n",
            "219:\tlearn: 44444.0147861\ttotal: 1.02s\tremaining: 3.63s\n",
            "220:\tlearn: 44404.3172554\ttotal: 1.03s\tremaining: 3.62s\n",
            "221:\tlearn: 44383.4898772\ttotal: 1.03s\tremaining: 3.62s\n",
            "222:\tlearn: 44341.5071015\ttotal: 1.04s\tremaining: 3.61s\n",
            "223:\tlearn: 44297.8325179\ttotal: 1.04s\tremaining: 3.6s\n",
            "224:\tlearn: 44245.3773503\ttotal: 1.04s\tremaining: 3.6s\n",
            "225:\tlearn: 44215.9816326\ttotal: 1.05s\tremaining: 3.59s\n",
            "226:\tlearn: 44180.9192441\ttotal: 1.05s\tremaining: 3.59s\n",
            "227:\tlearn: 44148.2190900\ttotal: 1.06s\tremaining: 3.58s\n",
            "228:\tlearn: 44089.4610793\ttotal: 1.06s\tremaining: 3.58s\n",
            "229:\tlearn: 44054.8322216\ttotal: 1.07s\tremaining: 3.57s\n",
            "230:\tlearn: 44018.4786280\ttotal: 1.07s\tremaining: 3.56s\n",
            "231:\tlearn: 43974.2110307\ttotal: 1.07s\tremaining: 3.56s\n",
            "232:\tlearn: 43926.1538496\ttotal: 1.08s\tremaining: 3.55s\n",
            "233:\tlearn: 43886.8439419\ttotal: 1.08s\tremaining: 3.54s\n",
            "234:\tlearn: 43848.7625105\ttotal: 1.09s\tremaining: 3.54s\n",
            "235:\tlearn: 43813.0366943\ttotal: 1.09s\tremaining: 3.53s\n",
            "236:\tlearn: 43790.7564096\ttotal: 1.09s\tremaining: 3.53s\n",
            "237:\tlearn: 43760.4547399\ttotal: 1.1s\tremaining: 3.52s\n",
            "238:\tlearn: 43712.2197958\ttotal: 1.1s\tremaining: 3.51s\n",
            "239:\tlearn: 43676.4022510\ttotal: 1.11s\tremaining: 3.51s\n",
            "240:\tlearn: 43629.9723671\ttotal: 1.11s\tremaining: 3.5s\n",
            "241:\tlearn: 43576.0854665\ttotal: 1.11s\tremaining: 3.5s\n",
            "242:\tlearn: 43538.1292080\ttotal: 1.12s\tremaining: 3.49s\n",
            "243:\tlearn: 43509.8229558\ttotal: 1.12s\tremaining: 3.48s\n",
            "244:\tlearn: 43479.0466044\ttotal: 1.13s\tremaining: 3.48s\n",
            "245:\tlearn: 43444.8574331\ttotal: 1.13s\tremaining: 3.47s\n",
            "246:\tlearn: 43414.4221624\ttotal: 1.14s\tremaining: 3.46s\n",
            "247:\tlearn: 43356.4330336\ttotal: 1.14s\tremaining: 3.46s\n",
            "248:\tlearn: 43328.5786279\ttotal: 1.14s\tremaining: 3.45s\n",
            "249:\tlearn: 43298.4746338\ttotal: 1.15s\tremaining: 3.44s\n",
            "250:\tlearn: 43274.7988591\ttotal: 1.15s\tremaining: 3.44s\n",
            "251:\tlearn: 43238.4128130\ttotal: 1.16s\tremaining: 3.44s\n",
            "252:\tlearn: 43209.1809309\ttotal: 1.16s\tremaining: 3.43s\n",
            "253:\tlearn: 43168.0150023\ttotal: 1.17s\tremaining: 3.43s\n",
            "254:\tlearn: 43131.6300688\ttotal: 1.17s\tremaining: 3.43s\n",
            "255:\tlearn: 43099.1586708\ttotal: 1.18s\tremaining: 3.42s\n",
            "256:\tlearn: 43077.5152589\ttotal: 1.18s\tremaining: 3.42s\n",
            "257:\tlearn: 43046.7057328\ttotal: 1.19s\tremaining: 3.41s\n",
            "258:\tlearn: 43007.5597064\ttotal: 1.19s\tremaining: 3.41s\n",
            "259:\tlearn: 42959.7499364\ttotal: 1.2s\tremaining: 3.4s\n",
            "260:\tlearn: 42918.0768403\ttotal: 1.2s\tremaining: 3.4s\n",
            "261:\tlearn: 42884.6571999\ttotal: 1.2s\tremaining: 3.39s\n",
            "262:\tlearn: 42842.8900091\ttotal: 1.21s\tremaining: 3.38s\n",
            "263:\tlearn: 42819.4003566\ttotal: 1.21s\tremaining: 3.38s\n",
            "264:\tlearn: 42780.2899015\ttotal: 1.22s\tremaining: 3.37s\n",
            "265:\tlearn: 42753.3166634\ttotal: 1.22s\tremaining: 3.37s\n",
            "266:\tlearn: 42726.4103540\ttotal: 1.22s\tremaining: 3.36s\n",
            "267:\tlearn: 42701.3093991\ttotal: 1.23s\tremaining: 3.35s\n",
            "268:\tlearn: 42658.8956121\ttotal: 1.23s\tremaining: 3.35s\n",
            "269:\tlearn: 42633.3305625\ttotal: 1.24s\tremaining: 3.34s\n",
            "270:\tlearn: 42603.8942263\ttotal: 1.24s\tremaining: 3.34s\n",
            "271:\tlearn: 42587.7353531\ttotal: 1.24s\tremaining: 3.33s\n",
            "272:\tlearn: 42567.2900428\ttotal: 1.25s\tremaining: 3.33s\n",
            "273:\tlearn: 42536.9742023\ttotal: 1.25s\tremaining: 3.32s\n",
            "274:\tlearn: 42497.8924939\ttotal: 1.26s\tremaining: 3.31s\n",
            "275:\tlearn: 42461.4535348\ttotal: 1.26s\tremaining: 3.31s\n",
            "276:\tlearn: 42413.5127412\ttotal: 1.26s\tremaining: 3.3s\n",
            "277:\tlearn: 42387.6836165\ttotal: 1.27s\tremaining: 3.3s\n",
            "278:\tlearn: 42354.3616950\ttotal: 1.27s\tremaining: 3.29s\n",
            "279:\tlearn: 42322.4727782\ttotal: 1.28s\tremaining: 3.29s\n",
            "280:\tlearn: 42287.1882061\ttotal: 1.28s\tremaining: 3.28s\n",
            "281:\tlearn: 42263.5425865\ttotal: 1.28s\tremaining: 3.27s\n",
            "282:\tlearn: 42247.5827634\ttotal: 1.29s\tremaining: 3.27s\n",
            "283:\tlearn: 42225.4564593\ttotal: 1.29s\tremaining: 3.26s\n",
            "284:\tlearn: 42202.2655664\ttotal: 1.3s\tremaining: 3.26s\n",
            "285:\tlearn: 42177.9021020\ttotal: 1.3s\tremaining: 3.25s\n",
            "286:\tlearn: 42146.3667399\ttotal: 1.31s\tremaining: 3.25s\n",
            "287:\tlearn: 42118.2086919\ttotal: 1.31s\tremaining: 3.24s\n",
            "288:\tlearn: 42089.5362801\ttotal: 1.31s\tremaining: 3.23s\n",
            "289:\tlearn: 42064.9488005\ttotal: 1.32s\tremaining: 3.23s\n",
            "290:\tlearn: 42046.0935369\ttotal: 1.32s\tremaining: 3.22s\n",
            "291:\tlearn: 42013.6353022\ttotal: 1.33s\tremaining: 3.22s\n",
            "292:\tlearn: 41996.5152420\ttotal: 1.33s\tremaining: 3.21s\n",
            "293:\tlearn: 41965.9799674\ttotal: 1.33s\tremaining: 3.21s\n",
            "294:\tlearn: 41928.3228938\ttotal: 1.34s\tremaining: 3.2s\n",
            "295:\tlearn: 41908.9660224\ttotal: 1.34s\tremaining: 3.19s\n",
            "296:\tlearn: 41883.2909977\ttotal: 1.35s\tremaining: 3.19s\n",
            "297:\tlearn: 41864.0645736\ttotal: 1.35s\tremaining: 3.18s\n",
            "298:\tlearn: 41841.5589555\ttotal: 1.35s\tremaining: 3.18s\n",
            "299:\tlearn: 41820.1722143\ttotal: 1.36s\tremaining: 3.17s\n",
            "300:\tlearn: 41803.3542275\ttotal: 1.37s\tremaining: 3.18s\n",
            "301:\tlearn: 41766.3274652\ttotal: 1.37s\tremaining: 3.18s\n",
            "302:\tlearn: 41745.2845093\ttotal: 1.38s\tremaining: 3.17s\n",
            "303:\tlearn: 41723.8183494\ttotal: 1.38s\tremaining: 3.17s\n",
            "304:\tlearn: 41701.9323702\ttotal: 1.39s\tremaining: 3.16s\n",
            "305:\tlearn: 41669.6766748\ttotal: 1.39s\tremaining: 3.16s\n",
            "306:\tlearn: 41634.8379614\ttotal: 1.4s\tremaining: 3.15s\n",
            "307:\tlearn: 41610.3894625\ttotal: 1.4s\tremaining: 3.15s\n",
            "308:\tlearn: 41586.8237050\ttotal: 1.41s\tremaining: 3.14s\n",
            "309:\tlearn: 41561.7139730\ttotal: 1.41s\tremaining: 3.14s\n",
            "310:\tlearn: 41531.0724312\ttotal: 1.41s\tremaining: 3.13s\n",
            "311:\tlearn: 41514.5951742\ttotal: 1.42s\tremaining: 3.13s\n",
            "312:\tlearn: 41501.7487232\ttotal: 1.42s\tremaining: 3.13s\n",
            "313:\tlearn: 41470.3793093\ttotal: 1.43s\tremaining: 3.12s\n",
            "314:\tlearn: 41435.7156476\ttotal: 1.43s\tremaining: 3.12s\n",
            "315:\tlearn: 41410.5848690\ttotal: 1.44s\tremaining: 3.11s\n",
            "316:\tlearn: 41391.1365708\ttotal: 1.44s\tremaining: 3.11s\n",
            "317:\tlearn: 41360.7868897\ttotal: 1.45s\tremaining: 3.1s\n",
            "318:\tlearn: 41343.4263130\ttotal: 1.45s\tremaining: 3.1s\n",
            "319:\tlearn: 41324.9194940\ttotal: 1.46s\tremaining: 3.09s\n",
            "320:\tlearn: 41306.9691270\ttotal: 1.46s\tremaining: 3.09s\n",
            "321:\tlearn: 41285.7360624\ttotal: 1.46s\tremaining: 3.08s\n",
            "322:\tlearn: 41257.9532689\ttotal: 1.47s\tremaining: 3.08s\n",
            "323:\tlearn: 41234.5561778\ttotal: 1.47s\tremaining: 3.07s\n",
            "324:\tlearn: 41211.1376972\ttotal: 1.48s\tremaining: 3.07s\n",
            "325:\tlearn: 41180.9200799\ttotal: 1.48s\tremaining: 3.06s\n",
            "326:\tlearn: 41162.9763171\ttotal: 1.49s\tremaining: 3.06s\n",
            "327:\tlearn: 41136.1344833\ttotal: 1.49s\tremaining: 3.05s\n",
            "328:\tlearn: 41117.1340888\ttotal: 1.49s\tremaining: 3.05s\n",
            "329:\tlearn: 41089.8889986\ttotal: 1.5s\tremaining: 3.04s\n",
            "330:\tlearn: 41058.0236087\ttotal: 1.5s\tremaining: 3.04s\n",
            "331:\tlearn: 41043.6287324\ttotal: 1.51s\tremaining: 3.03s\n",
            "332:\tlearn: 41023.3423157\ttotal: 1.51s\tremaining: 3.03s\n",
            "333:\tlearn: 40991.7323235\ttotal: 1.51s\tremaining: 3.02s\n",
            "334:\tlearn: 40971.4822581\ttotal: 1.52s\tremaining: 3.02s\n",
            "335:\tlearn: 40948.6109861\ttotal: 1.52s\tremaining: 3.01s\n",
            "336:\tlearn: 40937.7449499\ttotal: 1.53s\tremaining: 3.01s\n",
            "337:\tlearn: 40919.7119899\ttotal: 1.54s\tremaining: 3.01s\n",
            "338:\tlearn: 40895.8918767\ttotal: 1.54s\tremaining: 3.01s\n",
            "339:\tlearn: 40873.1212275\ttotal: 1.55s\tremaining: 3s\n",
            "340:\tlearn: 40851.8972050\ttotal: 1.55s\tremaining: 3s\n",
            "341:\tlearn: 40836.8005987\ttotal: 1.56s\tremaining: 3s\n",
            "342:\tlearn: 40815.2451499\ttotal: 1.56s\tremaining: 2.99s\n",
            "343:\tlearn: 40800.9695140\ttotal: 1.57s\tremaining: 3s\n",
            "344:\tlearn: 40784.2653244\ttotal: 1.57s\tremaining: 2.99s\n",
            "345:\tlearn: 40763.3079602\ttotal: 1.58s\tremaining: 2.99s\n",
            "346:\tlearn: 40746.3390327\ttotal: 1.59s\tremaining: 2.99s\n",
            "347:\tlearn: 40719.3920972\ttotal: 1.59s\tremaining: 2.98s\n",
            "348:\tlearn: 40704.4186265\ttotal: 1.6s\tremaining: 2.98s\n",
            "349:\tlearn: 40669.4663322\ttotal: 1.6s\tremaining: 2.98s\n",
            "350:\tlearn: 40644.6441230\ttotal: 1.61s\tremaining: 2.97s\n",
            "351:\tlearn: 40619.7290776\ttotal: 1.61s\tremaining: 2.97s\n",
            "352:\tlearn: 40604.8789958\ttotal: 1.62s\tremaining: 2.96s\n",
            "353:\tlearn: 40576.1041911\ttotal: 1.62s\tremaining: 2.96s\n",
            "354:\tlearn: 40556.5273523\ttotal: 1.62s\tremaining: 2.95s\n",
            "355:\tlearn: 40541.8748862\ttotal: 1.63s\tremaining: 2.95s\n",
            "356:\tlearn: 40522.4992852\ttotal: 1.63s\tremaining: 2.94s\n",
            "357:\tlearn: 40503.0398966\ttotal: 1.64s\tremaining: 2.94s\n",
            "358:\tlearn: 40480.5706113\ttotal: 1.64s\tremaining: 2.93s\n",
            "359:\tlearn: 40452.4470949\ttotal: 1.65s\tremaining: 2.92s\n",
            "360:\tlearn: 40428.9197466\ttotal: 1.65s\tremaining: 2.92s\n",
            "361:\tlearn: 40404.6449035\ttotal: 1.65s\tremaining: 2.92s\n",
            "362:\tlearn: 40384.7067667\ttotal: 1.66s\tremaining: 2.91s\n",
            "363:\tlearn: 40363.3414554\ttotal: 1.66s\tremaining: 2.9s\n",
            "364:\tlearn: 40337.5061466\ttotal: 1.67s\tremaining: 2.9s\n",
            "365:\tlearn: 40320.1816548\ttotal: 1.67s\tremaining: 2.9s\n",
            "366:\tlearn: 40306.3824613\ttotal: 1.68s\tremaining: 2.89s\n",
            "367:\tlearn: 40279.5559287\ttotal: 1.68s\tremaining: 2.89s\n",
            "368:\tlearn: 40267.3529394\ttotal: 1.68s\tremaining: 2.88s\n",
            "369:\tlearn: 40244.2117367\ttotal: 1.69s\tremaining: 2.88s\n",
            "370:\tlearn: 40222.3506169\ttotal: 1.69s\tremaining: 2.87s\n",
            "371:\tlearn: 40197.1236650\ttotal: 1.7s\tremaining: 2.87s\n",
            "372:\tlearn: 40179.3539821\ttotal: 1.7s\tremaining: 2.86s\n",
            "373:\tlearn: 40163.0830978\ttotal: 1.71s\tremaining: 2.86s\n",
            "374:\tlearn: 40147.4311951\ttotal: 1.71s\tremaining: 2.85s\n",
            "375:\tlearn: 40131.7700781\ttotal: 1.72s\tremaining: 2.85s\n",
            "376:\tlearn: 40110.2233005\ttotal: 1.72s\tremaining: 2.84s\n",
            "377:\tlearn: 40093.8341238\ttotal: 1.72s\tremaining: 2.84s\n",
            "378:\tlearn: 40068.1448434\ttotal: 1.73s\tremaining: 2.83s\n",
            "379:\tlearn: 40038.4856755\ttotal: 1.73s\tremaining: 2.83s\n",
            "380:\tlearn: 40010.7317493\ttotal: 1.74s\tremaining: 2.82s\n",
            "381:\tlearn: 39991.0764728\ttotal: 1.74s\tremaining: 2.82s\n",
            "382:\tlearn: 39969.4172591\ttotal: 1.75s\tremaining: 2.81s\n",
            "383:\tlearn: 39945.0728697\ttotal: 1.75s\tremaining: 2.81s\n",
            "384:\tlearn: 39926.1591144\ttotal: 1.76s\tremaining: 2.81s\n",
            "385:\tlearn: 39904.1735894\ttotal: 1.76s\tremaining: 2.8s\n",
            "386:\tlearn: 39877.0040542\ttotal: 1.77s\tremaining: 2.8s\n",
            "387:\tlearn: 39863.3374302\ttotal: 1.77s\tremaining: 2.79s\n",
            "388:\tlearn: 39835.2287878\ttotal: 1.77s\tremaining: 2.79s\n",
            "389:\tlearn: 39815.6527916\ttotal: 1.78s\tremaining: 2.78s\n",
            "390:\tlearn: 39794.2952369\ttotal: 1.78s\tremaining: 2.78s\n",
            "391:\tlearn: 39778.5851330\ttotal: 1.79s\tremaining: 2.77s\n",
            "392:\tlearn: 39757.7236381\ttotal: 1.79s\tremaining: 2.77s\n",
            "393:\tlearn: 39740.8211179\ttotal: 1.8s\tremaining: 2.76s\n",
            "394:\tlearn: 39722.7444639\ttotal: 1.8s\tremaining: 2.76s\n",
            "395:\tlearn: 39704.5363310\ttotal: 1.8s\tremaining: 2.75s\n",
            "396:\tlearn: 39683.5326545\ttotal: 1.81s\tremaining: 2.75s\n",
            "397:\tlearn: 39666.9628936\ttotal: 1.81s\tremaining: 2.74s\n",
            "398:\tlearn: 39650.6907652\ttotal: 1.82s\tremaining: 2.74s\n",
            "399:\tlearn: 39636.2590364\ttotal: 1.82s\tremaining: 2.73s\n",
            "400:\tlearn: 39621.5369119\ttotal: 1.82s\tremaining: 2.73s\n",
            "401:\tlearn: 39598.7093445\ttotal: 1.83s\tremaining: 2.72s\n",
            "402:\tlearn: 39583.7280159\ttotal: 1.83s\tremaining: 2.72s\n",
            "403:\tlearn: 39554.7671311\ttotal: 1.84s\tremaining: 2.71s\n",
            "404:\tlearn: 39536.0777635\ttotal: 1.84s\tremaining: 2.71s\n",
            "405:\tlearn: 39507.0202009\ttotal: 1.85s\tremaining: 2.7s\n",
            "406:\tlearn: 39485.9068573\ttotal: 1.85s\tremaining: 2.7s\n",
            "407:\tlearn: 39472.1240990\ttotal: 1.85s\tremaining: 2.69s\n",
            "408:\tlearn: 39454.4120826\ttotal: 1.86s\tremaining: 2.69s\n",
            "409:\tlearn: 39437.9335629\ttotal: 1.86s\tremaining: 2.68s\n",
            "410:\tlearn: 39424.7190142\ttotal: 1.87s\tremaining: 2.68s\n",
            "411:\tlearn: 39403.3764149\ttotal: 1.87s\tremaining: 2.67s\n",
            "412:\tlearn: 39379.9976881\ttotal: 1.88s\tremaining: 2.67s\n",
            "413:\tlearn: 39367.4882090\ttotal: 1.88s\tremaining: 2.66s\n",
            "414:\tlearn: 39347.7429604\ttotal: 1.88s\tremaining: 2.66s\n",
            "415:\tlearn: 39331.8291061\ttotal: 1.89s\tremaining: 2.65s\n",
            "416:\tlearn: 39306.6060424\ttotal: 1.89s\tremaining: 2.65s\n",
            "417:\tlearn: 39294.0150524\ttotal: 1.9s\tremaining: 2.64s\n",
            "418:\tlearn: 39274.6858500\ttotal: 1.9s\tremaining: 2.64s\n",
            "419:\tlearn: 39252.2087829\ttotal: 1.91s\tremaining: 2.63s\n",
            "420:\tlearn: 39237.9985348\ttotal: 1.91s\tremaining: 2.63s\n",
            "421:\tlearn: 39224.1181049\ttotal: 1.92s\tremaining: 2.63s\n",
            "422:\tlearn: 39197.4749089\ttotal: 1.92s\tremaining: 2.62s\n",
            "423:\tlearn: 39181.2481215\ttotal: 1.93s\tremaining: 2.62s\n",
            "424:\tlearn: 39165.2020169\ttotal: 1.93s\tremaining: 2.61s\n",
            "425:\tlearn: 39142.5089822\ttotal: 1.93s\tremaining: 2.61s\n",
            "426:\tlearn: 39133.8934567\ttotal: 1.94s\tremaining: 2.6s\n",
            "427:\tlearn: 39117.2709511\ttotal: 1.94s\tremaining: 2.6s\n",
            "428:\tlearn: 39099.2651621\ttotal: 1.96s\tremaining: 2.6s\n",
            "429:\tlearn: 39085.5934373\ttotal: 1.96s\tremaining: 2.6s\n",
            "430:\tlearn: 39071.0857505\ttotal: 1.96s\tremaining: 2.59s\n",
            "431:\tlearn: 39054.2286458\ttotal: 1.97s\tremaining: 2.59s\n",
            "432:\tlearn: 39037.7837415\ttotal: 1.97s\tremaining: 2.58s\n",
            "433:\tlearn: 39013.6456313\ttotal: 1.98s\tremaining: 2.58s\n",
            "434:\tlearn: 39000.0326953\ttotal: 1.98s\tremaining: 2.57s\n",
            "435:\tlearn: 38993.9798094\ttotal: 1.99s\tremaining: 2.57s\n",
            "436:\tlearn: 38973.1030520\ttotal: 1.99s\tremaining: 2.56s\n",
            "437:\tlearn: 38951.3535413\ttotal: 1.99s\tremaining: 2.56s\n",
            "438:\tlearn: 38928.0683725\ttotal: 2s\tremaining: 2.55s\n",
            "439:\tlearn: 38909.1819959\ttotal: 2s\tremaining: 2.55s\n",
            "440:\tlearn: 38893.3753358\ttotal: 2.01s\tremaining: 2.54s\n",
            "441:\tlearn: 38880.3208248\ttotal: 2.01s\tremaining: 2.54s\n",
            "442:\tlearn: 38866.0852617\ttotal: 2.02s\tremaining: 2.53s\n",
            "443:\tlearn: 38845.7758772\ttotal: 2.02s\tremaining: 2.53s\n",
            "444:\tlearn: 38824.3923107\ttotal: 2.02s\tremaining: 2.52s\n",
            "445:\tlearn: 38807.8382598\ttotal: 2.03s\tremaining: 2.52s\n",
            "446:\tlearn: 38784.8613910\ttotal: 2.03s\tremaining: 2.51s\n",
            "447:\tlearn: 38761.2057987\ttotal: 2.04s\tremaining: 2.51s\n",
            "448:\tlearn: 38750.4896664\ttotal: 2.04s\tremaining: 2.5s\n",
            "449:\tlearn: 38736.7451333\ttotal: 2.04s\tremaining: 2.5s\n",
            "450:\tlearn: 38717.2452067\ttotal: 2.05s\tremaining: 2.49s\n",
            "451:\tlearn: 38697.1688202\ttotal: 2.05s\tremaining: 2.49s\n",
            "452:\tlearn: 38677.2305923\ttotal: 2.06s\tremaining: 2.48s\n",
            "453:\tlearn: 38663.1039479\ttotal: 2.06s\tremaining: 2.48s\n",
            "454:\tlearn: 38651.2579658\ttotal: 2.07s\tremaining: 2.47s\n",
            "455:\tlearn: 38640.4863590\ttotal: 2.07s\tremaining: 2.47s\n",
            "456:\tlearn: 38627.7277340\ttotal: 2.07s\tremaining: 2.46s\n",
            "457:\tlearn: 38611.4916065\ttotal: 2.08s\tremaining: 2.46s\n",
            "458:\tlearn: 38593.6037345\ttotal: 2.08s\tremaining: 2.46s\n",
            "459:\tlearn: 38577.3442332\ttotal: 2.09s\tremaining: 2.45s\n",
            "460:\tlearn: 38568.8458349\ttotal: 2.09s\tremaining: 2.44s\n",
            "461:\tlearn: 38554.5657048\ttotal: 2.1s\tremaining: 2.44s\n",
            "462:\tlearn: 38540.4509203\ttotal: 2.1s\tremaining: 2.44s\n",
            "463:\tlearn: 38523.0685992\ttotal: 2.1s\tremaining: 2.43s\n",
            "464:\tlearn: 38498.1266138\ttotal: 2.11s\tremaining: 2.42s\n",
            "465:\tlearn: 38480.5559204\ttotal: 2.11s\tremaining: 2.42s\n",
            "466:\tlearn: 38466.8149372\ttotal: 2.12s\tremaining: 2.42s\n",
            "467:\tlearn: 38456.2754992\ttotal: 2.12s\tremaining: 2.41s\n",
            "468:\tlearn: 38440.5397856\ttotal: 2.12s\tremaining: 2.4s\n",
            "469:\tlearn: 38428.6610520\ttotal: 2.13s\tremaining: 2.4s\n",
            "470:\tlearn: 38412.8301440\ttotal: 2.13s\tremaining: 2.4s\n",
            "471:\tlearn: 38404.7888319\ttotal: 2.14s\tremaining: 2.39s\n",
            "472:\tlearn: 38393.0403371\ttotal: 2.14s\tremaining: 2.39s\n",
            "473:\tlearn: 38380.2721122\ttotal: 2.15s\tremaining: 2.38s\n",
            "474:\tlearn: 38370.4896827\ttotal: 2.15s\tremaining: 2.38s\n",
            "475:\tlearn: 38346.9934271\ttotal: 2.16s\tremaining: 2.38s\n",
            "476:\tlearn: 38330.3597350\ttotal: 2.16s\tremaining: 2.37s\n",
            "477:\tlearn: 38318.4267294\ttotal: 2.17s\tremaining: 2.37s\n",
            "478:\tlearn: 38297.6610198\ttotal: 2.17s\tremaining: 2.36s\n",
            "479:\tlearn: 38277.9402162\ttotal: 2.18s\tremaining: 2.36s\n",
            "480:\tlearn: 38263.0192856\ttotal: 2.18s\tremaining: 2.35s\n",
            "481:\tlearn: 38250.0054498\ttotal: 2.18s\tremaining: 2.35s\n",
            "482:\tlearn: 38237.1458711\ttotal: 2.19s\tremaining: 2.34s\n",
            "483:\tlearn: 38217.9949950\ttotal: 2.19s\tremaining: 2.34s\n",
            "484:\tlearn: 38207.8238614\ttotal: 2.2s\tremaining: 2.33s\n",
            "485:\tlearn: 38192.1004290\ttotal: 2.2s\tremaining: 2.33s\n",
            "486:\tlearn: 38177.1305536\ttotal: 2.21s\tremaining: 2.32s\n",
            "487:\tlearn: 38158.5296146\ttotal: 2.21s\tremaining: 2.32s\n",
            "488:\tlearn: 38149.8019117\ttotal: 2.21s\tremaining: 2.31s\n",
            "489:\tlearn: 38129.2757989\ttotal: 2.22s\tremaining: 2.31s\n",
            "490:\tlearn: 38110.3781858\ttotal: 2.22s\tremaining: 2.3s\n",
            "491:\tlearn: 38093.8799424\ttotal: 2.23s\tremaining: 2.3s\n",
            "492:\tlearn: 38087.0102588\ttotal: 2.23s\tremaining: 2.29s\n",
            "493:\tlearn: 38073.6718189\ttotal: 2.23s\tremaining: 2.29s\n",
            "494:\tlearn: 38063.8814968\ttotal: 2.24s\tremaining: 2.28s\n",
            "495:\tlearn: 38049.5167042\ttotal: 2.24s\tremaining: 2.28s\n",
            "496:\tlearn: 38029.6894825\ttotal: 2.25s\tremaining: 2.27s\n",
            "497:\tlearn: 38016.7839266\ttotal: 2.25s\tremaining: 2.27s\n",
            "498:\tlearn: 37996.9443598\ttotal: 2.26s\tremaining: 2.27s\n",
            "499:\tlearn: 37985.0035923\ttotal: 2.26s\tremaining: 2.26s\n",
            "500:\tlearn: 37967.2918304\ttotal: 2.26s\tremaining: 2.25s\n",
            "501:\tlearn: 37954.4895018\ttotal: 2.27s\tremaining: 2.25s\n",
            "502:\tlearn: 37942.6312767\ttotal: 2.27s\tremaining: 2.25s\n",
            "503:\tlearn: 37929.9907586\ttotal: 2.28s\tremaining: 2.24s\n",
            "504:\tlearn: 37916.5415063\ttotal: 2.28s\tremaining: 2.23s\n",
            "505:\tlearn: 37896.8741327\ttotal: 2.28s\tremaining: 2.23s\n",
            "506:\tlearn: 37880.2148915\ttotal: 2.29s\tremaining: 2.23s\n",
            "507:\tlearn: 37867.0893467\ttotal: 2.29s\tremaining: 2.22s\n",
            "508:\tlearn: 37857.3748169\ttotal: 2.3s\tremaining: 2.22s\n",
            "509:\tlearn: 37835.5616988\ttotal: 2.3s\tremaining: 2.21s\n",
            "510:\tlearn: 37824.2136339\ttotal: 2.31s\tremaining: 2.21s\n",
            "511:\tlearn: 37808.7786174\ttotal: 2.31s\tremaining: 2.2s\n",
            "512:\tlearn: 37793.1130718\ttotal: 2.32s\tremaining: 2.2s\n",
            "513:\tlearn: 37772.6705907\ttotal: 2.32s\tremaining: 2.2s\n",
            "514:\tlearn: 37762.4546530\ttotal: 2.33s\tremaining: 2.19s\n",
            "515:\tlearn: 37737.7525602\ttotal: 2.33s\tremaining: 2.19s\n",
            "516:\tlearn: 37727.6012298\ttotal: 2.34s\tremaining: 2.18s\n",
            "517:\tlearn: 37715.7976847\ttotal: 2.34s\tremaining: 2.18s\n",
            "518:\tlearn: 37695.1409021\ttotal: 2.35s\tremaining: 2.18s\n",
            "519:\tlearn: 37683.6543352\ttotal: 2.35s\tremaining: 2.17s\n",
            "520:\tlearn: 37670.6316737\ttotal: 2.36s\tremaining: 2.17s\n",
            "521:\tlearn: 37652.5905666\ttotal: 2.36s\tremaining: 2.16s\n",
            "522:\tlearn: 37635.3309603\ttotal: 2.37s\tremaining: 2.16s\n",
            "523:\tlearn: 37624.6237089\ttotal: 2.37s\tremaining: 2.15s\n",
            "524:\tlearn: 37616.3846749\ttotal: 2.37s\tremaining: 2.15s\n",
            "525:\tlearn: 37608.3796468\ttotal: 2.38s\tremaining: 2.14s\n",
            "526:\tlearn: 37596.9018571\ttotal: 2.38s\tremaining: 2.14s\n",
            "527:\tlearn: 37584.9205186\ttotal: 2.38s\tremaining: 2.13s\n",
            "528:\tlearn: 37568.7323797\ttotal: 2.39s\tremaining: 2.13s\n",
            "529:\tlearn: 37558.2635391\ttotal: 2.39s\tremaining: 2.12s\n",
            "530:\tlearn: 37542.5531772\ttotal: 2.4s\tremaining: 2.12s\n",
            "531:\tlearn: 37528.2698826\ttotal: 2.4s\tremaining: 2.11s\n",
            "532:\tlearn: 37517.7151811\ttotal: 2.4s\tremaining: 2.11s\n",
            "533:\tlearn: 37501.4154479\ttotal: 2.41s\tremaining: 2.1s\n",
            "534:\tlearn: 37486.4655826\ttotal: 2.41s\tremaining: 2.1s\n",
            "535:\tlearn: 37475.6572059\ttotal: 2.42s\tremaining: 2.09s\n",
            "536:\tlearn: 37460.5838528\ttotal: 2.42s\tremaining: 2.09s\n",
            "537:\tlearn: 37440.2099247\ttotal: 2.42s\tremaining: 2.08s\n",
            "538:\tlearn: 37430.1333108\ttotal: 2.43s\tremaining: 2.08s\n",
            "539:\tlearn: 37415.8465582\ttotal: 2.43s\tremaining: 2.07s\n",
            "540:\tlearn: 37402.1080570\ttotal: 2.44s\tremaining: 2.07s\n",
            "541:\tlearn: 37391.3906398\ttotal: 2.44s\tremaining: 2.06s\n",
            "542:\tlearn: 37373.2186724\ttotal: 2.45s\tremaining: 2.06s\n",
            "543:\tlearn: 37360.0732510\ttotal: 2.45s\tremaining: 2.05s\n",
            "544:\tlearn: 37346.9694064\ttotal: 2.45s\tremaining: 2.05s\n",
            "545:\tlearn: 37337.9140999\ttotal: 2.46s\tremaining: 2.04s\n",
            "546:\tlearn: 37328.4366254\ttotal: 2.46s\tremaining: 2.04s\n",
            "547:\tlearn: 37315.5696412\ttotal: 2.47s\tremaining: 2.03s\n",
            "548:\tlearn: 37304.6740947\ttotal: 2.47s\tremaining: 2.03s\n",
            "549:\tlearn: 37286.5644030\ttotal: 2.48s\tremaining: 2.02s\n",
            "550:\tlearn: 37271.6992147\ttotal: 2.48s\tremaining: 2.02s\n",
            "551:\tlearn: 37259.6170875\ttotal: 2.48s\tremaining: 2.02s\n",
            "552:\tlearn: 37236.6544925\ttotal: 2.49s\tremaining: 2.01s\n",
            "553:\tlearn: 37218.9533329\ttotal: 2.49s\tremaining: 2.01s\n",
            "554:\tlearn: 37207.7241411\ttotal: 2.5s\tremaining: 2s\n",
            "555:\tlearn: 37197.0292984\ttotal: 2.5s\tremaining: 2s\n",
            "556:\tlearn: 37188.8382010\ttotal: 2.5s\tremaining: 1.99s\n",
            "557:\tlearn: 37173.3884478\ttotal: 2.51s\tremaining: 1.99s\n",
            "558:\tlearn: 37153.9017796\ttotal: 2.51s\tremaining: 1.98s\n",
            "559:\tlearn: 37141.1132218\ttotal: 2.52s\tremaining: 1.98s\n",
            "560:\tlearn: 37132.9465796\ttotal: 2.53s\tremaining: 1.98s\n",
            "561:\tlearn: 37118.6789391\ttotal: 2.53s\tremaining: 1.97s\n",
            "562:\tlearn: 37111.2466820\ttotal: 2.53s\tremaining: 1.97s\n",
            "563:\tlearn: 37099.9253094\ttotal: 2.54s\tremaining: 1.96s\n",
            "564:\tlearn: 37087.8659431\ttotal: 2.55s\tremaining: 1.96s\n",
            "565:\tlearn: 37078.2441618\ttotal: 2.55s\tremaining: 1.96s\n",
            "566:\tlearn: 37062.6146190\ttotal: 2.56s\tremaining: 1.96s\n",
            "567:\tlearn: 37039.9298671\ttotal: 2.57s\tremaining: 1.95s\n",
            "568:\tlearn: 37031.2472793\ttotal: 2.57s\tremaining: 1.95s\n",
            "569:\tlearn: 37018.8837262\ttotal: 2.58s\tremaining: 1.94s\n",
            "570:\tlearn: 37004.2407590\ttotal: 2.58s\tremaining: 1.94s\n",
            "571:\tlearn: 36991.4996664\ttotal: 2.58s\tremaining: 1.93s\n",
            "572:\tlearn: 36978.9193406\ttotal: 2.59s\tremaining: 1.93s\n",
            "573:\tlearn: 36967.1174242\ttotal: 2.59s\tremaining: 1.92s\n",
            "574:\tlearn: 36960.4004974\ttotal: 2.6s\tremaining: 1.92s\n",
            "575:\tlearn: 36947.7445778\ttotal: 2.6s\tremaining: 1.91s\n",
            "576:\tlearn: 36933.4067257\ttotal: 2.6s\tremaining: 1.91s\n",
            "577:\tlearn: 36913.7757479\ttotal: 2.61s\tremaining: 1.9s\n",
            "578:\tlearn: 36900.8989934\ttotal: 2.61s\tremaining: 1.9s\n",
            "579:\tlearn: 36879.9479450\ttotal: 2.62s\tremaining: 1.9s\n",
            "580:\tlearn: 36871.9792235\ttotal: 2.62s\tremaining: 1.89s\n",
            "581:\tlearn: 36864.3539785\ttotal: 2.63s\tremaining: 1.89s\n",
            "582:\tlearn: 36857.1087134\ttotal: 2.63s\tremaining: 1.88s\n",
            "583:\tlearn: 36838.5102391\ttotal: 2.63s\tremaining: 1.88s\n",
            "584:\tlearn: 36826.0058084\ttotal: 2.64s\tremaining: 1.87s\n",
            "585:\tlearn: 36815.8844948\ttotal: 2.64s\tremaining: 1.87s\n",
            "586:\tlearn: 36805.4364071\ttotal: 2.65s\tremaining: 1.86s\n",
            "587:\tlearn: 36797.9830296\ttotal: 2.65s\tremaining: 1.86s\n",
            "588:\tlearn: 36781.1138526\ttotal: 2.65s\tremaining: 1.85s\n",
            "589:\tlearn: 36764.8388464\ttotal: 2.66s\tremaining: 1.85s\n",
            "590:\tlearn: 36754.1284910\ttotal: 2.66s\tremaining: 1.84s\n",
            "591:\tlearn: 36740.4938693\ttotal: 2.67s\tremaining: 1.84s\n",
            "592:\tlearn: 36721.7535556\ttotal: 2.67s\tremaining: 1.83s\n",
            "593:\tlearn: 36710.2539169\ttotal: 2.67s\tremaining: 1.83s\n",
            "594:\tlearn: 36700.0414585\ttotal: 2.68s\tremaining: 1.82s\n",
            "595:\tlearn: 36683.0240685\ttotal: 2.68s\tremaining: 1.82s\n",
            "596:\tlearn: 36668.2693884\ttotal: 2.69s\tremaining: 1.81s\n",
            "597:\tlearn: 36649.8356335\ttotal: 2.69s\tremaining: 1.81s\n",
            "598:\tlearn: 36641.2367691\ttotal: 2.7s\tremaining: 1.81s\n",
            "599:\tlearn: 36635.2653506\ttotal: 2.7s\tremaining: 1.8s\n",
            "600:\tlearn: 36620.8777440\ttotal: 2.71s\tremaining: 1.8s\n",
            "601:\tlearn: 36605.2535836\ttotal: 2.71s\tremaining: 1.79s\n",
            "602:\tlearn: 36580.9303194\ttotal: 2.72s\tremaining: 1.79s\n",
            "603:\tlearn: 36573.0691327\ttotal: 2.72s\tremaining: 1.78s\n",
            "604:\tlearn: 36553.4577025\ttotal: 2.73s\tremaining: 1.78s\n",
            "605:\tlearn: 36545.2825586\ttotal: 2.73s\tremaining: 1.77s\n",
            "606:\tlearn: 36527.6768373\ttotal: 2.74s\tremaining: 1.77s\n",
            "607:\tlearn: 36510.8325744\ttotal: 2.74s\tremaining: 1.77s\n",
            "608:\tlearn: 36499.6324520\ttotal: 2.75s\tremaining: 1.76s\n",
            "609:\tlearn: 36483.1594294\ttotal: 2.75s\tremaining: 1.76s\n",
            "610:\tlearn: 36465.6077007\ttotal: 2.76s\tremaining: 1.75s\n",
            "611:\tlearn: 36455.2287680\ttotal: 2.76s\tremaining: 1.75s\n",
            "612:\tlearn: 36443.0117421\ttotal: 2.76s\tremaining: 1.75s\n",
            "613:\tlearn: 36423.4598290\ttotal: 2.77s\tremaining: 1.74s\n",
            "614:\tlearn: 36409.5475012\ttotal: 2.77s\tremaining: 1.74s\n",
            "615:\tlearn: 36395.2226827\ttotal: 2.78s\tremaining: 1.73s\n",
            "616:\tlearn: 36378.7922114\ttotal: 2.78s\tremaining: 1.73s\n",
            "617:\tlearn: 36369.5218703\ttotal: 2.79s\tremaining: 1.72s\n",
            "618:\tlearn: 36362.2622383\ttotal: 2.79s\tremaining: 1.72s\n",
            "619:\tlearn: 36356.7863843\ttotal: 2.79s\tremaining: 1.71s\n",
            "620:\tlearn: 36345.0764651\ttotal: 2.8s\tremaining: 1.71s\n",
            "621:\tlearn: 36327.3243180\ttotal: 2.8s\tremaining: 1.7s\n",
            "622:\tlearn: 36317.1991763\ttotal: 2.81s\tremaining: 1.7s\n",
            "623:\tlearn: 36307.1953053\ttotal: 2.81s\tremaining: 1.69s\n",
            "624:\tlearn: 36291.2423854\ttotal: 2.81s\tremaining: 1.69s\n",
            "625:\tlearn: 36279.8272646\ttotal: 2.82s\tremaining: 1.68s\n",
            "626:\tlearn: 36265.7821877\ttotal: 2.82s\tremaining: 1.68s\n",
            "627:\tlearn: 36248.4817532\ttotal: 2.83s\tremaining: 1.67s\n",
            "628:\tlearn: 36238.9261185\ttotal: 2.83s\tremaining: 1.67s\n",
            "629:\tlearn: 36224.1542841\ttotal: 2.84s\tremaining: 1.67s\n",
            "630:\tlearn: 36218.2192679\ttotal: 2.84s\tremaining: 1.66s\n",
            "631:\tlearn: 36212.4557074\ttotal: 2.84s\tremaining: 1.66s\n",
            "632:\tlearn: 36199.2613103\ttotal: 2.85s\tremaining: 1.65s\n",
            "633:\tlearn: 36189.9478585\ttotal: 2.85s\tremaining: 1.65s\n",
            "634:\tlearn: 36174.7089300\ttotal: 2.86s\tremaining: 1.64s\n",
            "635:\tlearn: 36159.0842938\ttotal: 2.86s\tremaining: 1.64s\n",
            "636:\tlearn: 36130.7244361\ttotal: 2.87s\tremaining: 1.63s\n",
            "637:\tlearn: 36115.2183755\ttotal: 2.87s\tremaining: 1.63s\n",
            "638:\tlearn: 36103.7795801\ttotal: 2.87s\tremaining: 1.62s\n",
            "639:\tlearn: 36092.4821367\ttotal: 2.88s\tremaining: 1.62s\n",
            "640:\tlearn: 36081.9757712\ttotal: 2.88s\tremaining: 1.61s\n",
            "641:\tlearn: 36067.1403838\ttotal: 2.89s\tremaining: 1.61s\n",
            "642:\tlearn: 36050.9246964\ttotal: 2.89s\tremaining: 1.6s\n",
            "643:\tlearn: 36045.3438672\ttotal: 2.9s\tremaining: 1.6s\n",
            "644:\tlearn: 36031.4425040\ttotal: 2.9s\tremaining: 1.59s\n",
            "645:\tlearn: 36019.0527025\ttotal: 2.9s\tremaining: 1.59s\n",
            "646:\tlearn: 36013.5211179\ttotal: 2.91s\tremaining: 1.59s\n",
            "647:\tlearn: 36005.1266448\ttotal: 2.91s\tremaining: 1.58s\n",
            "648:\tlearn: 35996.5505698\ttotal: 2.92s\tremaining: 1.58s\n",
            "649:\tlearn: 35989.2695365\ttotal: 2.92s\tremaining: 1.57s\n",
            "650:\tlearn: 35977.5308976\ttotal: 2.92s\tremaining: 1.57s\n",
            "651:\tlearn: 35961.9104495\ttotal: 2.93s\tremaining: 1.56s\n",
            "652:\tlearn: 35944.8919885\ttotal: 2.94s\tremaining: 1.56s\n",
            "653:\tlearn: 35929.5895158\ttotal: 2.94s\tremaining: 1.56s\n",
            "654:\tlearn: 35915.1700968\ttotal: 2.95s\tremaining: 1.55s\n",
            "655:\tlearn: 35901.6329557\ttotal: 2.95s\tremaining: 1.55s\n",
            "656:\tlearn: 35878.5909828\ttotal: 2.96s\tremaining: 1.54s\n",
            "657:\tlearn: 35859.0855480\ttotal: 2.96s\tremaining: 1.54s\n",
            "658:\tlearn: 35844.7099723\ttotal: 2.96s\tremaining: 1.53s\n",
            "659:\tlearn: 35836.7552029\ttotal: 2.97s\tremaining: 1.53s\n",
            "660:\tlearn: 35822.7557888\ttotal: 2.97s\tremaining: 1.52s\n",
            "661:\tlearn: 35808.9091186\ttotal: 2.98s\tremaining: 1.52s\n",
            "662:\tlearn: 35799.8425345\ttotal: 2.98s\tremaining: 1.51s\n",
            "663:\tlearn: 35787.3346872\ttotal: 2.98s\tremaining: 1.51s\n",
            "664:\tlearn: 35777.1502224\ttotal: 2.99s\tremaining: 1.5s\n",
            "665:\tlearn: 35768.4989306\ttotal: 2.99s\tremaining: 1.5s\n",
            "666:\tlearn: 35753.4545247\ttotal: 3s\tremaining: 1.5s\n",
            "667:\tlearn: 35736.7932293\ttotal: 3s\tremaining: 1.49s\n",
            "668:\tlearn: 35730.7477905\ttotal: 3.01s\tremaining: 1.49s\n",
            "669:\tlearn: 35714.9222612\ttotal: 3.01s\tremaining: 1.48s\n",
            "670:\tlearn: 35693.1259411\ttotal: 3.02s\tremaining: 1.48s\n",
            "671:\tlearn: 35683.8982060\ttotal: 3.02s\tremaining: 1.47s\n",
            "672:\tlearn: 35670.2319018\ttotal: 3.02s\tremaining: 1.47s\n",
            "673:\tlearn: 35658.0580930\ttotal: 3.03s\tremaining: 1.47s\n",
            "674:\tlearn: 35642.4303119\ttotal: 3.04s\tremaining: 1.46s\n",
            "675:\tlearn: 35628.7397412\ttotal: 3.04s\tremaining: 1.46s\n",
            "676:\tlearn: 35619.9316331\ttotal: 3.04s\tremaining: 1.45s\n",
            "677:\tlearn: 35613.6298041\ttotal: 3.05s\tremaining: 1.45s\n",
            "678:\tlearn: 35595.4046106\ttotal: 3.05s\tremaining: 1.44s\n",
            "679:\tlearn: 35577.6890891\ttotal: 3.06s\tremaining: 1.44s\n",
            "680:\tlearn: 35562.8011730\ttotal: 3.06s\tremaining: 1.43s\n",
            "681:\tlearn: 35548.9090685\ttotal: 3.06s\tremaining: 1.43s\n",
            "682:\tlearn: 35535.0779688\ttotal: 3.07s\tremaining: 1.42s\n",
            "683:\tlearn: 35525.9324585\ttotal: 3.07s\tremaining: 1.42s\n",
            "684:\tlearn: 35517.3762370\ttotal: 3.08s\tremaining: 1.41s\n",
            "685:\tlearn: 35510.4061597\ttotal: 3.08s\tremaining: 1.41s\n",
            "686:\tlearn: 35492.8758937\ttotal: 3.08s\tremaining: 1.41s\n",
            "687:\tlearn: 35480.3985111\ttotal: 3.09s\tremaining: 1.4s\n",
            "688:\tlearn: 35463.3650690\ttotal: 3.1s\tremaining: 1.4s\n",
            "689:\tlearn: 35454.0724856\ttotal: 3.1s\tremaining: 1.39s\n",
            "690:\tlearn: 35446.9863544\ttotal: 3.1s\tremaining: 1.39s\n",
            "691:\tlearn: 35436.1661053\ttotal: 3.11s\tremaining: 1.38s\n",
            "692:\tlearn: 35410.7083257\ttotal: 3.11s\tremaining: 1.38s\n",
            "693:\tlearn: 35397.1906670\ttotal: 3.12s\tremaining: 1.37s\n",
            "694:\tlearn: 35387.9494007\ttotal: 3.12s\tremaining: 1.37s\n",
            "695:\tlearn: 35378.3324686\ttotal: 3.13s\tremaining: 1.36s\n",
            "696:\tlearn: 35365.9459413\ttotal: 3.14s\tremaining: 1.36s\n",
            "697:\tlearn: 35343.9768874\ttotal: 3.14s\tremaining: 1.36s\n",
            "698:\tlearn: 35335.2942857\ttotal: 3.15s\tremaining: 1.35s\n",
            "699:\tlearn: 35325.1383781\ttotal: 3.15s\tremaining: 1.35s\n",
            "700:\tlearn: 35318.8484849\ttotal: 3.16s\tremaining: 1.35s\n",
            "701:\tlearn: 35304.0241706\ttotal: 3.16s\tremaining: 1.34s\n",
            "702:\tlearn: 35298.0691911\ttotal: 3.16s\tremaining: 1.34s\n",
            "703:\tlearn: 35290.8963425\ttotal: 3.17s\tremaining: 1.33s\n",
            "704:\tlearn: 35281.4110272\ttotal: 3.17s\tremaining: 1.33s\n",
            "705:\tlearn: 35270.3852360\ttotal: 3.18s\tremaining: 1.32s\n",
            "706:\tlearn: 35262.2025765\ttotal: 3.18s\tremaining: 1.32s\n",
            "707:\tlearn: 35251.2043507\ttotal: 3.18s\tremaining: 1.31s\n",
            "708:\tlearn: 35240.7803292\ttotal: 3.19s\tremaining: 1.31s\n",
            "709:\tlearn: 35229.3510848\ttotal: 3.19s\tremaining: 1.3s\n",
            "710:\tlearn: 35215.2567499\ttotal: 3.2s\tremaining: 1.3s\n",
            "711:\tlearn: 35206.3412922\ttotal: 3.2s\tremaining: 1.29s\n",
            "712:\tlearn: 35197.9894122\ttotal: 3.21s\tremaining: 1.29s\n",
            "713:\tlearn: 35179.7507911\ttotal: 3.21s\tremaining: 1.28s\n",
            "714:\tlearn: 35164.1274773\ttotal: 3.21s\tremaining: 1.28s\n",
            "715:\tlearn: 35149.6086025\ttotal: 3.22s\tremaining: 1.28s\n",
            "716:\tlearn: 35141.6615829\ttotal: 3.22s\tremaining: 1.27s\n",
            "717:\tlearn: 35129.8007155\ttotal: 3.23s\tremaining: 1.27s\n",
            "718:\tlearn: 35116.1965799\ttotal: 3.23s\tremaining: 1.26s\n",
            "719:\tlearn: 35102.5079139\ttotal: 3.23s\tremaining: 1.26s\n",
            "720:\tlearn: 35096.8976709\ttotal: 3.24s\tremaining: 1.25s\n",
            "721:\tlearn: 35084.0894384\ttotal: 3.24s\tremaining: 1.25s\n",
            "722:\tlearn: 35073.0950237\ttotal: 3.25s\tremaining: 1.24s\n",
            "723:\tlearn: 35066.3152859\ttotal: 3.25s\tremaining: 1.24s\n",
            "724:\tlearn: 35054.0544346\ttotal: 3.26s\tremaining: 1.24s\n",
            "725:\tlearn: 35036.5812953\ttotal: 3.26s\tremaining: 1.23s\n",
            "726:\tlearn: 35026.3085801\ttotal: 3.26s\tremaining: 1.23s\n",
            "727:\tlearn: 35016.9292183\ttotal: 3.27s\tremaining: 1.22s\n",
            "728:\tlearn: 35006.8174929\ttotal: 3.27s\tremaining: 1.22s\n",
            "729:\tlearn: 34995.4754454\ttotal: 3.28s\tremaining: 1.21s\n",
            "730:\tlearn: 34974.9246381\ttotal: 3.28s\tremaining: 1.21s\n",
            "731:\tlearn: 34958.7215708\ttotal: 3.29s\tremaining: 1.2s\n",
            "732:\tlearn: 34938.3545040\ttotal: 3.29s\tremaining: 1.2s\n",
            "733:\tlearn: 34927.6419346\ttotal: 3.29s\tremaining: 1.19s\n",
            "734:\tlearn: 34918.5981880\ttotal: 3.3s\tremaining: 1.19s\n",
            "735:\tlearn: 34908.2597938\ttotal: 3.3s\tremaining: 1.19s\n",
            "736:\tlearn: 34895.7519504\ttotal: 3.31s\tremaining: 1.18s\n",
            "737:\tlearn: 34890.6043276\ttotal: 3.31s\tremaining: 1.18s\n",
            "738:\tlearn: 34880.0854133\ttotal: 3.32s\tremaining: 1.17s\n",
            "739:\tlearn: 34861.7728028\ttotal: 3.32s\tremaining: 1.17s\n",
            "740:\tlearn: 34847.8034952\ttotal: 3.33s\tremaining: 1.16s\n",
            "741:\tlearn: 34840.5600354\ttotal: 3.33s\tremaining: 1.16s\n",
            "742:\tlearn: 34830.0194560\ttotal: 3.34s\tremaining: 1.16s\n",
            "743:\tlearn: 34815.4017848\ttotal: 3.34s\tremaining: 1.15s\n",
            "744:\tlearn: 34802.7010735\ttotal: 3.35s\tremaining: 1.15s\n",
            "745:\tlearn: 34790.1353272\ttotal: 3.35s\tremaining: 1.14s\n",
            "746:\tlearn: 34778.4377108\ttotal: 3.36s\tremaining: 1.14s\n",
            "747:\tlearn: 34766.3850934\ttotal: 3.36s\tremaining: 1.13s\n",
            "748:\tlearn: 34755.2479774\ttotal: 3.37s\tremaining: 1.13s\n",
            "749:\tlearn: 34741.7848626\ttotal: 3.37s\tremaining: 1.12s\n",
            "750:\tlearn: 34726.3994044\ttotal: 3.38s\tremaining: 1.12s\n",
            "751:\tlearn: 34714.6646350\ttotal: 3.38s\tremaining: 1.11s\n",
            "752:\tlearn: 34700.8938731\ttotal: 3.39s\tremaining: 1.11s\n",
            "753:\tlearn: 34692.7344914\ttotal: 3.39s\tremaining: 1.11s\n",
            "754:\tlearn: 34675.3585808\ttotal: 3.4s\tremaining: 1.1s\n",
            "755:\tlearn: 34668.7069341\ttotal: 3.4s\tremaining: 1.1s\n",
            "756:\tlearn: 34659.0069261\ttotal: 3.4s\tremaining: 1.09s\n",
            "757:\tlearn: 34651.5274588\ttotal: 3.41s\tremaining: 1.09s\n",
            "758:\tlearn: 34634.0174750\ttotal: 3.41s\tremaining: 1.08s\n",
            "759:\tlearn: 34622.1904126\ttotal: 3.42s\tremaining: 1.08s\n",
            "760:\tlearn: 34609.4612254\ttotal: 3.42s\tremaining: 1.07s\n",
            "761:\tlearn: 34601.3983956\ttotal: 3.42s\tremaining: 1.07s\n",
            "762:\tlearn: 34587.9014881\ttotal: 3.43s\tremaining: 1.06s\n",
            "763:\tlearn: 34582.9219178\ttotal: 3.43s\tremaining: 1.06s\n",
            "764:\tlearn: 34573.9830289\ttotal: 3.44s\tremaining: 1.06s\n",
            "765:\tlearn: 34566.3064868\ttotal: 3.44s\tremaining: 1.05s\n",
            "766:\tlearn: 34555.8314693\ttotal: 3.45s\tremaining: 1.05s\n",
            "767:\tlearn: 34544.4149284\ttotal: 3.45s\tremaining: 1.04s\n",
            "768:\tlearn: 34529.3941929\ttotal: 3.46s\tremaining: 1.04s\n",
            "769:\tlearn: 34521.3149847\ttotal: 3.46s\tremaining: 1.03s\n",
            "770:\tlearn: 34503.9060798\ttotal: 3.47s\tremaining: 1.03s\n",
            "771:\tlearn: 34489.6447868\ttotal: 3.48s\tremaining: 1.03s\n",
            "772:\tlearn: 34473.9371620\ttotal: 3.48s\tremaining: 1.02s\n",
            "773:\tlearn: 34468.8771346\ttotal: 3.48s\tremaining: 1.02s\n",
            "774:\tlearn: 34456.1973535\ttotal: 3.49s\tremaining: 1.01s\n",
            "775:\tlearn: 34447.6728061\ttotal: 3.49s\tremaining: 1.01s\n",
            "776:\tlearn: 34442.0743639\ttotal: 3.5s\tremaining: 1s\n",
            "777:\tlearn: 34432.2267891\ttotal: 3.5s\tremaining: 1000ms\n",
            "778:\tlearn: 34426.0991923\ttotal: 3.51s\tremaining: 995ms\n",
            "779:\tlearn: 34419.8680369\ttotal: 3.51s\tremaining: 991ms\n",
            "780:\tlearn: 34409.0439778\ttotal: 3.52s\tremaining: 988ms\n",
            "781:\tlearn: 34399.7498554\ttotal: 3.53s\tremaining: 985ms\n",
            "782:\tlearn: 34388.7952968\ttotal: 3.54s\tremaining: 981ms\n",
            "783:\tlearn: 34383.7237109\ttotal: 3.54s\tremaining: 976ms\n",
            "784:\tlearn: 34376.6305756\ttotal: 3.55s\tremaining: 972ms\n",
            "785:\tlearn: 34371.2912883\ttotal: 3.55s\tremaining: 967ms\n",
            "786:\tlearn: 34355.9894425\ttotal: 3.56s\tremaining: 962ms\n",
            "787:\tlearn: 34344.0800846\ttotal: 3.56s\tremaining: 958ms\n",
            "788:\tlearn: 34328.9030198\ttotal: 3.56s\tremaining: 953ms\n",
            "789:\tlearn: 34316.1778452\ttotal: 3.57s\tremaining: 949ms\n",
            "790:\tlearn: 34305.1288331\ttotal: 3.57s\tremaining: 944ms\n",
            "791:\tlearn: 34296.5095374\ttotal: 3.58s\tremaining: 940ms\n",
            "792:\tlearn: 34287.3055329\ttotal: 3.58s\tremaining: 935ms\n",
            "793:\tlearn: 34276.2984567\ttotal: 3.59s\tremaining: 931ms\n",
            "794:\tlearn: 34260.8958524\ttotal: 3.59s\tremaining: 926ms\n",
            "795:\tlearn: 34251.8196137\ttotal: 3.6s\tremaining: 921ms\n",
            "796:\tlearn: 34240.2453179\ttotal: 3.6s\tremaining: 917ms\n",
            "797:\tlearn: 34228.5002052\ttotal: 3.6s\tremaining: 912ms\n",
            "798:\tlearn: 34219.5123517\ttotal: 3.61s\tremaining: 908ms\n",
            "799:\tlearn: 34213.6028674\ttotal: 3.61s\tremaining: 903ms\n",
            "800:\tlearn: 34201.3974128\ttotal: 3.62s\tremaining: 899ms\n",
            "801:\tlearn: 34193.8209119\ttotal: 3.62s\tremaining: 894ms\n",
            "802:\tlearn: 34181.5851700\ttotal: 3.63s\tremaining: 890ms\n",
            "803:\tlearn: 34170.2873699\ttotal: 3.63s\tremaining: 885ms\n",
            "804:\tlearn: 34164.7302451\ttotal: 3.63s\tremaining: 880ms\n",
            "805:\tlearn: 34155.2865266\ttotal: 3.64s\tremaining: 876ms\n",
            "806:\tlearn: 34145.3053596\ttotal: 3.64s\tremaining: 871ms\n",
            "807:\tlearn: 34135.8072358\ttotal: 3.65s\tremaining: 866ms\n",
            "808:\tlearn: 34125.3441594\ttotal: 3.65s\tremaining: 862ms\n",
            "809:\tlearn: 34118.5569761\ttotal: 3.65s\tremaining: 857ms\n",
            "810:\tlearn: 34104.6338428\ttotal: 3.66s\tremaining: 854ms\n",
            "811:\tlearn: 34095.9003011\ttotal: 3.67s\tremaining: 849ms\n",
            "812:\tlearn: 34084.2978065\ttotal: 3.67s\tremaining: 845ms\n",
            "813:\tlearn: 34076.6457388\ttotal: 3.67s\tremaining: 840ms\n",
            "814:\tlearn: 34059.6109314\ttotal: 3.68s\tremaining: 835ms\n",
            "815:\tlearn: 34049.9972797\ttotal: 3.68s\tremaining: 831ms\n",
            "816:\tlearn: 34039.2364455\ttotal: 3.69s\tremaining: 826ms\n",
            "817:\tlearn: 34032.0333177\ttotal: 3.69s\tremaining: 822ms\n",
            "818:\tlearn: 34021.0239516\ttotal: 3.7s\tremaining: 817ms\n",
            "819:\tlearn: 34008.8979724\ttotal: 3.7s\tremaining: 812ms\n",
            "820:\tlearn: 34002.1774786\ttotal: 3.71s\tremaining: 808ms\n",
            "821:\tlearn: 33992.1131087\ttotal: 3.71s\tremaining: 803ms\n",
            "822:\tlearn: 33981.0081901\ttotal: 3.71s\tremaining: 799ms\n",
            "823:\tlearn: 33973.8089363\ttotal: 3.72s\tremaining: 794ms\n",
            "824:\tlearn: 33965.2602083\ttotal: 3.72s\tremaining: 790ms\n",
            "825:\tlearn: 33949.6446327\ttotal: 3.73s\tremaining: 786ms\n",
            "826:\tlearn: 33941.0182638\ttotal: 3.73s\tremaining: 781ms\n",
            "827:\tlearn: 33922.5050715\ttotal: 3.74s\tremaining: 777ms\n",
            "828:\tlearn: 33910.0030367\ttotal: 3.74s\tremaining: 772ms\n",
            "829:\tlearn: 33901.3629907\ttotal: 3.75s\tremaining: 768ms\n",
            "830:\tlearn: 33894.1119920\ttotal: 3.75s\tremaining: 763ms\n",
            "831:\tlearn: 33885.7613717\ttotal: 3.76s\tremaining: 759ms\n",
            "832:\tlearn: 33876.8774176\ttotal: 3.76s\tremaining: 754ms\n",
            "833:\tlearn: 33864.6671927\ttotal: 3.76s\tremaining: 749ms\n",
            "834:\tlearn: 33855.1224743\ttotal: 3.77s\tremaining: 745ms\n",
            "835:\tlearn: 33848.2076045\ttotal: 3.78s\tremaining: 741ms\n",
            "836:\tlearn: 33842.0304566\ttotal: 3.78s\tremaining: 737ms\n",
            "837:\tlearn: 33836.5387126\ttotal: 3.79s\tremaining: 732ms\n",
            "838:\tlearn: 33833.2825638\ttotal: 3.79s\tremaining: 728ms\n",
            "839:\tlearn: 33813.1333701\ttotal: 3.8s\tremaining: 723ms\n",
            "840:\tlearn: 33802.1856843\ttotal: 3.8s\tremaining: 719ms\n",
            "841:\tlearn: 33796.7174959\ttotal: 3.81s\tremaining: 714ms\n",
            "842:\tlearn: 33781.8853661\ttotal: 3.81s\tremaining: 709ms\n",
            "843:\tlearn: 33775.9435125\ttotal: 3.81s\tremaining: 705ms\n",
            "844:\tlearn: 33760.5407975\ttotal: 3.82s\tremaining: 700ms\n",
            "845:\tlearn: 33754.3153241\ttotal: 3.82s\tremaining: 696ms\n",
            "846:\tlearn: 33740.7504603\ttotal: 3.83s\tremaining: 691ms\n",
            "847:\tlearn: 33733.5312803\ttotal: 3.83s\tremaining: 687ms\n",
            "848:\tlearn: 33720.7788897\ttotal: 3.83s\tremaining: 682ms\n",
            "849:\tlearn: 33709.9833773\ttotal: 3.84s\tremaining: 678ms\n",
            "850:\tlearn: 33704.1614073\ttotal: 3.84s\tremaining: 673ms\n",
            "851:\tlearn: 33696.8768125\ttotal: 3.85s\tremaining: 668ms\n",
            "852:\tlearn: 33688.9577806\ttotal: 3.85s\tremaining: 664ms\n",
            "853:\tlearn: 33678.0014011\ttotal: 3.86s\tremaining: 659ms\n",
            "854:\tlearn: 33670.6099435\ttotal: 3.86s\tremaining: 655ms\n",
            "855:\tlearn: 33663.0774526\ttotal: 3.87s\tremaining: 650ms\n",
            "856:\tlearn: 33646.5048989\ttotal: 3.87s\tremaining: 646ms\n",
            "857:\tlearn: 33637.4094113\ttotal: 3.87s\tremaining: 641ms\n",
            "858:\tlearn: 33626.1272296\ttotal: 3.88s\tremaining: 637ms\n",
            "859:\tlearn: 33619.1215969\ttotal: 3.88s\tremaining: 632ms\n",
            "860:\tlearn: 33606.2539477\ttotal: 3.89s\tremaining: 627ms\n",
            "861:\tlearn: 33597.1643023\ttotal: 3.89s\tremaining: 623ms\n",
            "862:\tlearn: 33584.1260033\ttotal: 3.89s\tremaining: 618ms\n",
            "863:\tlearn: 33576.7697959\ttotal: 3.9s\tremaining: 614ms\n",
            "864:\tlearn: 33563.0625866\ttotal: 3.9s\tremaining: 609ms\n",
            "865:\tlearn: 33553.5679344\ttotal: 3.91s\tremaining: 605ms\n",
            "866:\tlearn: 33546.0099203\ttotal: 3.91s\tremaining: 600ms\n",
            "867:\tlearn: 33538.3532851\ttotal: 3.92s\tremaining: 596ms\n",
            "868:\tlearn: 33519.4858722\ttotal: 3.92s\tremaining: 591ms\n",
            "869:\tlearn: 33502.9059880\ttotal: 3.93s\tremaining: 587ms\n",
            "870:\tlearn: 33492.1168587\ttotal: 3.93s\tremaining: 583ms\n",
            "871:\tlearn: 33485.8930878\ttotal: 3.94s\tremaining: 578ms\n",
            "872:\tlearn: 33474.4617757\ttotal: 3.94s\tremaining: 574ms\n",
            "873:\tlearn: 33465.8103221\ttotal: 3.95s\tremaining: 569ms\n",
            "874:\tlearn: 33448.5113306\ttotal: 3.95s\tremaining: 565ms\n",
            "875:\tlearn: 33441.0702845\ttotal: 3.96s\tremaining: 560ms\n",
            "876:\tlearn: 33426.2733846\ttotal: 3.96s\tremaining: 555ms\n",
            "877:\tlearn: 33412.5947896\ttotal: 3.96s\tremaining: 551ms\n",
            "878:\tlearn: 33405.7440548\ttotal: 3.97s\tremaining: 546ms\n",
            "879:\tlearn: 33395.1843207\ttotal: 3.97s\tremaining: 542ms\n",
            "880:\tlearn: 33384.4073606\ttotal: 3.98s\tremaining: 537ms\n",
            "881:\tlearn: 33379.2547613\ttotal: 3.98s\tremaining: 533ms\n",
            "882:\tlearn: 33370.5597392\ttotal: 3.99s\tremaining: 528ms\n",
            "883:\tlearn: 33353.5430166\ttotal: 3.99s\tremaining: 524ms\n",
            "884:\tlearn: 33341.4545375\ttotal: 4s\tremaining: 519ms\n",
            "885:\tlearn: 33335.1613028\ttotal: 4s\tremaining: 515ms\n",
            "886:\tlearn: 33328.9026124\ttotal: 4.01s\tremaining: 510ms\n",
            "887:\tlearn: 33322.8316868\ttotal: 4.01s\tremaining: 506ms\n",
            "888:\tlearn: 33313.5606532\ttotal: 4.01s\tremaining: 501ms\n",
            "889:\tlearn: 33307.9732638\ttotal: 4.02s\tremaining: 497ms\n",
            "890:\tlearn: 33298.2263911\ttotal: 4.02s\tremaining: 492ms\n",
            "891:\tlearn: 33293.6380582\ttotal: 4.03s\tremaining: 488ms\n",
            "892:\tlearn: 33286.5106243\ttotal: 4.03s\tremaining: 483ms\n",
            "893:\tlearn: 33275.1796380\ttotal: 4.04s\tremaining: 479ms\n",
            "894:\tlearn: 33263.0585155\ttotal: 4.04s\tremaining: 474ms\n",
            "895:\tlearn: 33254.7491116\ttotal: 4.04s\tremaining: 469ms\n",
            "896:\tlearn: 33241.3343281\ttotal: 4.05s\tremaining: 465ms\n",
            "897:\tlearn: 33234.4916002\ttotal: 4.05s\tremaining: 460ms\n",
            "898:\tlearn: 33227.1264489\ttotal: 4.06s\tremaining: 456ms\n",
            "899:\tlearn: 33213.3566635\ttotal: 4.06s\tremaining: 451ms\n",
            "900:\tlearn: 33200.4162324\ttotal: 4.07s\tremaining: 447ms\n",
            "901:\tlearn: 33189.6346036\ttotal: 4.07s\tremaining: 442ms\n",
            "902:\tlearn: 33176.9392757\ttotal: 4.07s\tremaining: 438ms\n",
            "903:\tlearn: 33168.7376377\ttotal: 4.08s\tremaining: 433ms\n",
            "904:\tlearn: 33162.3819000\ttotal: 4.08s\tremaining: 429ms\n",
            "905:\tlearn: 33150.3318339\ttotal: 4.09s\tremaining: 424ms\n",
            "906:\tlearn: 33135.9265450\ttotal: 4.09s\tremaining: 419ms\n",
            "907:\tlearn: 33126.1671102\ttotal: 4.09s\tremaining: 415ms\n",
            "908:\tlearn: 33117.0576143\ttotal: 4.1s\tremaining: 410ms\n",
            "909:\tlearn: 33105.1470475\ttotal: 4.1s\tremaining: 406ms\n",
            "910:\tlearn: 33092.7560167\ttotal: 4.11s\tremaining: 401ms\n",
            "911:\tlearn: 33082.4490815\ttotal: 4.11s\tremaining: 397ms\n",
            "912:\tlearn: 33076.7793357\ttotal: 4.12s\tremaining: 392ms\n",
            "913:\tlearn: 33071.0939763\ttotal: 4.12s\tremaining: 388ms\n",
            "914:\tlearn: 33065.0566414\ttotal: 4.13s\tremaining: 384ms\n",
            "915:\tlearn: 33052.7003754\ttotal: 4.13s\tremaining: 379ms\n",
            "916:\tlearn: 33042.3148046\ttotal: 4.14s\tremaining: 374ms\n",
            "917:\tlearn: 33029.9845947\ttotal: 4.14s\tremaining: 370ms\n",
            "918:\tlearn: 33022.4398240\ttotal: 4.14s\tremaining: 365ms\n",
            "919:\tlearn: 33015.9671460\ttotal: 4.15s\tremaining: 361ms\n",
            "920:\tlearn: 33004.7957610\ttotal: 4.15s\tremaining: 356ms\n",
            "921:\tlearn: 32997.6445367\ttotal: 4.16s\tremaining: 352ms\n",
            "922:\tlearn: 32989.2434963\ttotal: 4.16s\tremaining: 347ms\n",
            "923:\tlearn: 32982.5309378\ttotal: 4.17s\tremaining: 343ms\n",
            "924:\tlearn: 32978.0660467\ttotal: 4.17s\tremaining: 338ms\n",
            "925:\tlearn: 32968.8510008\ttotal: 4.17s\tremaining: 334ms\n",
            "926:\tlearn: 32960.5267468\ttotal: 4.18s\tremaining: 329ms\n",
            "927:\tlearn: 32953.9245392\ttotal: 4.18s\tremaining: 325ms\n",
            "928:\tlearn: 32948.3410134\ttotal: 4.19s\tremaining: 320ms\n",
            "929:\tlearn: 32938.2240354\ttotal: 4.19s\tremaining: 315ms\n",
            "930:\tlearn: 32927.0769449\ttotal: 4.2s\tremaining: 311ms\n",
            "931:\tlearn: 32917.5047469\ttotal: 4.2s\tremaining: 306ms\n",
            "932:\tlearn: 32902.6818291\ttotal: 4.2s\tremaining: 302ms\n",
            "933:\tlearn: 32889.6497995\ttotal: 4.21s\tremaining: 297ms\n",
            "934:\tlearn: 32880.7771263\ttotal: 4.21s\tremaining: 293ms\n",
            "935:\tlearn: 32871.9893859\ttotal: 4.22s\tremaining: 288ms\n",
            "936:\tlearn: 32860.0023564\ttotal: 4.22s\tremaining: 284ms\n",
            "937:\tlearn: 32847.3583349\ttotal: 4.22s\tremaining: 279ms\n",
            "938:\tlearn: 32837.1789157\ttotal: 4.23s\tremaining: 275ms\n",
            "939:\tlearn: 32823.6100453\ttotal: 4.24s\tremaining: 270ms\n",
            "940:\tlearn: 32814.7140547\ttotal: 4.24s\tremaining: 266ms\n",
            "941:\tlearn: 32807.5460371\ttotal: 4.24s\tremaining: 261ms\n",
            "942:\tlearn: 32798.7775851\ttotal: 4.25s\tremaining: 257ms\n",
            "943:\tlearn: 32783.7680271\ttotal: 4.25s\tremaining: 252ms\n",
            "944:\tlearn: 32772.6288383\ttotal: 4.26s\tremaining: 248ms\n",
            "945:\tlearn: 32764.8229898\ttotal: 4.26s\tremaining: 243ms\n",
            "946:\tlearn: 32757.3901116\ttotal: 4.26s\tremaining: 239ms\n",
            "947:\tlearn: 32747.8171993\ttotal: 4.27s\tremaining: 234ms\n",
            "948:\tlearn: 32741.4337885\ttotal: 4.28s\tremaining: 230ms\n",
            "949:\tlearn: 32731.7583786\ttotal: 4.28s\tremaining: 225ms\n",
            "950:\tlearn: 32722.5633168\ttotal: 4.28s\tremaining: 221ms\n",
            "951:\tlearn: 32712.1271253\ttotal: 4.29s\tremaining: 216ms\n",
            "952:\tlearn: 32702.7227469\ttotal: 4.29s\tremaining: 212ms\n",
            "953:\tlearn: 32692.3801239\ttotal: 4.29s\tremaining: 207ms\n",
            "954:\tlearn: 32681.7440266\ttotal: 4.3s\tremaining: 203ms\n",
            "955:\tlearn: 32670.9094056\ttotal: 4.3s\tremaining: 198ms\n",
            "956:\tlearn: 32656.3497841\ttotal: 4.31s\tremaining: 194ms\n",
            "957:\tlearn: 32647.5425925\ttotal: 4.31s\tremaining: 189ms\n",
            "958:\tlearn: 32634.8163059\ttotal: 4.32s\tremaining: 185ms\n",
            "959:\tlearn: 32623.9152280\ttotal: 4.33s\tremaining: 180ms\n",
            "960:\tlearn: 32617.0579766\ttotal: 4.33s\tremaining: 176ms\n",
            "961:\tlearn: 32605.6242256\ttotal: 4.34s\tremaining: 171ms\n",
            "962:\tlearn: 32597.0487817\ttotal: 4.34s\tremaining: 167ms\n",
            "963:\tlearn: 32586.5364414\ttotal: 4.35s\tremaining: 162ms\n",
            "964:\tlearn: 32576.0990958\ttotal: 4.35s\tremaining: 158ms\n",
            "965:\tlearn: 32563.7777518\ttotal: 4.36s\tremaining: 153ms\n",
            "966:\tlearn: 32555.2071239\ttotal: 4.36s\tremaining: 149ms\n",
            "967:\tlearn: 32545.1930986\ttotal: 4.37s\tremaining: 144ms\n",
            "968:\tlearn: 32537.6344586\ttotal: 4.37s\tremaining: 140ms\n",
            "969:\tlearn: 32531.3070704\ttotal: 4.37s\tremaining: 135ms\n",
            "970:\tlearn: 32524.2930902\ttotal: 4.38s\tremaining: 131ms\n",
            "971:\tlearn: 32513.4238491\ttotal: 4.38s\tremaining: 126ms\n",
            "972:\tlearn: 32509.1536519\ttotal: 4.39s\tremaining: 122ms\n",
            "973:\tlearn: 32503.2290697\ttotal: 4.39s\tremaining: 117ms\n",
            "974:\tlearn: 32492.1645255\ttotal: 4.39s\tremaining: 113ms\n",
            "975:\tlearn: 32485.7153746\ttotal: 4.4s\tremaining: 108ms\n",
            "976:\tlearn: 32475.4982240\ttotal: 4.4s\tremaining: 104ms\n",
            "977:\tlearn: 32467.2389160\ttotal: 4.41s\tremaining: 99.2ms\n",
            "978:\tlearn: 32457.0797554\ttotal: 4.41s\tremaining: 94.7ms\n",
            "979:\tlearn: 32450.7589690\ttotal: 4.42s\tremaining: 90.1ms\n",
            "980:\tlearn: 32445.1094074\ttotal: 4.42s\tremaining: 85.7ms\n",
            "981:\tlearn: 32438.0722889\ttotal: 4.43s\tremaining: 81.1ms\n",
            "982:\tlearn: 32429.7141335\ttotal: 4.43s\tremaining: 76.6ms\n",
            "983:\tlearn: 32424.8565349\ttotal: 4.43s\tremaining: 72.1ms\n",
            "984:\tlearn: 32417.4080392\ttotal: 4.44s\tremaining: 67.6ms\n",
            "985:\tlearn: 32410.0967514\ttotal: 4.44s\tremaining: 63.1ms\n",
            "986:\tlearn: 32406.6943998\ttotal: 4.45s\tremaining: 58.6ms\n",
            "987:\tlearn: 32397.0550808\ttotal: 4.45s\tremaining: 54.1ms\n",
            "988:\tlearn: 32390.5744012\ttotal: 4.46s\tremaining: 49.6ms\n",
            "989:\tlearn: 32382.6196337\ttotal: 4.46s\tremaining: 45.1ms\n",
            "990:\tlearn: 32373.2251929\ttotal: 4.47s\tremaining: 40.6ms\n",
            "991:\tlearn: 32364.1639540\ttotal: 4.47s\tremaining: 36.1ms\n",
            "992:\tlearn: 32359.8396374\ttotal: 4.48s\tremaining: 31.6ms\n",
            "993:\tlearn: 32352.6664017\ttotal: 4.48s\tremaining: 27.1ms\n",
            "994:\tlearn: 32342.4437515\ttotal: 4.49s\tremaining: 22.6ms\n",
            "995:\tlearn: 32333.1082077\ttotal: 4.49s\tremaining: 18ms\n",
            "996:\tlearn: 32325.6196386\ttotal: 4.5s\tremaining: 13.5ms\n",
            "997:\tlearn: 32315.3404044\ttotal: 4.5s\tremaining: 9.02ms\n",
            "998:\tlearn: 32308.9482902\ttotal: 4.51s\tremaining: 4.51ms\n",
            "999:\tlearn: 32302.5394606\ttotal: 4.51s\tremaining: 0us\n",
            "\u001b[1m\n",
            "R2 score is  0.817190194767459\n",
            "\u001b[1m\n",
            "Adjusted R2 score is  0.7910745083056674\n",
            "\u001b[1m\n",
            "Mean Absolute Error is 28348.38\n",
            "\u001b[1m\n",
            "Mean Squared Error is 1728486588.1\n",
            "\u001b[1m\n",
            "Root Mean Squared Error is 41575.07\n",
            "\u001b[1m\n",
            "Accuracy of CatBoost is  81.72 %\n"
          ],
          "name": "stdout"
        }
      ]
    },
    {
      "cell_type": "markdown",
      "metadata": {
        "id": "mMKJqBBEExO3"
      },
      "source": [
        "### 10. Light GBM"
      ]
    },
    {
      "cell_type": "code",
      "metadata": {
        "colab": {
          "base_uri": "https://localhost:8080/"
        },
        "id": "_A94tylsMVuv",
        "outputId": "6b17897f-3a57-410c-cda3-1323ac9302e7"
      },
      "source": [
        "!pip install lightgbm"
      ],
      "execution_count": 51,
      "outputs": [
        {
          "output_type": "stream",
          "text": [
            "Requirement already satisfied: lightgbm in /usr/local/lib/python3.7/dist-packages (2.2.3)\n",
            "Requirement already satisfied: scipy in /usr/local/lib/python3.7/dist-packages (from lightgbm) (1.4.1)\n",
            "Requirement already satisfied: numpy in /usr/local/lib/python3.7/dist-packages (from lightgbm) (1.19.5)\n",
            "Requirement already satisfied: scikit-learn in /usr/local/lib/python3.7/dist-packages (from lightgbm) (0.22.2.post1)\n",
            "Requirement already satisfied: joblib>=0.11 in /usr/local/lib/python3.7/dist-packages (from scikit-learn->lightgbm) (1.0.1)\n"
          ],
          "name": "stdout"
        }
      ]
    },
    {
      "cell_type": "code",
      "metadata": {
        "id": "pnVsmZAQExO3",
        "colab": {
          "base_uri": "https://localhost:8080/"
        },
        "outputId": "fa9cb7d0-df7a-4926-cd12-4ff2ff8af201"
      },
      "source": [
        "import lightgbm as lgb\n",
        "\n",
        "lg = lgb.LGBMRegressor()\n",
        "\n",
        "lg.fit(X_train,y_train)\n",
        "\n",
        "y_pred = lg.predict(X_test)\n",
        "\n",
        "accuracy = lg.score(X_test, y_test)\n",
        "accuracy_rounded = round(accuracy*100,2)\n",
        "accuracies['Light GBM'] = accuracy_rounded\n",
        "\n",
        "r2 = metrics.r2_score(y_test, y_pred)\n",
        "Adj_r2 = 1-(1-r2)*(9-1)/(9-1-1)\n",
        "\n",
        "print(color.BOLD + '\\nR2 score is ',r2)\n",
        "\n",
        "print(color.BOLD + '\\nAdjusted R2 score is ',Adj_r2)\n",
        "\n",
        "print(color.BOLD + '\\nMean Absolute Error is',round(metrics.mean_absolute_error(y_test,lg.predict(X_test)),2))\n",
        "\n",
        "print(color.BOLD + '\\nMean Squared Error is',round(metrics.mean_squared_error(y_test,lg.predict(X_test)),2))\n",
        "\n",
        "print(color.BOLD + '\\nRoot Mean Squared Error is',round(np.sqrt(mean_squared_error(y_test,lg.predict(X_test))),2))\n",
        "\n",
        "print(color.BOLD + \"\\nAccuracy of Light GBM is \", accuracy_rounded,'%')"
      ],
      "execution_count": 52,
      "outputs": [
        {
          "output_type": "stream",
          "text": [
            "\u001b[1m\n",
            "R2 score is  0.805094045362777\n",
            "\u001b[1m\n",
            "Adjusted R2 score is  0.7772503375574593\n",
            "\u001b[1m\n",
            "Mean Absolute Error is 29596.6\n",
            "\u001b[1m\n",
            "Mean Squared Error is 1842856996.11\n",
            "\u001b[1m\n",
            "Root Mean Squared Error is 42928.51\n",
            "\u001b[1m\n",
            "Accuracy of Light GBM is  80.51 %\n"
          ],
          "name": "stdout"
        }
      ]
    },
    {
      "cell_type": "code",
      "metadata": {
        "id": "M-J3YdiTExO4",
        "colab": {
          "base_uri": "https://localhost:8080/"
        },
        "outputId": "429f870f-76b3-4978-c09e-e774890b64e5"
      },
      "source": [
        "#Verifying how untuned models predict house value\n",
        "print('\\nPrediction of Random Forest is ',rf.predict([[-122.22,37.86,21,7099,1106,2401,1138,8.3014,0]]))      \n",
        "print('\\nPrediction of Ada Boost is ',ada.predict([[-122.22,37.86,21,7099,1106,2401,1138,8.3014,0]])) \n",
        "print('\\nPrediction of Gradient Boost is ',gboost.predict([[-122.22,37.86,21,7099,1106,2401,1138,8.3014,0]]))\n",
        "print('\\nPrediction of Ridge Regression is ',rid.predict([[-122.22,37.86,21,7099,1106,2401,1138,8.3014,0]]))\n",
        "print('\\nPrediction of Lasso Regression is ',lasso.predict([[-122.22,37.86,21,7099,1106,2401,1138,8.3014,0]]))\n",
        "print('\\nPrediction of Elasticnet Regression is ',ela.predict([[-122.22,37.86,21,7099,1106,2401,1138,8.3014,0]]))\n",
        "print('\\nPrediction of Decision Tree is ',dt.predict([[-122.22,37.86,21,7099,1106,2401,1138,8.3014,0]]))\n",
        "print('\\nPrediction of CatBoost is ',cat.predict([[-122.22,37.86,21,7099,1106,2401,1138,8.3014,0]]))\n",
        "print('\\nPrediction of Light GBM is ',lg.predict([[-122.22,37.86,21,7099,1106,2401,1138,8.3014,0]]))"
      ],
      "execution_count": 53,
      "outputs": [
        {
          "output_type": "stream",
          "text": [
            "\n",
            "Prediction of Random Forest is  [420011.]\n",
            "\n",
            "Prediction of Ada Boost is  [337686.50793651]\n",
            "\n",
            "Prediction of Gradient Boost is  [419323.72748761]\n",
            "\n",
            "Prediction of Ridge Regression is  [399244.39943811]\n",
            "\n",
            "Prediction of Lasso Regression is  [399244.9694864]\n",
            "\n",
            "Prediction of Elasticnet Regression is  [370978.36071406]\n",
            "\n",
            "Prediction of Decision Tree is  [361400.]\n",
            "\n",
            "Prediction of CatBoost is  [472459.68824591]\n",
            "\n",
            "Prediction of Light GBM is  [430758.97756016]\n"
          ],
          "name": "stdout"
        }
      ]
    },
    {
      "cell_type": "markdown",
      "metadata": {
        "id": "e5bLdMPdExO5"
      },
      "source": [
        "### All accuracies together"
      ]
    },
    {
      "cell_type": "code",
      "metadata": {
        "id": "kjoT8Ht4ExO5",
        "colab": {
          "base_uri": "https://localhost:8080/"
        },
        "outputId": "b24bb00e-e868-417e-f427-fa0b0e8eb380"
      },
      "source": [
        "accuracies"
      ],
      "execution_count": 54,
      "outputs": [
        {
          "output_type": "execute_result",
          "data": {
            "text/plain": [
              "{'AdaBoost': 20.11,\n",
              " 'CatBoost': 81.72,\n",
              " 'Decision Tree': 55.37,\n",
              " 'Elastic Net Regression': 56.28,\n",
              " 'Gradient Boost': 73.66,\n",
              " 'Lasso Regression': 61.25,\n",
              " 'Light GBM': 80.51,\n",
              " 'Random Forest': 78.38,\n",
              " 'Ridge Regression': 61.25,\n",
              " 'XGBoost': 73.84}"
            ]
          },
          "metadata": {
            "tags": []
          },
          "execution_count": 54
        }
      ]
    },
    {
      "cell_type": "code",
      "metadata": {
        "id": "N9oc_NMvExO6",
        "colab": {
          "base_uri": "https://localhost:8080/",
          "height": 0
        },
        "outputId": "34fa95af-e1cd-492a-a554-3b643b15b5bf"
      },
      "source": [
        "#Plotting accuracies of all the models\n",
        "colors = [\"green\", \"yellow\", \"black\", \"magenta\", \"#0e76a8\", \"red\", \"#34558b\",\"#f0daa4\",\"#3b3d4b\",\"#fd823e\"]\n",
        "\n",
        "sns.set_style(\"whitegrid\")\n",
        "plt.figure(figsize=(18,10))\n",
        "plt.yticks(np.arange(0,100,10))\n",
        "plt.ylabel(\"\\nAccuracy %\",fontsize=20)\n",
        "plt.xlabel(\"\\nAlgorithms\",fontsize=20)\n",
        "sns.barplot(x=list(accuracies.keys()), y=list(accuracies.values()), palette=colors)\n",
        "plt.show()"
      ],
      "execution_count": 55,
      "outputs": [
        {
          "output_type": "display_data",
          "data": {
            "image/png": "[encoded data removed]",
            "text/plain": [
              "<Figure size 1296x720 with 1 Axes>"
            ]
          },
          "metadata": {
            "tags": []
          }
        }
      ]
    },
    {
      "cell_type": "code",
      "metadata": {
        "id": "86enmCvj75s1"
      },
      "source": [
        "#CatBoost performs the best without tuning."
      ],
      "execution_count": 56,
      "outputs": []
    },
    {
      "cell_type": "markdown",
      "metadata": {
        "id": "zhtXxCfZ2q9d"
      },
      "source": [
        "### Hyperparameter Tuning"
      ]
    },
    {
      "cell_type": "markdown",
      "metadata": {
        "id": "XBlspCKB2Nso"
      },
      "source": [
        "\n",
        "> Let's try to increase the accuracy of the top performing models on this dataset - \n",
        "\n",
        "> 1.   XGBoost\n",
        "2.   CatBoost\n",
        "1.   LightGBM\n",
        "\n",
        "---\n",
        "\n"
      ]
    },
    {
      "cell_type": "code",
      "metadata": {
        "id": "pquKfsls2zrb"
      },
      "source": [
        "from sklearn.model_selection import RepeatedKFold\n",
        "from sklearn.model_selection import GridSearchCV\n",
        "from sklearn.model_selection import RandomizedSearchCV\n",
        "import numpy as np"
      ],
      "execution_count": 57,
      "outputs": []
    },
    {
      "cell_type": "markdown",
      "metadata": {
        "id": "7vclEaCSCMB8"
      },
      "source": [
        "### XGBoost Tuning"
      ]
    },
    {
      "cell_type": "code",
      "metadata": {
        "colab": {
          "base_uri": "https://localhost:8080/"
        },
        "id": "oB3nlcxcGp0_",
        "outputId": "ca676fb7-8572-41c0-aa10-a78a5aa7821d"
      },
      "source": [
        "#Randomized Search CV\n",
        "\n",
        "n_estimators = [int(x) for x in np.linspace(start = 10 , stop = 100, num = 5)]\n",
        "\n",
        "max_features = ['auto', 'log2', 'sqrt']\n",
        "\n",
        "max_depth = [int(x) for x in np.linspace(6, 100, num = 6)] \n",
        "\n",
        "max_depth.append(None)\n",
        "\n",
        "bootstrap = [True, False]\n",
        "\n",
        "grid = {  'n_estimators': n_estimators,\n",
        "\n",
        "          'max_features': max_features,\n",
        "\n",
        "          'max_depth': max_depth,\n",
        "\n",
        "          'bootstrap': bootstrap,\n",
        "\n",
        "          'C': [1.1, 5.4, 170, 1001],\n",
        "\n",
        "          'epsilon': [0.0003, 0.007, 0.0109, 0.019, 0.14, 0.05, 8, 0.2, 3, 2, 7],\n",
        "\n",
        "          'gamma': [0.7001, 0.008, 0.001, 3.1, 1, 1.3, 5],\n",
        "\n",
        "          'loss' : ['mae','mse'],\n",
        "\n",
        "          'penalty' : ['l1', 'l2', 'elasticnet'],\n",
        "\n",
        "          'alpha' : [0.00001, 0.0001, 0.001, 0.01, 0.1, 10, 100, 1000],\n",
        "\n",
        "          'learning_rate' : [0.0001, 0.001, 0.01, 0.1, 0.15, 0.18, 0.3, 0.5, 0.7]\n",
        "        \n",
        "       }\n",
        "\n",
        "print(grid)"
      ],
      "execution_count": 58,
      "outputs": [
        {
          "output_type": "stream",
          "text": [
            "{'n_estimators': [10, 32, 55, 77, 100], 'max_features': ['auto', 'log2', 'sqrt'], 'max_depth': [6, 24, 43, 62, 81, 100, None], 'bootstrap': [True, False], 'C': [1.1, 5.4, 170, 1001], 'epsilon': [0.0003, 0.007, 0.0109, 0.019, 0.14, 0.05, 8, 0.2, 3, 2, 7], 'gamma': [0.7001, 0.008, 0.001, 3.1, 1, 1.3, 5], 'loss': ['mae', 'mse'], 'penalty': ['l1', 'l2', 'elasticnet'], 'alpha': [1e-05, 0.0001, 0.001, 0.01, 0.1, 10, 100, 1000], 'learning_rate': [0.0001, 0.001, 0.01, 0.1, 0.15, 0.18, 0.3, 0.5, 0.7]}\n"
          ],
          "name": "stdout"
        }
      ]
    },
    {
      "cell_type": "code",
      "metadata": {
        "colab": {
          "base_uri": "https://localhost:8080/"
        },
        "id": "swiS5MRdLkHR",
        "outputId": "9065213c-c174-4070-a999-f95bdd78a480"
      },
      "source": [
        "rscv = RandomizedSearchCV(      estimator=xg, \n",
        "                                param_distributions=grid, \n",
        "                                n_iter = 7, \n",
        "                                scoring='r2',\n",
        "                                cv = 5, \n",
        "                                verbose=2, \n",
        "                                random_state=42,\n",
        "                                n_jobs=-1,\n",
        "                                return_train_score=True)\n",
        "\n",
        "rscv.fit(X_train, y_train)"
      ],
      "execution_count": 59,
      "outputs": [
        {
          "output_type": "stream",
          "text": [
            "Fitting 5 folds for each of 7 candidates, totalling 35 fits\n"
          ],
          "name": "stdout"
        },
        {
          "output_type": "stream",
          "text": [
            "[Parallel(n_jobs=-1)]: Using backend LokyBackend with 2 concurrent workers.\n",
            "[Parallel(n_jobs=-1)]: Done  35 out of  35 | elapsed:  1.4min finished\n"
          ],
          "name": "stderr"
        },
        {
          "output_type": "stream",
          "text": [
            "[11:05:58] WARNING: /workspace/src/objective/regression_obj.cu:152: reg:linear is now deprecated in favor of reg:squarederror.\n"
          ],
          "name": "stdout"
        },
        {
          "output_type": "execute_result",
          "data": {
            "text/plain": [
              "RandomizedSearchCV(cv=5, error_score=nan,\n",
              "                   estimator=XGBRegressor(base_score=0.5, booster='gbtree',\n",
              "                                          colsample_bylevel=1,\n",
              "                                          colsample_bynode=1,\n",
              "                                          colsample_bytree=1, gamma=0,\n",
              "                                          importance_type='gain',\n",
              "                                          learning_rate=0.1, max_delta_step=0,\n",
              "                                          max_depth=3, min_child_weight=1,\n",
              "                                          missing=None, n_estimators=100,\n",
              "                                          n_jobs=1, nthread=None,\n",
              "                                          objective='reg:linear',\n",
              "                                          random_state=0, reg_alpha=...\n",
              "                                        'gamma': [0.7001, 0.008, 0.001, 3.1, 1,\n",
              "                                                  1.3, 5],\n",
              "                                        'learning_rate': [0.0001, 0.001, 0.01,\n",
              "                                                          0.1, 0.15, 0.18, 0.3,\n",
              "                                                          0.5, 0.7],\n",
              "                                        'loss': ['mae', 'mse'],\n",
              "                                        'max_depth': [6, 24, 43, 62, 81, 100,\n",
              "                                                      None],\n",
              "                                        'max_features': ['auto', 'log2',\n",
              "                                                         'sqrt'],\n",
              "                                        'n_estimators': [10, 32, 55, 77, 100],\n",
              "                                        'penalty': ['l1', 'l2', 'elasticnet']},\n",
              "                   pre_dispatch='2*n_jobs', random_state=42, refit=True,\n",
              "                   return_train_score=True, scoring='r2', verbose=2)"
            ]
          },
          "metadata": {
            "tags": []
          },
          "execution_count": 59
        }
      ]
    },
    {
      "cell_type": "code",
      "metadata": {
        "colab": {
          "base_uri": "https://localhost:8080/"
        },
        "id": "7OjRqy5E5uUt",
        "outputId": "a8b92cdf-022d-4d31-d6e9-9d5065dd2e2a"
      },
      "source": [
        "# summarize result\n",
        "print(rscv.best_params_)\n",
        "print(rscv.score(X_test , y_test))"
      ],
      "execution_count": 60,
      "outputs": [
        {
          "output_type": "stream",
          "text": [
            "{'penalty': 'l1', 'n_estimators': 100, 'max_features': 'sqrt', 'max_depth': 6, 'loss': 'mae', 'learning_rate': 0.1, 'gamma': 3.1, 'epsilon': 0.05, 'bootstrap': True, 'alpha': 1000, 'C': 5.4}\n",
            "0.7938645142994412\n"
          ],
          "name": "stdout"
        }
      ]
    },
    {
      "cell_type": "code",
      "metadata": {
        "colab": {
          "base_uri": "https://localhost:8080/"
        },
        "id": "ltaFiQk6L-6Q",
        "outputId": "7177850f-f414-4fb3-b373-24aa3532c9de"
      },
      "source": [
        "#Predict on test data\n",
        "y_pred = rscv.predict(X_test)\n",
        "\n",
        "#Metrics Calculation\n",
        "r2 = round(metrics.r2_score(y_test, y_pred),2)\n",
        "Adj_r2 = round(1-(1-r2)*(9-1)/(9-1-1),2)\n",
        "\n",
        "#Display results\n",
        "print(color.BOLD + '\\nR2 score is ',r2)\n",
        "\n",
        "print(color.BOLD + '\\nAdjusted R2 score is ',Adj_r2)\n",
        "\n",
        "print(color.BOLD + '\\nMean Absolute Error is',round(metrics.mean_absolute_error(y_test,rscv.predict(X_test)),2))\n",
        "\n",
        "print(color.BOLD + '\\nMean Squared Error is',round(metrics.mean_squared_error(y_test,rscv.predict(X_test)),2))\n",
        "\n",
        "print(color.BOLD + '\\nRoot Mean Squared Error is',round(np.sqrt(mean_squared_error(y_test,rscv.predict(X_test))),2))"
      ],
      "execution_count": 61,
      "outputs": [
        {
          "output_type": "stream",
          "text": [
            "\u001b[1m\n",
            "R2 score is  0.79\n",
            "\u001b[1m\n",
            "Adjusted R2 score is  0.76\n",
            "\u001b[1m\n",
            "Mean Absolute Error is 30315.77\n",
            "\u001b[1m\n",
            "Mean Squared Error is 1949033433.47\n",
            "\u001b[1m\n",
            "Root Mean Squared Error is 44147.86\n"
          ],
          "name": "stdout"
        }
      ]
    },
    {
      "cell_type": "code",
      "metadata": {
        "colab": {
          "base_uri": "https://localhost:8080/"
        },
        "id": "mrDISqs12za3",
        "outputId": "64373705-7e95-41ac-de61-a5099e659691"
      },
      "source": [
        "#Grid Search CV\n",
        "\n",
        "# define model\n",
        "xg = XGBRegressor()\n",
        "\n",
        "# define search space\n",
        "param_grid = {'bootstrap': [True, False], \n",
        "              'max_depth': [5, 10, None],\n",
        "              'max_features': ['auto', 'log2', 'sqrt'], \n",
        "              'n_estimators': [5, 6, 7, 8, 9, 10, 11, 12, 13, 14, 15],\n",
        "              }\n",
        "\n",
        "# define evaluation\n",
        "cv = RepeatedKFold(n_splits=5, n_repeats=3, random_state=42)\n",
        "\n",
        "# define search\n",
        "search = GridSearchCV(xg, param_grid, cv=cv, scoring='r2',n_jobs=-1)\n",
        "\n",
        "#Fit to our data\n",
        "gscv = search.fit(X_train, y_train)"
      ],
      "execution_count": 62,
      "outputs": [
        {
          "output_type": "stream",
          "text": [
            "[11:10:54] WARNING: /workspace/src/objective/regression_obj.cu:152: reg:linear is now deprecated in favor of reg:squarederror.\n"
          ],
          "name": "stdout"
        }
      ]
    },
    {
      "cell_type": "code",
      "metadata": {
        "colab": {
          "base_uri": "https://localhost:8080/"
        },
        "id": "teUfA8-VCvjp",
        "outputId": "785c8464-f1d4-45b9-ff81-402becc9b8f9"
      },
      "source": [
        "# summarize result\n",
        "print('Best Score: %s' % gscv.best_score_)\n",
        "print('Best Hyperparameters: %s' % gscv.best_params_)"
      ],
      "execution_count": 63,
      "outputs": [
        {
          "output_type": "stream",
          "text": [
            "Best Score: 0.5192711395139961\n",
            "Best Hyperparameters: {'bootstrap': True, 'max_depth': 10, 'max_features': 'auto', 'n_estimators': 15}\n"
          ],
          "name": "stdout"
        }
      ]
    },
    {
      "cell_type": "code",
      "metadata": {
        "colab": {
          "base_uri": "https://localhost:8080/"
        },
        "id": "Hn2D4E6F-Gz3",
        "outputId": "74d51d9e-3f57-4138-cd21-f7db94cbad77"
      },
      "source": [
        "#Predict on test data\n",
        "y_pred = gscv.predict(X_test)\n",
        "\n",
        "#Metrics Calculation\n",
        "r2 = round(metrics.r2_score(y_test, y_pred),2)\n",
        "Adj_r2 = round(1-(1-r2)*(9-1)/(9-1-1),2)\n",
        "\n",
        "#Display results\n",
        "print(color.BOLD + '\\nR2 score is ',r2)\n",
        "\n",
        "print(color.BOLD + '\\nAdjusted R2 score is ',Adj_r2)\n",
        "\n",
        "print(color.BOLD + '\\nMean Absolute Error is',round(metrics.mean_absolute_error(y_test,gscv.predict(X_test)),2))\n",
        "\n",
        "print(color.BOLD + '\\nMean Squared Error is',round(metrics.mean_squared_error(y_test,gscv.predict(X_test)),2))\n",
        "\n",
        "print(color.BOLD + '\\nRoot Mean Squared Error is',round(np.sqrt(mean_squared_error(y_test,gscv.predict(X_test))),2))"
      ],
      "execution_count": 64,
      "outputs": [
        {
          "output_type": "stream",
          "text": [
            "\u001b[1m\n",
            "R2 score is  0.55\n",
            "\u001b[1m\n",
            "Adjusted R2 score is  0.49\n",
            "\u001b[1m\n",
            "Mean Absolute Error is 46536.64\n",
            "\u001b[1m\n",
            "Mean Squared Error is 4299358244.56\n",
            "\u001b[1m\n",
            "Root Mean Squared Error is 65569.49\n"
          ],
          "name": "stdout"
        }
      ]
    },
    {
      "cell_type": "markdown",
      "metadata": {
        "id": "BlhhyCA6EJYw"
      },
      "source": [
        "### CatBoost Tuning"
      ]
    },
    {
      "cell_type": "code",
      "metadata": {
        "colab": {
          "base_uri": "https://localhost:8080/"
        },
        "id": "mvo9-WUNENLZ",
        "outputId": "409ad9b6-6ac6-4caf-d588-17ce4c71f351"
      },
      "source": [
        "#Randomized Search CV\n",
        "n_estimators = [int(x) for x in np.linspace(start = 5 , stop = 150, num = 2)]\n",
        "\n",
        "max_depth = [int(x) for x in np.linspace(2, 120, num = 2)] \n",
        "\n",
        "max_depth.append(None)\n",
        "\n",
        "grid = {'n_estimators': n_estimators, 'learning_rate' : np.linspace(0,0.3,5)}\n",
        "\n",
        "print(grid)"
      ],
      "execution_count": 65,
      "outputs": [
        {
          "output_type": "stream",
          "text": [
            "{'n_estimators': [5, 150], 'learning_rate': array([0.   , 0.075, 0.15 , 0.225, 0.3  ])}\n"
          ],
          "name": "stdout"
        }
      ]
    },
    {
      "cell_type": "code",
      "metadata": {
        "colab": {
          "base_uri": "https://localhost:8080/"
        },
        "id": "F3SD5g8FEXBN",
        "outputId": "334c99c6-3ada-4139-b5e8-29e150afc684"
      },
      "source": [
        "rscv = RandomizedSearchCV(      estimator=cat, \n",
        "                                param_distributions=grid, \n",
        "                                n_iter = 10, \n",
        "                                scoring='r2',\n",
        "                                cv = 5, \n",
        "                                verbose=0, \n",
        "                                random_state=42,\n",
        "                                n_jobs=-1,\n",
        "                                return_train_score=True)\n",
        "\n",
        "rscv.fit(X_train, y_train)"
      ],
      "execution_count": 66,
      "outputs": [
        {
          "output_type": "stream",
          "text": [
            "0:\tlearn: 87418.4302447\ttotal: 5.34ms\tremaining: 796ms\n",
            "1:\tlearn: 79598.0123390\ttotal: 10.1ms\tremaining: 745ms\n",
            "2:\tlearn: 73957.3687807\ttotal: 14.5ms\tremaining: 709ms\n",
            "3:\tlearn: 70179.5364077\ttotal: 18.8ms\tremaining: 686ms\n",
            "4:\tlearn: 67402.4047745\ttotal: 23.2ms\tremaining: 673ms\n",
            "5:\tlearn: 65136.2390282\ttotal: 27.3ms\tremaining: 655ms\n",
            "6:\tlearn: 63577.8737089\ttotal: 31.6ms\tremaining: 645ms\n",
            "7:\tlearn: 62392.4419267\ttotal: 35.8ms\tremaining: 636ms\n",
            "8:\tlearn: 60943.3383950\ttotal: 40ms\tremaining: 627ms\n",
            "9:\tlearn: 60170.0981924\ttotal: 44.4ms\tremaining: 621ms\n",
            "10:\tlearn: 59332.4603884\ttotal: 48.3ms\tremaining: 611ms\n",
            "11:\tlearn: 58254.9531632\ttotal: 52.9ms\tremaining: 608ms\n",
            "12:\tlearn: 57045.1748883\ttotal: 57.5ms\tremaining: 606ms\n",
            "13:\tlearn: 56410.2142265\ttotal: 61.6ms\tremaining: 598ms\n",
            "14:\tlearn: 55960.5412101\ttotal: 65.8ms\tremaining: 593ms\n",
            "15:\tlearn: 54953.7465268\ttotal: 70.1ms\tremaining: 587ms\n",
            "16:\tlearn: 54603.9970230\ttotal: 74.2ms\tremaining: 581ms\n",
            "17:\tlearn: 54260.5092440\ttotal: 78.6ms\tremaining: 576ms\n",
            "18:\tlearn: 53680.1430196\ttotal: 83ms\tremaining: 572ms\n",
            "19:\tlearn: 53278.3512681\ttotal: 91.2ms\tremaining: 593ms\n",
            "20:\tlearn: 52855.2675329\ttotal: 96.2ms\tremaining: 591ms\n",
            "21:\tlearn: 52368.7749857\ttotal: 101ms\tremaining: 585ms\n",
            "22:\tlearn: 52059.0777505\ttotal: 105ms\tremaining: 579ms\n",
            "23:\tlearn: 51685.8726934\ttotal: 109ms\tremaining: 572ms\n",
            "24:\tlearn: 51399.4922312\ttotal: 113ms\tremaining: 566ms\n",
            "25:\tlearn: 51159.2625227\ttotal: 117ms\tremaining: 560ms\n",
            "26:\tlearn: 50962.7200122\ttotal: 122ms\tremaining: 555ms\n",
            "27:\tlearn: 50746.8294304\ttotal: 126ms\tremaining: 550ms\n",
            "28:\tlearn: 50592.1492065\ttotal: 130ms\tremaining: 544ms\n",
            "29:\tlearn: 50421.7294367\ttotal: 135ms\tremaining: 539ms\n",
            "30:\tlearn: 50273.7405814\ttotal: 139ms\tremaining: 532ms\n",
            "31:\tlearn: 49762.6057905\ttotal: 143ms\tremaining: 527ms\n",
            "32:\tlearn: 49533.1829398\ttotal: 147ms\tremaining: 521ms\n",
            "33:\tlearn: 49355.8419825\ttotal: 151ms\tremaining: 515ms\n",
            "34:\tlearn: 49151.1655240\ttotal: 155ms\tremaining: 510ms\n",
            "35:\tlearn: 48990.4348538\ttotal: 160ms\tremaining: 505ms\n",
            "36:\tlearn: 48892.4961940\ttotal: 164ms\tremaining: 500ms\n",
            "37:\tlearn: 48750.4971652\ttotal: 168ms\tremaining: 495ms\n",
            "38:\tlearn: 48446.6882940\ttotal: 172ms\tremaining: 489ms\n",
            "39:\tlearn: 48198.5459515\ttotal: 176ms\tremaining: 484ms\n",
            "40:\tlearn: 47921.5476809\ttotal: 181ms\tremaining: 480ms\n",
            "41:\tlearn: 47754.8632755\ttotal: 185ms\tremaining: 476ms\n",
            "42:\tlearn: 47612.9044116\ttotal: 189ms\tremaining: 470ms\n",
            "43:\tlearn: 47503.2391119\ttotal: 193ms\tremaining: 466ms\n",
            "44:\tlearn: 47300.8486620\ttotal: 199ms\tremaining: 463ms\n",
            "45:\tlearn: 47177.1124280\ttotal: 205ms\tremaining: 464ms\n",
            "46:\tlearn: 46994.9960574\ttotal: 209ms\tremaining: 458ms\n",
            "47:\tlearn: 46879.8871077\ttotal: 213ms\tremaining: 453ms\n",
            "48:\tlearn: 46731.7201176\ttotal: 217ms\tremaining: 448ms\n",
            "49:\tlearn: 46374.6605991\ttotal: 221ms\tremaining: 443ms\n",
            "50:\tlearn: 46132.8586867\ttotal: 226ms\tremaining: 438ms\n",
            "51:\tlearn: 45919.0411311\ttotal: 230ms\tremaining: 434ms\n",
            "52:\tlearn: 45603.5808174\ttotal: 234ms\tremaining: 429ms\n",
            "53:\tlearn: 45478.9141731\ttotal: 238ms\tremaining: 424ms\n",
            "54:\tlearn: 45309.7742743\ttotal: 243ms\tremaining: 419ms\n",
            "55:\tlearn: 45151.1005961\ttotal: 247ms\tremaining: 415ms\n",
            "56:\tlearn: 45017.8189622\ttotal: 251ms\tremaining: 410ms\n",
            "57:\tlearn: 44926.0050495\ttotal: 255ms\tremaining: 405ms\n",
            "58:\tlearn: 44769.2304960\ttotal: 260ms\tremaining: 401ms\n",
            "59:\tlearn: 44672.4795422\ttotal: 264ms\tremaining: 396ms\n",
            "60:\tlearn: 44484.4419472\ttotal: 268ms\tremaining: 391ms\n",
            "61:\tlearn: 44408.8836795\ttotal: 272ms\tremaining: 387ms\n",
            "62:\tlearn: 44333.9590819\ttotal: 276ms\tremaining: 382ms\n",
            "63:\tlearn: 44217.6813538\ttotal: 281ms\tremaining: 377ms\n",
            "64:\tlearn: 44143.6128142\ttotal: 285ms\tremaining: 372ms\n",
            "65:\tlearn: 43965.6188880\ttotal: 289ms\tremaining: 368ms\n",
            "66:\tlearn: 43790.5204934\ttotal: 293ms\tremaining: 363ms\n",
            "67:\tlearn: 43670.7141262\ttotal: 298ms\tremaining: 359ms\n",
            "68:\tlearn: 43569.7632352\ttotal: 302ms\tremaining: 354ms\n",
            "69:\tlearn: 43450.1832284\ttotal: 306ms\tremaining: 350ms\n",
            "70:\tlearn: 43313.4745584\ttotal: 310ms\tremaining: 345ms\n",
            "71:\tlearn: 43157.1532684\ttotal: 314ms\tremaining: 341ms\n",
            "72:\tlearn: 43062.6719813\ttotal: 319ms\tremaining: 336ms\n",
            "73:\tlearn: 42965.0039784\ttotal: 323ms\tremaining: 332ms\n",
            "74:\tlearn: 42838.0478805\ttotal: 327ms\tremaining: 327ms\n",
            "75:\tlearn: 42764.3636328\ttotal: 331ms\tremaining: 322ms\n",
            "76:\tlearn: 42660.3818403\ttotal: 335ms\tremaining: 318ms\n",
            "77:\tlearn: 42585.9046808\ttotal: 339ms\tremaining: 313ms\n",
            "78:\tlearn: 42403.7368796\ttotal: 343ms\tremaining: 309ms\n",
            "79:\tlearn: 42271.7508928\ttotal: 348ms\tremaining: 304ms\n",
            "80:\tlearn: 42189.9690468\ttotal: 352ms\tremaining: 300ms\n",
            "81:\tlearn: 42101.7441426\ttotal: 356ms\tremaining: 295ms\n",
            "82:\tlearn: 41977.2791464\ttotal: 361ms\tremaining: 292ms\n",
            "83:\tlearn: 41874.7969153\ttotal: 368ms\tremaining: 289ms\n",
            "84:\tlearn: 41771.6081153\ttotal: 372ms\tremaining: 284ms\n",
            "85:\tlearn: 41699.9843944\ttotal: 376ms\tremaining: 280ms\n",
            "86:\tlearn: 41608.4457901\ttotal: 380ms\tremaining: 275ms\n",
            "87:\tlearn: 41505.5733224\ttotal: 384ms\tremaining: 271ms\n",
            "88:\tlearn: 41447.5480286\ttotal: 389ms\tremaining: 266ms\n",
            "89:\tlearn: 41376.3949806\ttotal: 395ms\tremaining: 263ms\n",
            "90:\tlearn: 41317.1483330\ttotal: 402ms\tremaining: 261ms\n",
            "91:\tlearn: 41213.1996049\ttotal: 407ms\tremaining: 256ms\n",
            "92:\tlearn: 41122.2394331\ttotal: 411ms\tremaining: 252ms\n",
            "93:\tlearn: 41047.0422839\ttotal: 415ms\tremaining: 247ms\n",
            "94:\tlearn: 40954.9637440\ttotal: 420ms\tremaining: 243ms\n",
            "95:\tlearn: 40878.8861705\ttotal: 424ms\tremaining: 238ms\n",
            "96:\tlearn: 40838.1034936\ttotal: 428ms\tremaining: 234ms\n",
            "97:\tlearn: 40767.5093394\ttotal: 432ms\tremaining: 229ms\n",
            "98:\tlearn: 40710.3985567\ttotal: 436ms\tremaining: 225ms\n",
            "99:\tlearn: 40639.7561422\ttotal: 440ms\tremaining: 220ms\n",
            "100:\tlearn: 40579.6572761\ttotal: 444ms\tremaining: 216ms\n",
            "101:\tlearn: 40446.9348143\ttotal: 449ms\tremaining: 211ms\n",
            "102:\tlearn: 40395.7201544\ttotal: 453ms\tremaining: 207ms\n",
            "103:\tlearn: 40352.9326565\ttotal: 457ms\tremaining: 202ms\n",
            "104:\tlearn: 40295.2913566\ttotal: 461ms\tremaining: 198ms\n",
            "105:\tlearn: 40212.2686382\ttotal: 466ms\tremaining: 193ms\n",
            "106:\tlearn: 40133.8174555\ttotal: 470ms\tremaining: 189ms\n",
            "107:\tlearn: 40069.7219709\ttotal: 474ms\tremaining: 184ms\n",
            "108:\tlearn: 39972.3709478\ttotal: 478ms\tremaining: 180ms\n",
            "109:\tlearn: 39886.4190522\ttotal: 483ms\tremaining: 176ms\n",
            "110:\tlearn: 39829.5476176\ttotal: 487ms\tremaining: 171ms\n",
            "111:\tlearn: 39755.2029536\ttotal: 491ms\tremaining: 167ms\n",
            "112:\tlearn: 39691.1758056\ttotal: 495ms\tremaining: 162ms\n",
            "113:\tlearn: 39593.3629522\ttotal: 500ms\tremaining: 158ms\n",
            "114:\tlearn: 39525.1908243\ttotal: 504ms\tremaining: 153ms\n",
            "115:\tlearn: 39456.0893620\ttotal: 508ms\tremaining: 149ms\n",
            "116:\tlearn: 39400.8886960\ttotal: 513ms\tremaining: 145ms\n",
            "117:\tlearn: 39316.4662772\ttotal: 517ms\tremaining: 140ms\n",
            "118:\tlearn: 39246.0729009\ttotal: 521ms\tremaining: 136ms\n",
            "119:\tlearn: 39181.3484144\ttotal: 526ms\tremaining: 131ms\n",
            "120:\tlearn: 39086.8441914\ttotal: 530ms\tremaining: 127ms\n",
            "121:\tlearn: 38984.6586291\ttotal: 534ms\tremaining: 123ms\n",
            "122:\tlearn: 38936.0107646\ttotal: 539ms\tremaining: 118ms\n",
            "123:\tlearn: 38894.4473455\ttotal: 543ms\tremaining: 114ms\n",
            "124:\tlearn: 38821.9636190\ttotal: 547ms\tremaining: 109ms\n",
            "125:\tlearn: 38721.4220973\ttotal: 551ms\tremaining: 105ms\n",
            "126:\tlearn: 38673.8119430\ttotal: 556ms\tremaining: 101ms\n",
            "127:\tlearn: 38605.0293348\ttotal: 560ms\tremaining: 96.2ms\n",
            "128:\tlearn: 38561.4164075\ttotal: 564ms\tremaining: 91.8ms\n",
            "129:\tlearn: 38506.8091151\ttotal: 568ms\tremaining: 87.4ms\n",
            "130:\tlearn: 38408.5594613\ttotal: 572ms\tremaining: 83ms\n",
            "131:\tlearn: 38336.3408721\ttotal: 576ms\tremaining: 78.6ms\n",
            "132:\tlearn: 38298.4390460\ttotal: 580ms\tremaining: 74.2ms\n",
            "133:\tlearn: 38254.9666266\ttotal: 585ms\tremaining: 69.8ms\n",
            "134:\tlearn: 38204.5216877\ttotal: 594ms\tremaining: 66ms\n",
            "135:\tlearn: 38165.6930635\ttotal: 599ms\tremaining: 61.7ms\n",
            "136:\tlearn: 38103.2014769\ttotal: 603ms\tremaining: 57.2ms\n",
            "137:\tlearn: 38067.7237937\ttotal: 607ms\tremaining: 52.8ms\n",
            "138:\tlearn: 37999.5018511\ttotal: 611ms\tremaining: 48.4ms\n",
            "139:\tlearn: 37928.8675497\ttotal: 618ms\tremaining: 44.1ms\n",
            "140:\tlearn: 37870.8289732\ttotal: 629ms\tremaining: 40.2ms\n",
            "141:\tlearn: 37825.0117942\ttotal: 633ms\tremaining: 35.7ms\n",
            "142:\tlearn: 37744.7201846\ttotal: 637ms\tremaining: 31.2ms\n",
            "143:\tlearn: 37684.1817933\ttotal: 642ms\tremaining: 26.7ms\n",
            "144:\tlearn: 37630.3127605\ttotal: 646ms\tremaining: 22.3ms\n",
            "145:\tlearn: 37563.2115719\ttotal: 650ms\tremaining: 17.8ms\n",
            "146:\tlearn: 37537.0804127\ttotal: 654ms\tremaining: 13.3ms\n",
            "147:\tlearn: 37486.1876541\ttotal: 658ms\tremaining: 8.9ms\n",
            "148:\tlearn: 37437.8926186\ttotal: 663ms\tremaining: 4.45ms\n",
            "149:\tlearn: 37382.0865603\ttotal: 667ms\tremaining: 0us\n"
          ],
          "name": "stdout"
        },
        {
          "output_type": "execute_result",
          "data": {
            "text/plain": [
              "RandomizedSearchCV(cv=5, error_score=nan,\n",
              "                   estimator=<catboost.core.CatBoostRegressor object at 0x7f4a4b03bf90>,\n",
              "                   iid='deprecated', n_iter=10, n_jobs=-1,\n",
              "                   param_distributions={'learning_rate': array([0.   , 0.075, 0.15 , 0.225, 0.3  ]),\n",
              "                                        'n_estimators': [5, 150]},\n",
              "                   pre_dispatch='2*n_jobs', random_state=42, refit=True,\n",
              "                   return_train_score=True, scoring='r2', verbose=0)"
            ]
          },
          "metadata": {
            "tags": []
          },
          "execution_count": 66
        }
      ]
    },
    {
      "cell_type": "code",
      "metadata": {
        "colab": {
          "base_uri": "https://localhost:8080/"
        },
        "id": "hKxz1qm5EaZj",
        "outputId": "5b4600a9-8be7-4125-a869-044bc17b0488"
      },
      "source": [
        "# summarize result\n",
        "print(rscv.best_params_)\n",
        "print(rscv.score(X_test , y_test))"
      ],
      "execution_count": 67,
      "outputs": [
        {
          "output_type": "stream",
          "text": [
            "{'n_estimators': 150, 'learning_rate': 0.22499999999999998}\n",
            "0.8020623499675794\n"
          ],
          "name": "stdout"
        }
      ]
    },
    {
      "cell_type": "code",
      "metadata": {
        "colab": {
          "base_uri": "https://localhost:8080/"
        },
        "id": "ixsqP3IIEeAp",
        "outputId": "d2eda97c-e634-4728-fc9f-afaefe0be982"
      },
      "source": [
        "#Predict on test data\n",
        "y_pred = rscv.predict(X_test)\n",
        "\n",
        "#Metrics Calculation\n",
        "r2 = round(metrics.r2_score(y_test, y_pred),2)\n",
        "Adj_r2 = round(1-(1-r2)*(9-1)/(9-1-1),2)\n",
        "\n",
        "#Display results\n",
        "print(color.BOLD + '\\nR2 score is ',r2)\n",
        "\n",
        "print(color.BOLD + '\\nAdjusted R2 score is ',Adj_r2)\n",
        "\n",
        "print(color.BOLD + '\\nMean Absolute Error is',round(metrics.mean_absolute_error(y_test,rscv.predict(X_test)),2))\n",
        "\n",
        "print(color.BOLD + '\\nMean Squared Error is',round(metrics.mean_squared_error(y_test,rscv.predict(X_test)),2))\n",
        "\n",
        "print(color.BOLD + '\\nRoot Mean Squared Error is',round(np.sqrt(mean_squared_error(y_test,rscv.predict(X_test))),2))"
      ],
      "execution_count": 68,
      "outputs": [
        {
          "output_type": "stream",
          "text": [
            "\u001b[1m\n",
            "R2 score is  0.8\n",
            "\u001b[1m\n",
            "Adjusted R2 score is  0.77\n",
            "\u001b[1m\n",
            "Mean Absolute Error is 29849.05\n",
            "\u001b[1m\n",
            "Mean Squared Error is 1871522005.75\n",
            "\u001b[1m\n",
            "Root Mean Squared Error is 43261.09\n"
          ],
          "name": "stdout"
        }
      ]
    },
    {
      "cell_type": "markdown",
      "metadata": {
        "id": "iwS1FfCANahe"
      },
      "source": [
        "### Light GBM Tuning"
      ]
    },
    {
      "cell_type": "code",
      "metadata": {
        "colab": {
          "base_uri": "https://localhost:8080/"
        },
        "id": "XXehILI_L8Zq",
        "outputId": "f04c2324-b911-4d6f-b70d-ef51b984c2aa"
      },
      "source": [
        "#Randomized Search CV\n",
        "n_estimators = [int(x) for x in np.linspace(start = 5 , stop = 300, num = 2)]\n",
        "\n",
        "max_depth = [int(x) for x in np.linspace(3, 400, num = 2)] \n",
        "\n",
        "max_depth.append(None)\n",
        "\n",
        "grid = {'n_estimators': n_estimators,'learning_rate' : np.linspace(0,0.5,5)}\n",
        "\n",
        "print(grid)"
      ],
      "execution_count": 69,
      "outputs": [
        {
          "output_type": "stream",
          "text": [
            "{'n_estimators': [5, 300], 'learning_rate': array([0.   , 0.125, 0.25 , 0.375, 0.5  ])}\n"
          ],
          "name": "stdout"
        }
      ]
    },
    {
      "cell_type": "code",
      "metadata": {
        "colab": {
          "base_uri": "https://localhost:8080/"
        },
        "id": "FcTBU4HKMQy2",
        "outputId": "9bf51ea1-0319-4108-b85a-c82656313be3"
      },
      "source": [
        "rscv = RandomizedSearchCV(      estimator=lg, \n",
        "                                param_distributions=grid, \n",
        "                                n_iter = 15, \n",
        "                                scoring='r2',\n",
        "                                cv = 9, \n",
        "                                verbose=0, \n",
        "                                random_state=42,\n",
        "                                n_jobs=-1,\n",
        "                                return_train_score=True)\n",
        "\n",
        "rscv.fit(X_train, y_train)"
      ],
      "execution_count": 70,
      "outputs": [
        {
          "output_type": "stream",
          "text": [
            "/usr/local/lib/python3.7/dist-packages/sklearn/model_selection/_search.py:281: UserWarning: The total space of parameters 10 is smaller than n_iter=15. Running 10 iterations. For exhaustive searches, use GridSearchCV.\n",
            "  % (grid_size, self.n_iter, grid_size), UserWarning)\n"
          ],
          "name": "stderr"
        },
        {
          "output_type": "execute_result",
          "data": {
            "text/plain": [
              "RandomizedSearchCV(cv=9, error_score=nan,\n",
              "                   estimator=LGBMRegressor(boosting_type='gbdt',\n",
              "                                           class_weight=None,\n",
              "                                           colsample_bytree=1.0,\n",
              "                                           importance_type='split',\n",
              "                                           learning_rate=0.1, max_depth=-1,\n",
              "                                           min_child_samples=20,\n",
              "                                           min_child_weight=0.001,\n",
              "                                           min_split_gain=0.0, n_estimators=100,\n",
              "                                           n_jobs=-1, num_leaves=31,\n",
              "                                           objective=None, random_state=None,\n",
              "                                           reg_alpha=0.0, reg_lambda=0.0,\n",
              "                                           silent=True, subsample=1.0,\n",
              "                                           subsample_for_bin=200000,\n",
              "                                           subsample_freq=0),\n",
              "                   iid='deprecated', n_iter=15, n_jobs=-1,\n",
              "                   param_distributions={'learning_rate': array([0.   , 0.125, 0.25 , 0.375, 0.5  ]),\n",
              "                                        'n_estimators': [5, 300]},\n",
              "                   pre_dispatch='2*n_jobs', random_state=42, refit=True,\n",
              "                   return_train_score=True, scoring='r2', verbose=0)"
            ]
          },
          "metadata": {
            "tags": []
          },
          "execution_count": 70
        }
      ]
    },
    {
      "cell_type": "code",
      "metadata": {
        "colab": {
          "base_uri": "https://localhost:8080/"
        },
        "id": "6oUoP6ESMFMC",
        "outputId": "46cf7584-f043-49c4-dbc6-b78cdb6aa043"
      },
      "source": [
        "# summarize result\n",
        "print(rscv.best_params_)\n",
        "print(rscv.score(X_test , y_test))"
      ],
      "execution_count": 71,
      "outputs": [
        {
          "output_type": "stream",
          "text": [
            "{'n_estimators': 300, 'learning_rate': 0.125}\n",
            "0.8141992918819283\n"
          ],
          "name": "stdout"
        }
      ]
    },
    {
      "cell_type": "code",
      "metadata": {
        "colab": {
          "base_uri": "https://localhost:8080/"
        },
        "id": "c_l6LsUYMHRX",
        "outputId": "07664ff1-9a99-452f-f2e3-2cf9b7941021"
      },
      "source": [
        "#Predict on test data\n",
        "y_pred = rscv.predict(X_test)\n",
        "\n",
        "#Metrics Calculation\n",
        "r2 = round(metrics.r2_score(y_test, y_pred),2)\n",
        "Adj_r2 = round(1-(1-r2)*(9-1)/(9-1-1),2)\n",
        "\n",
        "#Display results\n",
        "print(color.BOLD + '\\nR2 score is ',r2)\n",
        "\n",
        "print(color.BOLD + '\\nAdjusted R2 score is ',Adj_r2)\n",
        "\n",
        "print(color.BOLD + '\\nMean Absolute Error is',round(metrics.mean_absolute_error(y_test,rscv.predict(X_test)),2))\n",
        "\n",
        "print(color.BOLD + '\\nMean Squared Error is',round(metrics.mean_squared_error(y_test,rscv.predict(X_test)),2))\n",
        "\n",
        "print(color.BOLD + '\\nRoot Mean Squared Error is',round(np.sqrt(mean_squared_error(y_test,rscv.predict(X_test))),2))"
      ],
      "execution_count": 72,
      "outputs": [
        {
          "output_type": "stream",
          "text": [
            "\u001b[1m\n",
            "R2 score is  0.81\n",
            "\u001b[1m\n",
            "Adjusted R2 score is  0.78\n",
            "\u001b[1m\n",
            "Mean Absolute Error is 28711.27\n",
            "\u001b[1m\n",
            "Mean Squared Error is 1756765900.12\n",
            "\u001b[1m\n",
            "Root Mean Squared Error is 41913.79\n"
          ],
          "name": "stdout"
        }
      ]
    },
    {
      "cell_type": "code",
      "metadata": {
        "colab": {
          "base_uri": "https://localhost:8080/"
        },
        "id": "MxiAQ-V17lBC",
        "outputId": "1add4417-7942-44ed-e577-fa860fa12179"
      },
      "source": [
        "#House prices after tuning\n",
        "print('\\nPrediction of CatBoost is ',cat.predict([[-122.22,37.86,21,7099,1106,2401,1138,8.3014,0]]))\n",
        "print('\\nPrediction of Light GBM is ',lg.predict([[-122.22,37.86,21,7099,1106,2401,1138,8.3014,0]]))"
      ],
      "execution_count": 80,
      "outputs": [
        {
          "output_type": "stream",
          "text": [
            "\n",
            "Prediction of CatBoost is  [472459.68824591]\n",
            "\n",
            "Prediction of Light GBM is  [430758.97756016]\n"
          ],
          "name": "stdout"
        }
      ]
    },
    {
      "cell_type": "markdown",
      "metadata": {
        "id": "64BPpQR-27-b"
      },
      "source": [
        "### Exporting the Model"
      ]
    },
    {
      "cell_type": "markdown",
      "metadata": {
        "id": "zPvnVPK9NwSx"
      },
      "source": [
        "\n",
        "\n",
        "> Based on hyperparameter tuning, we can either choose Catboost or LightGBM(preferred)\n",
        "\n"
      ]
    },
    {
      "cell_type": "code",
      "metadata": {
        "id": "Kk6fLKUpExO6"
      },
      "source": [
        "#Exporting the model using joblib library\n",
        "import joblib\n",
        "joblib.dump(lg,\"California_Model.pkl\")"
      ],
      "execution_count": null,
      "outputs": []
    }
  ]
}